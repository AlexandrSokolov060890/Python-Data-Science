{
 "cells": [
  {
   "cell_type": "markdown",
   "metadata": {
    "papermill": {
     "duration": 0.106185,
     "end_time": "2022-06-15T12:28:55.428492",
     "exception": false,
     "start_time": "2022-06-15T12:28:55.322307",
     "status": "completed"
    },
    "tags": []
   },
   "source": [
    "# Курсовой проект.\n",
    "\n",
    "### Задание для курсового проекта\n",
    "\n",
    "Метрика:\n",
    "R2 - коэффициент детерминации (sklearn.metrics.r2_score)\n",
    "\n",
    "Сдача проекта:\n",
    "1. Сдать проект нужно в течение 7 дней после окончания последнего вебинара.\n",
    "2. Прислать в раздел Задания Урока 10 (\"Вебинар. Консультация по итоговому проекту\") ссылку на ноутбук в github или public kaggle notebook.\n",
    "3. Необходимо получить R2 > 0.6 на Private Leaderboard.\n",
    "4. Укажите свой ник на kaggle \n",
    "\n",
    "\n",
    "Примечание:\n",
    "Все файлы csv должны содержать названия полей (header - то есть \"шапку\"),разделитель - запятая. В файлах не должны содержаться индексы из датафрейма.\n",
    "____________\n",
    "Рекомендации для файла с кодом (ipynb):\n",
    "1. Файл должен содержать заголовки и комментарии\n",
    "2. Повторяющиеся операции лучше оформлять в виде функций\n",
    "3. По возможности добавлять графики, описывающие данные (около 3-5)\n",
    "4. Добавлять только лучшую модель, то есть не включать в код все варианты решения проекта\n",
    "5. Скрипт проекта должен отрабатывать от начала и до конца (от загрузки данных до выгрузки предсказаний)\n",
    "6. Весь проект должен быть в одном скрипте (файл ipynb).\n",
    "7. При использовании статистик (среднее, медиана и т.д.) в качестве признаков, лучше считать их на трейне, и потом на валидационных и тестовых данных не считать статистики заново, а брать их с трейна.\n",
    "8. Проект должен полностью отрабатывать за разумное время (не больше 10 минут), поэтому в финальный вариант лучше не включать GridSearch с перебором большого количества сочетаний параметров. "
   ]
  },
  {
   "cell_type": "markdown",
   "metadata": {
    "papermill": {
     "duration": 0.102085,
     "end_time": "2022-06-15T12:28:55.840199",
     "exception": false,
     "start_time": "2022-06-15T12:28:55.738114",
     "status": "completed"
    },
    "tags": []
   },
   "source": [
    "**Подключение библиотек и скриптов**"
   ]
  },
  {
   "cell_type": "code",
   "execution_count": 1,
   "metadata": {
    "execution": {
     "iopub.execute_input": "2022-06-15T12:28:56.270416Z",
     "iopub.status.busy": "2022-06-15T12:28:56.269724Z",
     "iopub.status.idle": "2022-06-15T12:28:57.568519Z",
     "shell.execute_reply": "2022-06-15T12:28:57.567861Z",
     "shell.execute_reply.started": "2022-06-15T12:19:34.667665Z"
    },
    "papermill": {
     "duration": 1.405027,
     "end_time": "2022-06-15T12:28:57.568643",
     "exception": false,
     "start_time": "2022-06-15T12:28:56.163616",
     "status": "completed"
    },
    "tags": []
   },
   "outputs": [],
   "source": [
    "import numpy as np\n",
    "import pandas as pd\n",
    "\n",
    "from sklearn.model_selection import train_test_split, cross_val_score\n",
    "from sklearn.preprocessing import StandardScaler, MinMaxScaler\n",
    "from sklearn.ensemble import RandomForestRegressor\n",
    "from sklearn.metrics import r2_score as r2\n",
    "from sklearn.model_selection import KFold, GridSearchCV\n",
    "\n",
    "from datetime import datetime\n",
    "\n",
    "import matplotlib\n",
    "import matplotlib.pyplot as plt\n",
    "import seaborn as sns\n",
    "%matplotlib inline"
   ]
  },
  {
   "cell_type": "code",
   "execution_count": 2,
   "metadata": {
    "execution": {
     "iopub.execute_input": "2022-06-15T12:28:57.782701Z",
     "iopub.status.busy": "2022-06-15T12:28:57.781567Z",
     "iopub.status.idle": "2022-06-15T12:28:57.784785Z",
     "shell.execute_reply": "2022-06-15T12:28:57.784107Z",
     "shell.execute_reply.started": "2022-06-15T12:19:34.787609Z"
    },
    "papermill": {
     "duration": 0.111096,
     "end_time": "2022-06-15T12:28:57.784906",
     "exception": false,
     "start_time": "2022-06-15T12:28:57.673810",
     "status": "completed"
    },
    "tags": []
   },
   "outputs": [],
   "source": [
    "import warnings\n",
    "warnings.filterwarnings('ignore')"
   ]
  },
  {
   "cell_type": "code",
   "execution_count": 3,
   "metadata": {
    "execution": {
     "iopub.execute_input": "2022-06-15T12:28:58.011362Z",
     "iopub.status.busy": "2022-06-15T12:28:58.010335Z",
     "iopub.status.idle": "2022-06-15T12:28:58.015147Z",
     "shell.execute_reply": "2022-06-15T12:28:58.015773Z",
     "shell.execute_reply.started": "2022-06-15T12:19:34.959898Z"
    },
    "papermill": {
     "duration": 0.117598,
     "end_time": "2022-06-15T12:28:58.015917",
     "exception": false,
     "start_time": "2022-06-15T12:28:57.898319",
     "status": "completed"
    },
    "tags": []
   },
   "outputs": [],
   "source": [
    "matplotlib.rcParams.update({'font.size': 14})"
   ]
  },
  {
   "cell_type": "code",
   "execution_count": 4,
   "metadata": {
    "execution": {
     "iopub.execute_input": "2022-06-15T12:28:58.225422Z",
     "iopub.status.busy": "2022-06-15T12:28:58.224395Z",
     "iopub.status.idle": "2022-06-15T12:28:58.234202Z",
     "shell.execute_reply": "2022-06-15T12:28:58.234826Z",
     "shell.execute_reply.started": "2022-06-15T12:19:35.097410Z"
    },
    "papermill": {
     "duration": 0.116364,
     "end_time": "2022-06-15T12:28:58.234994",
     "exception": false,
     "start_time": "2022-06-15T12:28:58.118630",
     "status": "completed"
    },
    "tags": []
   },
   "outputs": [],
   "source": [
    "def evaluate_preds(train_true_values, train_pred_values, test_true_values, test_pred_values):\n",
    "    print(\"Train R2:\\t\" + str(round(r2(train_true_values, train_pred_values), 3)))\n",
    "    print(\"Test R2:\\t\" + str(round(r2(test_true_values, test_pred_values), 3)))\n",
    "    \n",
    "    plt.figure(figsize=(18,10))\n",
    "    \n",
    "    plt.subplot(121)\n",
    "    sns.scatterplot(x=train_pred_values, y=train_true_values)\n",
    "    plt.xlabel('Predicted values')\n",
    "    plt.ylabel('True values')\n",
    "    plt.title('Train sample prediction')\n",
    "    \n",
    "    plt.subplot(122)\n",
    "    sns.scatterplot(x=test_pred_values, y=test_true_values)\n",
    "    plt.xlabel('Predicted values')\n",
    "    plt.ylabel('True values')\n",
    "    plt.title('Test sample prediction')\n",
    "\n",
    "    plt.show()"
   ]
  },
  {
   "cell_type": "markdown",
   "metadata": {
    "papermill": {
     "duration": 0.114482,
     "end_time": "2022-06-15T12:28:58.476089",
     "exception": false,
     "start_time": "2022-06-15T12:28:58.361607",
     "status": "completed"
    },
    "tags": []
   },
   "source": [
    "**Пути к директориям и файлам**"
   ]
  },
  {
   "cell_type": "code",
   "execution_count": 5,
   "metadata": {
    "execution": {
     "iopub.execute_input": "2022-06-15T12:28:58.724914Z",
     "iopub.status.busy": "2022-06-15T12:28:58.723830Z",
     "iopub.status.idle": "2022-06-15T12:28:58.726092Z",
     "shell.execute_reply": "2022-06-15T12:28:58.726912Z",
     "shell.execute_reply.started": "2022-06-15T12:19:35.212370Z"
    },
    "papermill": {
     "duration": 0.136579,
     "end_time": "2022-06-15T12:28:58.727129",
     "exception": false,
     "start_time": "2022-06-15T12:28:58.590550",
     "status": "completed"
    },
    "tags": []
   },
   "outputs": [],
   "source": [
    "TRAIN_DATASET_PATH = 'train.csv'\n",
    "TEST_DATASET_PATH = 'test.csv'"
   ]
  },
  {
   "cell_type": "markdown",
   "metadata": {
    "papermill": {
     "duration": 0.105725,
     "end_time": "2022-06-15T12:28:58.948404",
     "exception": false,
     "start_time": "2022-06-15T12:28:58.842679",
     "status": "completed"
    },
    "tags": []
   },
   "source": [
    "### Загрузка данных <a class='anchor' id='load'>"
   ]
  },
  {
   "cell_type": "markdown",
   "metadata": {
    "papermill": {
     "duration": 0.101939,
     "end_time": "2022-06-15T12:28:59.154325",
     "exception": false,
     "start_time": "2022-06-15T12:28:59.052386",
     "status": "completed"
    },
    "tags": []
   },
   "source": [
    "**Описание датасета**\n",
    "\n",
    "* **Id** - идентификационный номер квартиры\n",
    "* **DistrictId** - идентификационный номер района\n",
    "* **Rooms** - количество комнат\n",
    "* **Square** - площадь\n",
    "* **LifeSquare** - жилая площадь\n",
    "* **KitchenSquare** - площадь кухни\n",
    "* **Floor** - этаж\n",
    "* **HouseFloor** - количество этажей в доме\n",
    "* **HouseYear** - год постройки дома\n",
    "* **Ecology_1, Ecology_2, Ecology_3** - экологические показатели местности\n",
    "* **Social_1, Social_2, Social_3** - социальные показатели местности\n",
    "* **Healthcare_1, Helthcare_2** - показатели местности, связанные с охраной здоровья\n",
    "* **Shops_1, Shops_2** - показатели, связанные с наличием магазинов, торговых центров\n",
    "* **Price** - цена квартиры"
   ]
  },
  {
   "cell_type": "code",
   "execution_count": 6,
   "metadata": {
    "execution": {
     "iopub.execute_input": "2022-06-15T12:28:59.363900Z",
     "iopub.status.busy": "2022-06-15T12:28:59.363283Z",
     "iopub.status.idle": "2022-06-15T12:28:59.451163Z",
     "shell.execute_reply": "2022-06-15T12:28:59.451768Z",
     "shell.execute_reply.started": "2022-06-15T12:19:35.361814Z"
    },
    "papermill": {
     "duration": 0.193648,
     "end_time": "2022-06-15T12:28:59.451923",
     "exception": false,
     "start_time": "2022-06-15T12:28:59.258275",
     "status": "completed"
    },
    "tags": []
   },
   "outputs": [
    {
     "data": {
      "text/html": [
       "<div>\n",
       "<style scoped>\n",
       "    .dataframe tbody tr th:only-of-type {\n",
       "        vertical-align: middle;\n",
       "    }\n",
       "\n",
       "    .dataframe tbody tr th {\n",
       "        vertical-align: top;\n",
       "    }\n",
       "\n",
       "    .dataframe thead th {\n",
       "        text-align: right;\n",
       "    }\n",
       "</style>\n",
       "<table border=\"1\" class=\"dataframe\">\n",
       "  <thead>\n",
       "    <tr style=\"text-align: right;\">\n",
       "      <th></th>\n",
       "      <th>Id</th>\n",
       "      <th>DistrictId</th>\n",
       "      <th>Rooms</th>\n",
       "      <th>Square</th>\n",
       "      <th>LifeSquare</th>\n",
       "      <th>KitchenSquare</th>\n",
       "      <th>Floor</th>\n",
       "      <th>HouseFloor</th>\n",
       "      <th>HouseYear</th>\n",
       "      <th>Ecology_1</th>\n",
       "      <th>Ecology_2</th>\n",
       "      <th>Ecology_3</th>\n",
       "      <th>Social_1</th>\n",
       "      <th>Social_2</th>\n",
       "      <th>Social_3</th>\n",
       "      <th>Healthcare_1</th>\n",
       "      <th>Helthcare_2</th>\n",
       "      <th>Shops_1</th>\n",
       "      <th>Shops_2</th>\n",
       "      <th>Price</th>\n",
       "    </tr>\n",
       "  </thead>\n",
       "  <tbody>\n",
       "    <tr>\n",
       "      <th>0</th>\n",
       "      <td>11809</td>\n",
       "      <td>27</td>\n",
       "      <td>3.0</td>\n",
       "      <td>115.027311</td>\n",
       "      <td>NaN</td>\n",
       "      <td>10.0</td>\n",
       "      <td>4</td>\n",
       "      <td>10.0</td>\n",
       "      <td>2014</td>\n",
       "      <td>0.075424</td>\n",
       "      <td>B</td>\n",
       "      <td>B</td>\n",
       "      <td>11</td>\n",
       "      <td>3097</td>\n",
       "      <td>0</td>\n",
       "      <td>NaN</td>\n",
       "      <td>0</td>\n",
       "      <td>0</td>\n",
       "      <td>B</td>\n",
       "      <td>305018.871089</td>\n",
       "    </tr>\n",
       "    <tr>\n",
       "      <th>1</th>\n",
       "      <td>3013</td>\n",
       "      <td>22</td>\n",
       "      <td>1.0</td>\n",
       "      <td>39.832524</td>\n",
       "      <td>23.169223</td>\n",
       "      <td>8.0</td>\n",
       "      <td>7</td>\n",
       "      <td>8.0</td>\n",
       "      <td>1966</td>\n",
       "      <td>0.118537</td>\n",
       "      <td>B</td>\n",
       "      <td>B</td>\n",
       "      <td>30</td>\n",
       "      <td>6207</td>\n",
       "      <td>1</td>\n",
       "      <td>1183.0</td>\n",
       "      <td>1</td>\n",
       "      <td>0</td>\n",
       "      <td>B</td>\n",
       "      <td>177734.553407</td>\n",
       "    </tr>\n",
       "    <tr>\n",
       "      <th>2</th>\n",
       "      <td>8215</td>\n",
       "      <td>1</td>\n",
       "      <td>3.0</td>\n",
       "      <td>78.342215</td>\n",
       "      <td>47.671972</td>\n",
       "      <td>10.0</td>\n",
       "      <td>2</td>\n",
       "      <td>17.0</td>\n",
       "      <td>1988</td>\n",
       "      <td>0.025609</td>\n",
       "      <td>B</td>\n",
       "      <td>B</td>\n",
       "      <td>33</td>\n",
       "      <td>5261</td>\n",
       "      <td>0</td>\n",
       "      <td>240.0</td>\n",
       "      <td>3</td>\n",
       "      <td>1</td>\n",
       "      <td>B</td>\n",
       "      <td>282078.720850</td>\n",
       "    </tr>\n",
       "    <tr>\n",
       "      <th>3</th>\n",
       "      <td>2352</td>\n",
       "      <td>1</td>\n",
       "      <td>1.0</td>\n",
       "      <td>40.409907</td>\n",
       "      <td>NaN</td>\n",
       "      <td>1.0</td>\n",
       "      <td>10</td>\n",
       "      <td>22.0</td>\n",
       "      <td>1977</td>\n",
       "      <td>0.007122</td>\n",
       "      <td>B</td>\n",
       "      <td>B</td>\n",
       "      <td>1</td>\n",
       "      <td>264</td>\n",
       "      <td>0</td>\n",
       "      <td>NaN</td>\n",
       "      <td>0</td>\n",
       "      <td>1</td>\n",
       "      <td>B</td>\n",
       "      <td>168106.007630</td>\n",
       "    </tr>\n",
       "    <tr>\n",
       "      <th>4</th>\n",
       "      <td>13866</td>\n",
       "      <td>94</td>\n",
       "      <td>2.0</td>\n",
       "      <td>64.285067</td>\n",
       "      <td>38.562517</td>\n",
       "      <td>9.0</td>\n",
       "      <td>16</td>\n",
       "      <td>16.0</td>\n",
       "      <td>1972</td>\n",
       "      <td>0.282798</td>\n",
       "      <td>B</td>\n",
       "      <td>B</td>\n",
       "      <td>33</td>\n",
       "      <td>8667</td>\n",
       "      <td>2</td>\n",
       "      <td>NaN</td>\n",
       "      <td>0</td>\n",
       "      <td>6</td>\n",
       "      <td>B</td>\n",
       "      <td>343995.102962</td>\n",
       "    </tr>\n",
       "    <tr>\n",
       "      <th>5</th>\n",
       "      <td>5804</td>\n",
       "      <td>99</td>\n",
       "      <td>3.0</td>\n",
       "      <td>62.528465</td>\n",
       "      <td>47.103833</td>\n",
       "      <td>6.0</td>\n",
       "      <td>9</td>\n",
       "      <td>9.0</td>\n",
       "      <td>1972</td>\n",
       "      <td>0.012339</td>\n",
       "      <td>B</td>\n",
       "      <td>B</td>\n",
       "      <td>35</td>\n",
       "      <td>5776</td>\n",
       "      <td>1</td>\n",
       "      <td>2078.0</td>\n",
       "      <td>2</td>\n",
       "      <td>4</td>\n",
       "      <td>B</td>\n",
       "      <td>161044.944138</td>\n",
       "    </tr>\n",
       "    <tr>\n",
       "      <th>6</th>\n",
       "      <td>8864</td>\n",
       "      <td>44</td>\n",
       "      <td>1.0</td>\n",
       "      <td>33.938750</td>\n",
       "      <td>21.772930</td>\n",
       "      <td>9.0</td>\n",
       "      <td>1</td>\n",
       "      <td>12.0</td>\n",
       "      <td>1968</td>\n",
       "      <td>0.232205</td>\n",
       "      <td>B</td>\n",
       "      <td>B</td>\n",
       "      <td>24</td>\n",
       "      <td>4860</td>\n",
       "      <td>1</td>\n",
       "      <td>80.0</td>\n",
       "      <td>0</td>\n",
       "      <td>3</td>\n",
       "      <td>B</td>\n",
       "      <td>142402.739272</td>\n",
       "    </tr>\n",
       "    <tr>\n",
       "      <th>7</th>\n",
       "      <td>13072</td>\n",
       "      <td>59</td>\n",
       "      <td>2.0</td>\n",
       "      <td>50.391814</td>\n",
       "      <td>32.893256</td>\n",
       "      <td>8.0</td>\n",
       "      <td>8</td>\n",
       "      <td>17.0</td>\n",
       "      <td>1986</td>\n",
       "      <td>0.019509</td>\n",
       "      <td>B</td>\n",
       "      <td>B</td>\n",
       "      <td>37</td>\n",
       "      <td>7687</td>\n",
       "      <td>11</td>\n",
       "      <td>176.0</td>\n",
       "      <td>5</td>\n",
       "      <td>5</td>\n",
       "      <td>B</td>\n",
       "      <td>326174.175191</td>\n",
       "    </tr>\n",
       "  </tbody>\n",
       "</table>\n",
       "</div>"
      ],
      "text/plain": [
       "      Id  DistrictId  Rooms      Square  LifeSquare  KitchenSquare  Floor  \\\n",
       "0  11809          27    3.0  115.027311         NaN           10.0      4   \n",
       "1   3013          22    1.0   39.832524   23.169223            8.0      7   \n",
       "2   8215           1    3.0   78.342215   47.671972           10.0      2   \n",
       "3   2352           1    1.0   40.409907         NaN            1.0     10   \n",
       "4  13866          94    2.0   64.285067   38.562517            9.0     16   \n",
       "5   5804          99    3.0   62.528465   47.103833            6.0      9   \n",
       "6   8864          44    1.0   33.938750   21.772930            9.0      1   \n",
       "7  13072          59    2.0   50.391814   32.893256            8.0      8   \n",
       "\n",
       "   HouseFloor  HouseYear  Ecology_1 Ecology_2 Ecology_3  Social_1  Social_2  \\\n",
       "0        10.0       2014   0.075424         B         B        11      3097   \n",
       "1         8.0       1966   0.118537         B         B        30      6207   \n",
       "2        17.0       1988   0.025609         B         B        33      5261   \n",
       "3        22.0       1977   0.007122         B         B         1       264   \n",
       "4        16.0       1972   0.282798         B         B        33      8667   \n",
       "5         9.0       1972   0.012339         B         B        35      5776   \n",
       "6        12.0       1968   0.232205         B         B        24      4860   \n",
       "7        17.0       1986   0.019509         B         B        37      7687   \n",
       "\n",
       "   Social_3  Healthcare_1  Helthcare_2  Shops_1 Shops_2          Price  \n",
       "0         0           NaN            0        0       B  305018.871089  \n",
       "1         1        1183.0            1        0       B  177734.553407  \n",
       "2         0         240.0            3        1       B  282078.720850  \n",
       "3         0           NaN            0        1       B  168106.007630  \n",
       "4         2           NaN            0        6       B  343995.102962  \n",
       "5         1        2078.0            2        4       B  161044.944138  \n",
       "6         1          80.0            0        3       B  142402.739272  \n",
       "7        11         176.0            5        5       B  326174.175191  "
      ]
     },
     "execution_count": 6,
     "metadata": {},
     "output_type": "execute_result"
    }
   ],
   "source": [
    "train_df = pd.read_csv(TRAIN_DATASET_PATH)\n",
    "train_df.head(8)"
   ]
  },
  {
   "cell_type": "code",
   "execution_count": 7,
   "metadata": {
    "execution": {
     "iopub.execute_input": "2022-06-15T12:28:59.662349Z",
     "iopub.status.busy": "2022-06-15T12:28:59.661730Z",
     "iopub.status.idle": "2022-06-15T12:28:59.670020Z",
     "shell.execute_reply": "2022-06-15T12:28:59.669464Z",
     "shell.execute_reply.started": "2022-06-15T12:19:35.476508Z"
    },
    "papermill": {
     "duration": 0.115034,
     "end_time": "2022-06-15T12:28:59.670133",
     "exception": false,
     "start_time": "2022-06-15T12:28:59.555099",
     "status": "completed"
    },
    "tags": []
   },
   "outputs": [
    {
     "name": "stdout",
     "output_type": "stream",
     "text": [
      "<class 'pandas.core.frame.DataFrame'>\n",
      "RangeIndex: 10000 entries, 0 to 9999\n",
      "Data columns (total 20 columns):\n",
      " #   Column         Non-Null Count  Dtype  \n",
      "---  ------         --------------  -----  \n",
      " 0   Id             10000 non-null  int64  \n",
      " 1   DistrictId     10000 non-null  int64  \n",
      " 2   Rooms          10000 non-null  float64\n",
      " 3   Square         10000 non-null  float64\n",
      " 4   LifeSquare     7887 non-null   float64\n",
      " 5   KitchenSquare  10000 non-null  float64\n",
      " 6   Floor          10000 non-null  int64  \n",
      " 7   HouseFloor     10000 non-null  float64\n",
      " 8   HouseYear      10000 non-null  int64  \n",
      " 9   Ecology_1      10000 non-null  float64\n",
      " 10  Ecology_2      10000 non-null  object \n",
      " 11  Ecology_3      10000 non-null  object \n",
      " 12  Social_1       10000 non-null  int64  \n",
      " 13  Social_2       10000 non-null  int64  \n",
      " 14  Social_3       10000 non-null  int64  \n",
      " 15  Healthcare_1   5202 non-null   float64\n",
      " 16  Helthcare_2    10000 non-null  int64  \n",
      " 17  Shops_1        10000 non-null  int64  \n",
      " 18  Shops_2        10000 non-null  object \n",
      " 19  Price          10000 non-null  float64\n",
      "dtypes: float64(8), int64(9), object(3)\n",
      "memory usage: 3.0 MB\n"
     ]
    }
   ],
   "source": [
    "train_df.info(memory_usage='deep')"
   ]
  },
  {
   "cell_type": "code",
   "execution_count": 8,
   "metadata": {
    "execution": {
     "iopub.execute_input": "2022-06-15T12:28:59.885996Z",
     "iopub.status.busy": "2022-06-15T12:28:59.884967Z",
     "iopub.status.idle": "2022-06-15T12:28:59.941825Z",
     "shell.execute_reply": "2022-06-15T12:28:59.942674Z",
     "shell.execute_reply.started": "2022-06-15T12:19:35.623111Z"
    },
    "papermill": {
     "duration": 0.168777,
     "end_time": "2022-06-15T12:28:59.942920",
     "exception": false,
     "start_time": "2022-06-15T12:28:59.774143",
     "status": "completed"
    },
    "tags": []
   },
   "outputs": [
    {
     "data": {
      "text/html": [
       "<div>\n",
       "<style scoped>\n",
       "    .dataframe tbody tr th:only-of-type {\n",
       "        vertical-align: middle;\n",
       "    }\n",
       "\n",
       "    .dataframe tbody tr th {\n",
       "        vertical-align: top;\n",
       "    }\n",
       "\n",
       "    .dataframe thead th {\n",
       "        text-align: right;\n",
       "    }\n",
       "</style>\n",
       "<table border=\"1\" class=\"dataframe\">\n",
       "  <thead>\n",
       "    <tr style=\"text-align: right;\">\n",
       "      <th></th>\n",
       "      <th>Id</th>\n",
       "      <th>DistrictId</th>\n",
       "      <th>Rooms</th>\n",
       "      <th>Square</th>\n",
       "      <th>LifeSquare</th>\n",
       "      <th>KitchenSquare</th>\n",
       "      <th>Floor</th>\n",
       "      <th>HouseFloor</th>\n",
       "      <th>HouseYear</th>\n",
       "      <th>Ecology_1</th>\n",
       "      <th>Ecology_2</th>\n",
       "      <th>Ecology_3</th>\n",
       "      <th>Social_1</th>\n",
       "      <th>Social_2</th>\n",
       "      <th>Social_3</th>\n",
       "      <th>Healthcare_1</th>\n",
       "      <th>Helthcare_2</th>\n",
       "      <th>Shops_1</th>\n",
       "      <th>Shops_2</th>\n",
       "    </tr>\n",
       "  </thead>\n",
       "  <tbody>\n",
       "    <tr>\n",
       "      <th>4992</th>\n",
       "      <td>8834</td>\n",
       "      <td>81</td>\n",
       "      <td>1.0</td>\n",
       "      <td>36.848987</td>\n",
       "      <td>23.489930</td>\n",
       "      <td>10.0</td>\n",
       "      <td>5</td>\n",
       "      <td>12.0</td>\n",
       "      <td>1970</td>\n",
       "      <td>0.006076</td>\n",
       "      <td>B</td>\n",
       "      <td>B</td>\n",
       "      <td>30</td>\n",
       "      <td>5285</td>\n",
       "      <td>0</td>\n",
       "      <td>645.0</td>\n",
       "      <td>6</td>\n",
       "      <td>6</td>\n",
       "      <td>B</td>\n",
       "    </tr>\n",
       "    <tr>\n",
       "      <th>4993</th>\n",
       "      <td>14676</td>\n",
       "      <td>6</td>\n",
       "      <td>1.0</td>\n",
       "      <td>48.435108</td>\n",
       "      <td>NaN</td>\n",
       "      <td>1.0</td>\n",
       "      <td>18</td>\n",
       "      <td>25.0</td>\n",
       "      <td>1977</td>\n",
       "      <td>0.243205</td>\n",
       "      <td>B</td>\n",
       "      <td>B</td>\n",
       "      <td>5</td>\n",
       "      <td>1564</td>\n",
       "      <td>0</td>\n",
       "      <td>540.0</td>\n",
       "      <td>0</td>\n",
       "      <td>0</td>\n",
       "      <td>B</td>\n",
       "    </tr>\n",
       "    <tr>\n",
       "      <th>4994</th>\n",
       "      <td>13060</td>\n",
       "      <td>25</td>\n",
       "      <td>2.0</td>\n",
       "      <td>51.144906</td>\n",
       "      <td>48.979540</td>\n",
       "      <td>1.0</td>\n",
       "      <td>18</td>\n",
       "      <td>25.0</td>\n",
       "      <td>2015</td>\n",
       "      <td>0.069753</td>\n",
       "      <td>B</td>\n",
       "      <td>B</td>\n",
       "      <td>53</td>\n",
       "      <td>13670</td>\n",
       "      <td>4</td>\n",
       "      <td>NaN</td>\n",
       "      <td>1</td>\n",
       "      <td>11</td>\n",
       "      <td>B</td>\n",
       "    </tr>\n",
       "    <tr>\n",
       "      <th>4995</th>\n",
       "      <td>10379</td>\n",
       "      <td>29</td>\n",
       "      <td>2.0</td>\n",
       "      <td>43.177521</td>\n",
       "      <td>30.339945</td>\n",
       "      <td>5.0</td>\n",
       "      <td>6</td>\n",
       "      <td>5.0</td>\n",
       "      <td>1962</td>\n",
       "      <td>0.069660</td>\n",
       "      <td>B</td>\n",
       "      <td>B</td>\n",
       "      <td>31</td>\n",
       "      <td>6119</td>\n",
       "      <td>4</td>\n",
       "      <td>NaN</td>\n",
       "      <td>1</td>\n",
       "      <td>2</td>\n",
       "      <td>B</td>\n",
       "    </tr>\n",
       "    <tr>\n",
       "      <th>4996</th>\n",
       "      <td>16138</td>\n",
       "      <td>38</td>\n",
       "      <td>3.0</td>\n",
       "      <td>93.698122</td>\n",
       "      <td>94.521465</td>\n",
       "      <td>10.0</td>\n",
       "      <td>21</td>\n",
       "      <td>27.0</td>\n",
       "      <td>2018</td>\n",
       "      <td>0.060753</td>\n",
       "      <td>B</td>\n",
       "      <td>B</td>\n",
       "      <td>15</td>\n",
       "      <td>2787</td>\n",
       "      <td>2</td>\n",
       "      <td>520.0</td>\n",
       "      <td>0</td>\n",
       "      <td>7</td>\n",
       "      <td>B</td>\n",
       "    </tr>\n",
       "    <tr>\n",
       "      <th>4997</th>\n",
       "      <td>3912</td>\n",
       "      <td>101</td>\n",
       "      <td>1.0</td>\n",
       "      <td>33.656723</td>\n",
       "      <td>19.003259</td>\n",
       "      <td>5.0</td>\n",
       "      <td>2</td>\n",
       "      <td>5.0</td>\n",
       "      <td>1966</td>\n",
       "      <td>0.038693</td>\n",
       "      <td>B</td>\n",
       "      <td>B</td>\n",
       "      <td>28</td>\n",
       "      <td>6533</td>\n",
       "      <td>1</td>\n",
       "      <td>1015.0</td>\n",
       "      <td>2</td>\n",
       "      <td>5</td>\n",
       "      <td>B</td>\n",
       "    </tr>\n",
       "    <tr>\n",
       "      <th>4998</th>\n",
       "      <td>5722</td>\n",
       "      <td>10</td>\n",
       "      <td>1.0</td>\n",
       "      <td>38.635155</td>\n",
       "      <td>20.976257</td>\n",
       "      <td>9.0</td>\n",
       "      <td>8</td>\n",
       "      <td>14.0</td>\n",
       "      <td>1970</td>\n",
       "      <td>0.089040</td>\n",
       "      <td>B</td>\n",
       "      <td>B</td>\n",
       "      <td>33</td>\n",
       "      <td>7976</td>\n",
       "      <td>5</td>\n",
       "      <td>NaN</td>\n",
       "      <td>0</td>\n",
       "      <td>11</td>\n",
       "      <td>B</td>\n",
       "    </tr>\n",
       "    <tr>\n",
       "      <th>4999</th>\n",
       "      <td>11004</td>\n",
       "      <td>21</td>\n",
       "      <td>2.0</td>\n",
       "      <td>67.122742</td>\n",
       "      <td>33.944344</td>\n",
       "      <td>13.0</td>\n",
       "      <td>9</td>\n",
       "      <td>17.0</td>\n",
       "      <td>2009</td>\n",
       "      <td>0.194489</td>\n",
       "      <td>B</td>\n",
       "      <td>B</td>\n",
       "      <td>47</td>\n",
       "      <td>8004</td>\n",
       "      <td>3</td>\n",
       "      <td>125.0</td>\n",
       "      <td>3</td>\n",
       "      <td>5</td>\n",
       "      <td>B</td>\n",
       "    </tr>\n",
       "  </tbody>\n",
       "</table>\n",
       "</div>"
      ],
      "text/plain": [
       "         Id  DistrictId  Rooms     Square  LifeSquare  KitchenSquare  Floor  \\\n",
       "4992   8834          81    1.0  36.848987   23.489930           10.0      5   \n",
       "4993  14676           6    1.0  48.435108         NaN            1.0     18   \n",
       "4994  13060          25    2.0  51.144906   48.979540            1.0     18   \n",
       "4995  10379          29    2.0  43.177521   30.339945            5.0      6   \n",
       "4996  16138          38    3.0  93.698122   94.521465           10.0     21   \n",
       "4997   3912         101    1.0  33.656723   19.003259            5.0      2   \n",
       "4998   5722          10    1.0  38.635155   20.976257            9.0      8   \n",
       "4999  11004          21    2.0  67.122742   33.944344           13.0      9   \n",
       "\n",
       "      HouseFloor  HouseYear  Ecology_1 Ecology_2 Ecology_3  Social_1  \\\n",
       "4992        12.0       1970   0.006076         B         B        30   \n",
       "4993        25.0       1977   0.243205         B         B         5   \n",
       "4994        25.0       2015   0.069753         B         B        53   \n",
       "4995         5.0       1962   0.069660         B         B        31   \n",
       "4996        27.0       2018   0.060753         B         B        15   \n",
       "4997         5.0       1966   0.038693         B         B        28   \n",
       "4998        14.0       1970   0.089040         B         B        33   \n",
       "4999        17.0       2009   0.194489         B         B        47   \n",
       "\n",
       "      Social_2  Social_3  Healthcare_1  Helthcare_2  Shops_1 Shops_2  \n",
       "4992      5285         0         645.0            6        6       B  \n",
       "4993      1564         0         540.0            0        0       B  \n",
       "4994     13670         4           NaN            1       11       B  \n",
       "4995      6119         4           NaN            1        2       B  \n",
       "4996      2787         2         520.0            0        7       B  \n",
       "4997      6533         1        1015.0            2        5       B  \n",
       "4998      7976         5           NaN            0       11       B  \n",
       "4999      8004         3         125.0            3        5       B  "
      ]
     },
     "execution_count": 8,
     "metadata": {},
     "output_type": "execute_result"
    }
   ],
   "source": [
    "test_df = pd.read_csv(TEST_DATASET_PATH)\n",
    "test_df.tail(8)"
   ]
  },
  {
   "cell_type": "code",
   "execution_count": 9,
   "metadata": {
    "execution": {
     "iopub.execute_input": "2022-06-15T12:29:00.162741Z",
     "iopub.status.busy": "2022-06-15T12:29:00.162033Z",
     "iopub.status.idle": "2022-06-15T12:29:00.165136Z",
     "shell.execute_reply": "2022-06-15T12:29:00.165656Z",
     "shell.execute_reply.started": "2022-06-15T12:19:35.750075Z"
    },
    "papermill": {
     "duration": 0.11606,
     "end_time": "2022-06-15T12:29:00.165798",
     "exception": false,
     "start_time": "2022-06-15T12:29:00.049738",
     "status": "completed"
    },
    "tags": []
   },
   "outputs": [
    {
     "name": "stdout",
     "output_type": "stream",
     "text": [
      "Строк в трейне: 10000\n",
      "Строк в тесте: 5000\n"
     ]
    }
   ],
   "source": [
    "print('Строк в трейне:', train_df.shape[0])\n",
    "print('Строк в тесте:', test_df.shape[0])"
   ]
  },
  {
   "cell_type": "markdown",
   "metadata": {
    "papermill": {
     "duration": 0.104283,
     "end_time": "2022-06-15T12:29:00.422221",
     "exception": false,
     "start_time": "2022-06-15T12:29:00.317938",
     "status": "completed"
    },
    "tags": []
   },
   "source": [
    "### Приведение типов"
   ]
  },
  {
   "cell_type": "code",
   "execution_count": 10,
   "metadata": {
    "execution": {
     "iopub.execute_input": "2022-06-15T12:29:00.639835Z",
     "iopub.status.busy": "2022-06-15T12:29:00.639187Z",
     "iopub.status.idle": "2022-06-15T12:29:00.646230Z",
     "shell.execute_reply": "2022-06-15T12:29:00.646825Z",
     "shell.execute_reply.started": "2022-06-15T12:19:35.881063Z"
    },
    "papermill": {
     "duration": 0.119389,
     "end_time": "2022-06-15T12:29:00.646991",
     "exception": false,
     "start_time": "2022-06-15T12:29:00.527602",
     "status": "completed"
    },
    "tags": []
   },
   "outputs": [
    {
     "data": {
      "text/plain": [
       "Id                 int64\n",
       "DistrictId         int64\n",
       "Rooms            float64\n",
       "Square           float64\n",
       "LifeSquare       float64\n",
       "KitchenSquare    float64\n",
       "Floor              int64\n",
       "HouseFloor       float64\n",
       "HouseYear          int64\n",
       "Ecology_1        float64\n",
       "Ecology_2         object\n",
       "Ecology_3         object\n",
       "Social_1           int64\n",
       "Social_2           int64\n",
       "Social_3           int64\n",
       "Healthcare_1     float64\n",
       "Helthcare_2        int64\n",
       "Shops_1            int64\n",
       "Shops_2           object\n",
       "Price            float64\n",
       "dtype: object"
      ]
     },
     "execution_count": 10,
     "metadata": {},
     "output_type": "execute_result"
    }
   ],
   "source": [
    "train_df.dtypes"
   ]
  },
  {
   "cell_type": "code",
   "execution_count": 11,
   "metadata": {
    "execution": {
     "iopub.execute_input": "2022-06-15T12:29:00.863623Z",
     "iopub.status.busy": "2022-06-15T12:29:00.862923Z",
     "iopub.status.idle": "2022-06-15T12:29:00.880753Z",
     "shell.execute_reply": "2022-06-15T12:29:00.880074Z",
     "shell.execute_reply.started": "2022-06-15T12:19:36.001238Z"
    },
    "papermill": {
     "duration": 0.127515,
     "end_time": "2022-06-15T12:29:00.880875",
     "exception": false,
     "start_time": "2022-06-15T12:29:00.753360",
     "status": "completed"
    },
    "tags": []
   },
   "outputs": [],
   "source": [
    "train_df['Id'] = train_df['Id'].astype(str)\n",
    "train_df['DistrictId'] = train_df['DistrictId'].astype(str)"
   ]
  },
  {
   "cell_type": "markdown",
   "metadata": {
    "papermill": {
     "duration": 0.106025,
     "end_time": "2022-06-15T12:29:01.095996",
     "exception": false,
     "start_time": "2022-06-15T12:29:00.989971",
     "status": "completed"
    },
    "tags": []
   },
   "source": [
    "## Подготовка датасета:\n",
    "### - Исправления выбросов\n",
    "### - Заполнения NaN\n",
    "### - Идей для генерации новых фич"
   ]
  },
  {
   "cell_type": "markdown",
   "metadata": {
    "papermill": {
     "duration": 0.105145,
     "end_time": "2022-06-15T12:29:01.309404",
     "exception": false,
     "start_time": "2022-06-15T12:29:01.204259",
     "status": "completed"
    },
    "tags": []
   },
   "source": [
    "**Целевая переменная**"
   ]
  },
  {
   "cell_type": "code",
   "execution_count": 12,
   "metadata": {
    "execution": {
     "iopub.execute_input": "2022-06-15T12:29:01.528669Z",
     "iopub.status.busy": "2022-06-15T12:29:01.527889Z",
     "iopub.status.idle": "2022-06-15T12:29:01.832022Z",
     "shell.execute_reply": "2022-06-15T12:29:01.831247Z",
     "shell.execute_reply.started": "2022-06-15T12:19:36.116533Z"
    },
    "papermill": {
     "duration": 0.417109,
     "end_time": "2022-06-15T12:29:01.832152",
     "exception": false,
     "start_time": "2022-06-15T12:29:01.415043",
     "status": "completed"
    },
    "tags": []
   },
   "outputs": [
    {
     "data": {
      "image/png": "[encoded data removed]",
      "text/plain": [
       "<Figure size 1152x576 with 1 Axes>"
      ]
     },
     "metadata": {
      "needs_background": "light"
     },
     "output_type": "display_data"
    }
   ],
   "source": [
    "plt.figure(figsize = (16, 8))\n",
    "\n",
    "train_df['Price'].hist(bins=30)\n",
    "plt.ylabel('Count')\n",
    "plt.xlabel('Price')\n",
    "\n",
    "plt.title('Target distribution')\n",
    "plt.show()"
   ]
  },
  {
   "cell_type": "markdown",
   "metadata": {
    "papermill": {
     "duration": 0.106813,
     "end_time": "2022-06-15T12:29:02.046108",
     "exception": false,
     "start_time": "2022-06-15T12:29:01.939295",
     "status": "completed"
    },
    "tags": []
   },
   "source": [
    "Распределение целевой переменной близко к нормальному. "
   ]
  },
  {
   "cell_type": "markdown",
   "metadata": {
    "papermill": {
     "duration": 0.10626,
     "end_time": "2022-06-15T12:29:02.260334",
     "exception": false,
     "start_time": "2022-06-15T12:29:02.154074",
     "status": "completed"
    },
    "tags": []
   },
   "source": [
    "**Количественные переменные**"
   ]
  },
  {
   "cell_type": "code",
   "execution_count": 13,
   "metadata": {
    "_kg_hide-output": true,
    "execution": {
     "iopub.execute_input": "2022-06-15T12:29:02.484050Z",
     "iopub.status.busy": "2022-06-15T12:29:02.483265Z",
     "iopub.status.idle": "2022-06-15T12:29:02.626517Z",
     "shell.execute_reply": "2022-06-15T12:29:02.625854Z",
     "shell.execute_reply.started": "2022-06-15T12:19:36.473331Z"
    },
    "papermill": {
     "duration": 0.259365,
     "end_time": "2022-06-15T12:29:02.626652",
     "exception": false,
     "start_time": "2022-06-15T12:29:02.367287",
     "status": "completed"
    },
    "tags": []
   },
   "outputs": [
    {
     "data": {
      "text/html": [
       "<div>\n",
       "<style scoped>\n",
       "    .dataframe tbody tr th:only-of-type {\n",
       "        vertical-align: middle;\n",
       "    }\n",
       "\n",
       "    .dataframe tbody tr th {\n",
       "        vertical-align: top;\n",
       "    }\n",
       "\n",
       "    .dataframe thead th {\n",
       "        text-align: right;\n",
       "    }\n",
       "</style>\n",
       "<table border=\"1\" class=\"dataframe\">\n",
       "  <thead>\n",
       "    <tr style=\"text-align: right;\">\n",
       "      <th></th>\n",
       "      <th>Rooms</th>\n",
       "      <th>Square</th>\n",
       "      <th>LifeSquare</th>\n",
       "      <th>KitchenSquare</th>\n",
       "      <th>Floor</th>\n",
       "      <th>HouseFloor</th>\n",
       "      <th>HouseYear</th>\n",
       "      <th>Ecology_1</th>\n",
       "      <th>Social_1</th>\n",
       "      <th>Social_2</th>\n",
       "      <th>Social_3</th>\n",
       "      <th>Healthcare_1</th>\n",
       "      <th>Helthcare_2</th>\n",
       "      <th>Shops_1</th>\n",
       "      <th>Price</th>\n",
       "    </tr>\n",
       "  </thead>\n",
       "  <tbody>\n",
       "    <tr>\n",
       "      <th>count</th>\n",
       "      <td>10000.000000</td>\n",
       "      <td>10000.000000</td>\n",
       "      <td>7887.000000</td>\n",
       "      <td>10000.000000</td>\n",
       "      <td>10000.000000</td>\n",
       "      <td>10000.000000</td>\n",
       "      <td>1.000000e+04</td>\n",
       "      <td>10000.000000</td>\n",
       "      <td>10000.000000</td>\n",
       "      <td>10000.000000</td>\n",
       "      <td>10000.000000</td>\n",
       "      <td>5202.000000</td>\n",
       "      <td>10000.000000</td>\n",
       "      <td>10000.000000</td>\n",
       "      <td>10000.000000</td>\n",
       "    </tr>\n",
       "    <tr>\n",
       "      <th>mean</th>\n",
       "      <td>1.890500</td>\n",
       "      <td>56.315775</td>\n",
       "      <td>37.199645</td>\n",
       "      <td>6.273300</td>\n",
       "      <td>8.526700</td>\n",
       "      <td>12.609400</td>\n",
       "      <td>3.990166e+03</td>\n",
       "      <td>0.118858</td>\n",
       "      <td>24.687000</td>\n",
       "      <td>5352.157400</td>\n",
       "      <td>8.039200</td>\n",
       "      <td>1142.904460</td>\n",
       "      <td>1.319500</td>\n",
       "      <td>4.231300</td>\n",
       "      <td>214138.857399</td>\n",
       "    </tr>\n",
       "    <tr>\n",
       "      <th>std</th>\n",
       "      <td>0.839512</td>\n",
       "      <td>21.058732</td>\n",
       "      <td>86.241209</td>\n",
       "      <td>28.560917</td>\n",
       "      <td>5.241148</td>\n",
       "      <td>6.775974</td>\n",
       "      <td>2.005003e+05</td>\n",
       "      <td>0.119025</td>\n",
       "      <td>17.532614</td>\n",
       "      <td>4006.799803</td>\n",
       "      <td>23.831875</td>\n",
       "      <td>1021.517264</td>\n",
       "      <td>1.493601</td>\n",
       "      <td>4.806341</td>\n",
       "      <td>92872.293865</td>\n",
       "    </tr>\n",
       "    <tr>\n",
       "      <th>min</th>\n",
       "      <td>0.000000</td>\n",
       "      <td>1.136859</td>\n",
       "      <td>0.370619</td>\n",
       "      <td>0.000000</td>\n",
       "      <td>1.000000</td>\n",
       "      <td>0.000000</td>\n",
       "      <td>1.910000e+03</td>\n",
       "      <td>0.000000</td>\n",
       "      <td>0.000000</td>\n",
       "      <td>168.000000</td>\n",
       "      <td>0.000000</td>\n",
       "      <td>0.000000</td>\n",
       "      <td>0.000000</td>\n",
       "      <td>0.000000</td>\n",
       "      <td>59174.778028</td>\n",
       "    </tr>\n",
       "    <tr>\n",
       "      <th>25%</th>\n",
       "      <td>1.000000</td>\n",
       "      <td>41.774881</td>\n",
       "      <td>22.769832</td>\n",
       "      <td>1.000000</td>\n",
       "      <td>4.000000</td>\n",
       "      <td>9.000000</td>\n",
       "      <td>1.974000e+03</td>\n",
       "      <td>0.017647</td>\n",
       "      <td>6.000000</td>\n",
       "      <td>1564.000000</td>\n",
       "      <td>0.000000</td>\n",
       "      <td>350.000000</td>\n",
       "      <td>0.000000</td>\n",
       "      <td>1.000000</td>\n",
       "      <td>153872.633942</td>\n",
       "    </tr>\n",
       "    <tr>\n",
       "      <th>50%</th>\n",
       "      <td>2.000000</td>\n",
       "      <td>52.513310</td>\n",
       "      <td>32.781260</td>\n",
       "      <td>6.000000</td>\n",
       "      <td>7.000000</td>\n",
       "      <td>13.000000</td>\n",
       "      <td>1.977000e+03</td>\n",
       "      <td>0.075424</td>\n",
       "      <td>25.000000</td>\n",
       "      <td>5285.000000</td>\n",
       "      <td>2.000000</td>\n",
       "      <td>900.000000</td>\n",
       "      <td>1.000000</td>\n",
       "      <td>3.000000</td>\n",
       "      <td>192269.644879</td>\n",
       "    </tr>\n",
       "    <tr>\n",
       "      <th>75%</th>\n",
       "      <td>2.000000</td>\n",
       "      <td>65.900625</td>\n",
       "      <td>45.128803</td>\n",
       "      <td>9.000000</td>\n",
       "      <td>12.000000</td>\n",
       "      <td>17.000000</td>\n",
       "      <td>2.001000e+03</td>\n",
       "      <td>0.195781</td>\n",
       "      <td>36.000000</td>\n",
       "      <td>7227.000000</td>\n",
       "      <td>5.000000</td>\n",
       "      <td>1548.000000</td>\n",
       "      <td>2.000000</td>\n",
       "      <td>6.000000</td>\n",
       "      <td>249135.462171</td>\n",
       "    </tr>\n",
       "    <tr>\n",
       "      <th>max</th>\n",
       "      <td>19.000000</td>\n",
       "      <td>641.065193</td>\n",
       "      <td>7480.592129</td>\n",
       "      <td>2014.000000</td>\n",
       "      <td>42.000000</td>\n",
       "      <td>117.000000</td>\n",
       "      <td>2.005201e+07</td>\n",
       "      <td>0.521867</td>\n",
       "      <td>74.000000</td>\n",
       "      <td>19083.000000</td>\n",
       "      <td>141.000000</td>\n",
       "      <td>4849.000000</td>\n",
       "      <td>6.000000</td>\n",
       "      <td>23.000000</td>\n",
       "      <td>633233.466570</td>\n",
       "    </tr>\n",
       "  </tbody>\n",
       "</table>\n",
       "</div>"
      ],
      "text/plain": [
       "              Rooms        Square   LifeSquare  KitchenSquare         Floor  \\\n",
       "count  10000.000000  10000.000000  7887.000000   10000.000000  10000.000000   \n",
       "mean       1.890500     56.315775    37.199645       6.273300      8.526700   \n",
       "std        0.839512     21.058732    86.241209      28.560917      5.241148   \n",
       "min        0.000000      1.136859     0.370619       0.000000      1.000000   \n",
       "25%        1.000000     41.774881    22.769832       1.000000      4.000000   \n",
       "50%        2.000000     52.513310    32.781260       6.000000      7.000000   \n",
       "75%        2.000000     65.900625    45.128803       9.000000     12.000000   \n",
       "max       19.000000    641.065193  7480.592129    2014.000000     42.000000   \n",
       "\n",
       "         HouseFloor     HouseYear     Ecology_1      Social_1      Social_2  \\\n",
       "count  10000.000000  1.000000e+04  10000.000000  10000.000000  10000.000000   \n",
       "mean      12.609400  3.990166e+03      0.118858     24.687000   5352.157400   \n",
       "std        6.775974  2.005003e+05      0.119025     17.532614   4006.799803   \n",
       "min        0.000000  1.910000e+03      0.000000      0.000000    168.000000   \n",
       "25%        9.000000  1.974000e+03      0.017647      6.000000   1564.000000   \n",
       "50%       13.000000  1.977000e+03      0.075424     25.000000   5285.000000   \n",
       "75%       17.000000  2.001000e+03      0.195781     36.000000   7227.000000   \n",
       "max      117.000000  2.005201e+07      0.521867     74.000000  19083.000000   \n",
       "\n",
       "           Social_3  Healthcare_1   Helthcare_2       Shops_1          Price  \n",
       "count  10000.000000   5202.000000  10000.000000  10000.000000   10000.000000  \n",
       "mean       8.039200   1142.904460      1.319500      4.231300  214138.857399  \n",
       "std       23.831875   1021.517264      1.493601      4.806341   92872.293865  \n",
       "min        0.000000      0.000000      0.000000      0.000000   59174.778028  \n",
       "25%        0.000000    350.000000      0.000000      1.000000  153872.633942  \n",
       "50%        2.000000    900.000000      1.000000      3.000000  192269.644879  \n",
       "75%        5.000000   1548.000000      2.000000      6.000000  249135.462171  \n",
       "max      141.000000   4849.000000      6.000000     23.000000  633233.466570  "
      ]
     },
     "execution_count": 13,
     "metadata": {},
     "output_type": "execute_result"
    }
   ],
   "source": [
    "train_df.describe()"
   ]
  },
  {
   "cell_type": "markdown",
   "metadata": {
    "papermill": {
     "duration": 0.108462,
     "end_time": "2022-06-15T12:29:02.847508",
     "exception": false,
     "start_time": "2022-06-15T12:29:02.739046",
     "status": "completed"
    },
    "tags": []
   },
   "source": [
    "NaN содержатся в двух признаках: LifeSquare и Healthcare_1\n",
    "\n",
    "Выбросы имеются по минимальному и максимальному значению: Rooms, Square, LifeSquare, Floor"
   ]
  },
  {
   "cell_type": "markdown",
   "metadata": {
    "papermill": {
     "duration": 0.108324,
     "end_time": "2022-06-15T12:29:03.063217",
     "exception": false,
     "start_time": "2022-06-15T12:29:02.954893",
     "status": "completed"
    },
    "tags": []
   },
   "source": [
    "**Номинативные переменные**"
   ]
  },
  {
   "cell_type": "code",
   "execution_count": 14,
   "metadata": {
    "execution": {
     "iopub.execute_input": "2022-06-15T12:29:03.288349Z",
     "iopub.status.busy": "2022-06-15T12:29:03.287594Z",
     "iopub.status.idle": "2022-06-15T12:29:03.291692Z",
     "shell.execute_reply": "2022-06-15T12:29:03.291141Z",
     "shell.execute_reply.started": "2022-06-15T12:19:36.534933Z"
    },
    "papermill": {
     "duration": 0.119424,
     "end_time": "2022-06-15T12:29:03.291807",
     "exception": false,
     "start_time": "2022-06-15T12:29:03.172383",
     "status": "completed"
    },
    "tags": []
   },
   "outputs": [
    {
     "data": {
      "text/plain": [
       "['Id', 'DistrictId', 'Ecology_2', 'Ecology_3', 'Shops_2']"
      ]
     },
     "execution_count": 14,
     "metadata": {},
     "output_type": "execute_result"
    }
   ],
   "source": [
    "cat_colnames = train_df.select_dtypes(include='object').columns.tolist()\n",
    "cat_colnames"
   ]
  },
  {
   "cell_type": "code",
   "execution_count": 15,
   "metadata": {
    "execution": {
     "iopub.execute_input": "2022-06-15T12:29:03.519550Z",
     "iopub.status.busy": "2022-06-15T12:29:03.518531Z",
     "iopub.status.idle": "2022-06-15T12:29:03.523017Z",
     "shell.execute_reply": "2022-06-15T12:29:03.522457Z",
     "shell.execute_reply.started": "2022-06-15T12:19:36.546206Z"
    },
    "papermill": {
     "duration": 0.12358,
     "end_time": "2022-06-15T12:29:03.523138",
     "exception": false,
     "start_time": "2022-06-15T12:29:03.399558",
     "status": "completed"
    },
    "tags": []
   },
   "outputs": [
    {
     "name": "stdout",
     "output_type": "stream",
     "text": [
      "Ecology_2\n",
      "\n",
      "B    9903\n",
      "A      97\n",
      "Name: Ecology_2, dtype: int64\n",
      "__________________________________________________\n",
      "\n",
      "Ecology_3\n",
      "\n",
      "B    9725\n",
      "A     275\n",
      "Name: Ecology_3, dtype: int64\n",
      "__________________________________________________\n",
      "\n",
      "Shops_2\n",
      "\n",
      "B    9175\n",
      "A     825\n",
      "Name: Shops_2, dtype: int64\n",
      "__________________________________________________\n",
      "\n"
     ]
    }
   ],
   "source": [
    "for cat_colname in cat_colnames[2:]:\n",
    "    print(str(cat_colname) + '\\n\\n' + str(train_df[cat_colname].value_counts()) + '\\n' + '_' * 50 + '\\n')"
   ]
  },
  {
   "cell_type": "markdown",
   "metadata": {
    "papermill": {
     "duration": 0.109521,
     "end_time": "2022-06-15T12:29:04.441174",
     "exception": false,
     "start_time": "2022-06-15T12:29:04.331653",
     "status": "completed"
    },
    "tags": []
   },
   "source": [
    "###  Обработка выбросов "
   ]
  },
  {
   "cell_type": "code",
   "execution_count": 16,
   "metadata": {
    "execution": {
     "iopub.execute_input": "2022-06-15T12:29:04.662806Z",
     "iopub.status.busy": "2022-06-15T12:29:04.662157Z",
     "iopub.status.idle": "2022-06-15T12:29:04.720435Z",
     "shell.execute_reply": "2022-06-15T12:29:04.720919Z",
     "shell.execute_reply.started": "2022-06-15T12:19:37.157319Z"
    },
    "papermill": {
     "duration": 0.170854,
     "end_time": "2022-06-15T12:29:04.721087",
     "exception": false,
     "start_time": "2022-06-15T12:29:04.550233",
     "status": "completed"
    },
    "tags": []
   },
   "outputs": [
    {
     "data": {
      "text/html": [
       "<div>\n",
       "<style scoped>\n",
       "    .dataframe tbody tr th:only-of-type {\n",
       "        vertical-align: middle;\n",
       "    }\n",
       "\n",
       "    .dataframe tbody tr th {\n",
       "        vertical-align: top;\n",
       "    }\n",
       "\n",
       "    .dataframe thead th {\n",
       "        text-align: right;\n",
       "    }\n",
       "</style>\n",
       "<table border=\"1\" class=\"dataframe\">\n",
       "  <thead>\n",
       "    <tr style=\"text-align: right;\">\n",
       "      <th></th>\n",
       "      <th>Rooms</th>\n",
       "      <th>Square</th>\n",
       "      <th>LifeSquare</th>\n",
       "      <th>KitchenSquare</th>\n",
       "      <th>Floor</th>\n",
       "      <th>HouseFloor</th>\n",
       "      <th>HouseYear</th>\n",
       "      <th>Ecology_1</th>\n",
       "      <th>Social_1</th>\n",
       "      <th>Social_2</th>\n",
       "      <th>Social_3</th>\n",
       "      <th>Healthcare_1</th>\n",
       "      <th>Helthcare_2</th>\n",
       "      <th>Shops_1</th>\n",
       "      <th>Price</th>\n",
       "    </tr>\n",
       "  </thead>\n",
       "  <tbody>\n",
       "    <tr>\n",
       "      <th>count</th>\n",
       "      <td>10000.000000</td>\n",
       "      <td>10000.000000</td>\n",
       "      <td>7887.000000</td>\n",
       "      <td>10000.000000</td>\n",
       "      <td>10000.000000</td>\n",
       "      <td>10000.000000</td>\n",
       "      <td>1.000000e+04</td>\n",
       "      <td>10000.000000</td>\n",
       "      <td>10000.000000</td>\n",
       "      <td>10000.000000</td>\n",
       "      <td>10000.000000</td>\n",
       "      <td>5202.000000</td>\n",
       "      <td>10000.000000</td>\n",
       "      <td>10000.000000</td>\n",
       "      <td>10000.000000</td>\n",
       "    </tr>\n",
       "    <tr>\n",
       "      <th>mean</th>\n",
       "      <td>1.890500</td>\n",
       "      <td>56.315775</td>\n",
       "      <td>37.199645</td>\n",
       "      <td>6.273300</td>\n",
       "      <td>8.526700</td>\n",
       "      <td>12.609400</td>\n",
       "      <td>3.990166e+03</td>\n",
       "      <td>0.118858</td>\n",
       "      <td>24.687000</td>\n",
       "      <td>5352.157400</td>\n",
       "      <td>8.039200</td>\n",
       "      <td>1142.904460</td>\n",
       "      <td>1.319500</td>\n",
       "      <td>4.231300</td>\n",
       "      <td>214138.857399</td>\n",
       "    </tr>\n",
       "    <tr>\n",
       "      <th>std</th>\n",
       "      <td>0.839512</td>\n",
       "      <td>21.058732</td>\n",
       "      <td>86.241209</td>\n",
       "      <td>28.560917</td>\n",
       "      <td>5.241148</td>\n",
       "      <td>6.775974</td>\n",
       "      <td>2.005003e+05</td>\n",
       "      <td>0.119025</td>\n",
       "      <td>17.532614</td>\n",
       "      <td>4006.799803</td>\n",
       "      <td>23.831875</td>\n",
       "      <td>1021.517264</td>\n",
       "      <td>1.493601</td>\n",
       "      <td>4.806341</td>\n",
       "      <td>92872.293865</td>\n",
       "    </tr>\n",
       "    <tr>\n",
       "      <th>min</th>\n",
       "      <td>0.000000</td>\n",
       "      <td>1.136859</td>\n",
       "      <td>0.370619</td>\n",
       "      <td>0.000000</td>\n",
       "      <td>1.000000</td>\n",
       "      <td>0.000000</td>\n",
       "      <td>1.910000e+03</td>\n",
       "      <td>0.000000</td>\n",
       "      <td>0.000000</td>\n",
       "      <td>168.000000</td>\n",
       "      <td>0.000000</td>\n",
       "      <td>0.000000</td>\n",
       "      <td>0.000000</td>\n",
       "      <td>0.000000</td>\n",
       "      <td>59174.778028</td>\n",
       "    </tr>\n",
       "    <tr>\n",
       "      <th>25%</th>\n",
       "      <td>1.000000</td>\n",
       "      <td>41.774881</td>\n",
       "      <td>22.769832</td>\n",
       "      <td>1.000000</td>\n",
       "      <td>4.000000</td>\n",
       "      <td>9.000000</td>\n",
       "      <td>1.974000e+03</td>\n",
       "      <td>0.017647</td>\n",
       "      <td>6.000000</td>\n",
       "      <td>1564.000000</td>\n",
       "      <td>0.000000</td>\n",
       "      <td>350.000000</td>\n",
       "      <td>0.000000</td>\n",
       "      <td>1.000000</td>\n",
       "      <td>153872.633942</td>\n",
       "    </tr>\n",
       "    <tr>\n",
       "      <th>50%</th>\n",
       "      <td>2.000000</td>\n",
       "      <td>52.513310</td>\n",
       "      <td>32.781260</td>\n",
       "      <td>6.000000</td>\n",
       "      <td>7.000000</td>\n",
       "      <td>13.000000</td>\n",
       "      <td>1.977000e+03</td>\n",
       "      <td>0.075424</td>\n",
       "      <td>25.000000</td>\n",
       "      <td>5285.000000</td>\n",
       "      <td>2.000000</td>\n",
       "      <td>900.000000</td>\n",
       "      <td>1.000000</td>\n",
       "      <td>3.000000</td>\n",
       "      <td>192269.644879</td>\n",
       "    </tr>\n",
       "    <tr>\n",
       "      <th>75%</th>\n",
       "      <td>2.000000</td>\n",
       "      <td>65.900625</td>\n",
       "      <td>45.128803</td>\n",
       "      <td>9.000000</td>\n",
       "      <td>12.000000</td>\n",
       "      <td>17.000000</td>\n",
       "      <td>2.001000e+03</td>\n",
       "      <td>0.195781</td>\n",
       "      <td>36.000000</td>\n",
       "      <td>7227.000000</td>\n",
       "      <td>5.000000</td>\n",
       "      <td>1548.000000</td>\n",
       "      <td>2.000000</td>\n",
       "      <td>6.000000</td>\n",
       "      <td>249135.462171</td>\n",
       "    </tr>\n",
       "    <tr>\n",
       "      <th>max</th>\n",
       "      <td>19.000000</td>\n",
       "      <td>641.065193</td>\n",
       "      <td>7480.592129</td>\n",
       "      <td>2014.000000</td>\n",
       "      <td>42.000000</td>\n",
       "      <td>117.000000</td>\n",
       "      <td>2.005201e+07</td>\n",
       "      <td>0.521867</td>\n",
       "      <td>74.000000</td>\n",
       "      <td>19083.000000</td>\n",
       "      <td>141.000000</td>\n",
       "      <td>4849.000000</td>\n",
       "      <td>6.000000</td>\n",
       "      <td>23.000000</td>\n",
       "      <td>633233.466570</td>\n",
       "    </tr>\n",
       "  </tbody>\n",
       "</table>\n",
       "</div>"
      ],
      "text/plain": [
       "              Rooms        Square   LifeSquare  KitchenSquare         Floor  \\\n",
       "count  10000.000000  10000.000000  7887.000000   10000.000000  10000.000000   \n",
       "mean       1.890500     56.315775    37.199645       6.273300      8.526700   \n",
       "std        0.839512     21.058732    86.241209      28.560917      5.241148   \n",
       "min        0.000000      1.136859     0.370619       0.000000      1.000000   \n",
       "25%        1.000000     41.774881    22.769832       1.000000      4.000000   \n",
       "50%        2.000000     52.513310    32.781260       6.000000      7.000000   \n",
       "75%        2.000000     65.900625    45.128803       9.000000     12.000000   \n",
       "max       19.000000    641.065193  7480.592129    2014.000000     42.000000   \n",
       "\n",
       "         HouseFloor     HouseYear     Ecology_1      Social_1      Social_2  \\\n",
       "count  10000.000000  1.000000e+04  10000.000000  10000.000000  10000.000000   \n",
       "mean      12.609400  3.990166e+03      0.118858     24.687000   5352.157400   \n",
       "std        6.775974  2.005003e+05      0.119025     17.532614   4006.799803   \n",
       "min        0.000000  1.910000e+03      0.000000      0.000000    168.000000   \n",
       "25%        9.000000  1.974000e+03      0.017647      6.000000   1564.000000   \n",
       "50%       13.000000  1.977000e+03      0.075424     25.000000   5285.000000   \n",
       "75%       17.000000  2.001000e+03      0.195781     36.000000   7227.000000   \n",
       "max      117.000000  2.005201e+07      0.521867     74.000000  19083.000000   \n",
       "\n",
       "           Social_3  Healthcare_1   Helthcare_2       Shops_1          Price  \n",
       "count  10000.000000   5202.000000  10000.000000  10000.000000   10000.000000  \n",
       "mean       8.039200   1142.904460      1.319500      4.231300  214138.857399  \n",
       "std       23.831875   1021.517264      1.493601      4.806341   92872.293865  \n",
       "min        0.000000      0.000000      0.000000      0.000000   59174.778028  \n",
       "25%        0.000000    350.000000      0.000000      1.000000  153872.633942  \n",
       "50%        2.000000    900.000000      1.000000      3.000000  192269.644879  \n",
       "75%        5.000000   1548.000000      2.000000      6.000000  249135.462171  \n",
       "max      141.000000   4849.000000      6.000000     23.000000  633233.466570  "
      ]
     },
     "execution_count": 16,
     "metadata": {},
     "output_type": "execute_result"
    }
   ],
   "source": [
    "train_df.describe()"
   ]
  },
  {
   "cell_type": "markdown",
   "metadata": {
    "papermill": {
     "duration": 0.110783,
     "end_time": "2022-06-15T12:29:04.944979",
     "exception": false,
     "start_time": "2022-06-15T12:29:04.834196",
     "status": "completed"
    },
    "tags": []
   },
   "source": [
    "**Rooms**"
   ]
  },
  {
   "cell_type": "code",
   "execution_count": 17,
   "metadata": {
    "execution": {
     "iopub.execute_input": "2022-06-15T12:29:05.170332Z",
     "iopub.status.busy": "2022-06-15T12:29:05.169676Z",
     "iopub.status.idle": "2022-06-15T12:29:05.177625Z",
     "shell.execute_reply": "2022-06-15T12:29:05.178214Z",
     "shell.execute_reply.started": "2022-06-15T12:19:37.292910Z"
    },
    "papermill": {
     "duration": 0.121135,
     "end_time": "2022-06-15T12:29:05.178374",
     "exception": false,
     "start_time": "2022-06-15T12:29:05.057239",
     "status": "completed"
    },
    "scrolled": true,
    "tags": []
   },
   "outputs": [
    {
     "data": {
      "text/plain": [
       "2.0     3880\n",
       "1.0     3705\n",
       "3.0     2235\n",
       "4.0      150\n",
       "5.0       18\n",
       "0.0        8\n",
       "10.0       2\n",
       "6.0        1\n",
       "19.0       1\n",
       "Name: Rooms, dtype: int64"
      ]
     },
     "execution_count": 17,
     "metadata": {},
     "output_type": "execute_result"
    }
   ],
   "source": [
    "train_df['Rooms'].value_counts()"
   ]
  },
  {
   "cell_type": "markdown",
   "metadata": {
    "papermill": {
     "duration": 0.109353,
     "end_time": "2022-06-15T12:29:05.399096",
     "exception": false,
     "start_time": "2022-06-15T12:29:05.289743",
     "status": "completed"
    },
    "tags": []
   },
   "source": [
    "Если в квартире 0 комнат, то делаем 1 комнату.\n",
    "Если больше 6 комнат, то делаем число комнат, равным медиане."
   ]
  },
  {
   "cell_type": "code",
   "execution_count": 18,
   "metadata": {
    "execution": {
     "iopub.execute_input": "2022-06-15T12:29:05.621672Z",
     "iopub.status.busy": "2022-06-15T12:29:05.621043Z",
     "iopub.status.idle": "2022-06-15T12:29:05.648160Z",
     "shell.execute_reply": "2022-06-15T12:29:05.648739Z",
     "shell.execute_reply.started": "2022-06-15T12:19:37.420959Z"
    },
    "papermill": {
     "duration": 0.140039,
     "end_time": "2022-06-15T12:29:05.648907",
     "exception": false,
     "start_time": "2022-06-15T12:29:05.508868",
     "status": "completed"
    },
    "tags": []
   },
   "outputs": [],
   "source": [
    "train_df['Rooms_outlier'] = 0\n",
    "train_df.loc[(train_df['Rooms'] == 0) | (train_df['Rooms'] >= 6), 'Rooms_outlier'] = 1\n",
    "train_df.loc[train_df['Rooms'] == 0, 'Rooms'] = 1\n",
    "train_df.loc[train_df['Rooms'] >= 6, 'Rooms'] = train_df['Rooms'].median()"
   ]
  },
  {
   "cell_type": "code",
   "execution_count": 19,
   "metadata": {
    "execution": {
     "iopub.execute_input": "2022-06-15T12:29:05.878063Z",
     "iopub.status.busy": "2022-06-15T12:29:05.877345Z",
     "iopub.status.idle": "2022-06-15T12:29:05.884089Z",
     "shell.execute_reply": "2022-06-15T12:29:05.883367Z",
     "shell.execute_reply.started": "2022-06-15T12:19:37.536949Z"
    },
    "papermill": {
     "duration": 0.124278,
     "end_time": "2022-06-15T12:29:05.884210",
     "exception": false,
     "start_time": "2022-06-15T12:29:05.759932",
     "status": "completed"
    },
    "tags": []
   },
   "outputs": [
    {
     "data": {
      "text/plain": [
       "2.0    3884\n",
       "1.0    3713\n",
       "3.0    2235\n",
       "4.0     150\n",
       "5.0      18\n",
       "Name: Rooms, dtype: int64"
      ]
     },
     "execution_count": 19,
     "metadata": {},
     "output_type": "execute_result"
    }
   ],
   "source": [
    "train_df['Rooms'].value_counts()"
   ]
  },
  {
   "cell_type": "markdown",
   "metadata": {
    "papermill": {
     "duration": 0.109653,
     "end_time": "2022-06-15T12:29:06.104565",
     "exception": false,
     "start_time": "2022-06-15T12:29:05.994912",
     "status": "completed"
    },
    "tags": []
   },
   "source": [
    "**Square**"
   ]
  },
  {
   "cell_type": "code",
   "execution_count": 20,
   "metadata": {
    "execution": {
     "iopub.execute_input": "2022-06-15T12:29:06.328210Z",
     "iopub.status.busy": "2022-06-15T12:29:06.327511Z",
     "iopub.status.idle": "2022-06-15T12:29:06.335968Z",
     "shell.execute_reply": "2022-06-15T12:29:06.336598Z",
     "shell.execute_reply.started": "2022-06-15T12:19:37.649828Z"
    },
    "papermill": {
     "duration": 0.121697,
     "end_time": "2022-06-15T12:29:06.336746",
     "exception": false,
     "start_time": "2022-06-15T12:29:06.215049",
     "status": "completed"
    },
    "tags": []
   },
   "outputs": [
    {
     "data": {
      "text/plain": [
       "7470      1.136859\n",
       "4496      1.988943\n",
       "9869      2.377248\n",
       "8572      2.596351\n",
       "161       2.954309\n",
       "           ...    \n",
       "7644    212.932361\n",
       "1906    275.645284\n",
       "7010    409.425181\n",
       "726     604.705972\n",
       "9229    641.065193\n",
       "Name: Square, Length: 10000, dtype: float64"
      ]
     },
     "execution_count": 20,
     "metadata": {},
     "output_type": "execute_result"
    }
   ],
   "source": [
    "train_df['Square'].sort_values()"
   ]
  },
  {
   "cell_type": "code",
   "execution_count": 21,
   "metadata": {
    "execution": {
     "iopub.execute_input": "2022-06-15T12:29:06.560789Z",
     "iopub.status.busy": "2022-06-15T12:29:06.560152Z",
     "iopub.status.idle": "2022-06-15T12:29:06.568503Z",
     "shell.execute_reply": "2022-06-15T12:29:06.569126Z",
     "shell.execute_reply.started": "2022-06-15T12:19:37.762636Z"
    },
    "papermill": {
     "duration": 0.121943,
     "end_time": "2022-06-15T12:29:06.569274",
     "exception": false,
     "start_time": "2022-06-15T12:29:06.447331",
     "status": "completed"
    },
    "tags": []
   },
   "outputs": [
    {
     "data": {
      "text/plain": [
       "(100.90624548226137, 32.10518291149681)"
      ]
     },
     "execution_count": 21,
     "metadata": {},
     "output_type": "execute_result"
    }
   ],
   "source": [
    "train_df['Square'].quantile(.975), train_df['Square'].quantile(.025)"
   ]
  },
  {
   "cell_type": "markdown",
   "metadata": {
    "papermill": {
     "duration": 0.110561,
     "end_time": "2022-06-15T12:29:06.791080",
     "exception": false,
     "start_time": "2022-06-15T12:29:06.680519",
     "status": "completed"
    },
    "tags": []
   },
   "source": [
    "Квартиры с площадью больше 110 кв м с большой вероятностью окажутся выбросными. Заменим очень большие площади на медиану, а слишком маленькие на значение 28 (примерная минимальная площадь жилой квартиры)."
   ]
  },
  {
   "cell_type": "code",
   "execution_count": 22,
   "metadata": {
    "execution": {
     "iopub.execute_input": "2022-06-15T12:29:07.018697Z",
     "iopub.status.busy": "2022-06-15T12:29:07.017990Z",
     "iopub.status.idle": "2022-06-15T12:29:07.025220Z",
     "shell.execute_reply": "2022-06-15T12:29:07.025797Z",
     "shell.execute_reply.started": "2022-06-15T12:19:37.872378Z"
    },
    "papermill": {
     "duration": 0.122468,
     "end_time": "2022-06-15T12:29:07.025963",
     "exception": false,
     "start_time": "2022-06-15T12:29:06.903495",
     "status": "completed"
    },
    "tags": []
   },
   "outputs": [],
   "source": [
    "train_df.loc[train_df['Square'] > 120, 'Square'] = train_df['Square'].median()\n",
    "train_df.loc[train_df['Square'] < 28, 'Square'] = 28"
   ]
  },
  {
   "cell_type": "code",
   "execution_count": 23,
   "metadata": {
    "execution": {
     "iopub.execute_input": "2022-06-15T12:29:07.255890Z",
     "iopub.status.busy": "2022-06-15T12:29:07.255207Z",
     "iopub.status.idle": "2022-06-15T12:29:07.264018Z",
     "shell.execute_reply": "2022-06-15T12:29:07.264582Z",
     "shell.execute_reply.started": "2022-06-15T12:19:37.999595Z"
    },
    "papermill": {
     "duration": 0.12603,
     "end_time": "2022-06-15T12:29:07.264733",
     "exception": false,
     "start_time": "2022-06-15T12:29:07.138703",
     "status": "completed"
    },
    "tags": []
   },
   "outputs": [
    {
     "data": {
      "text/plain": [
       "52.513310    92\n",
       "28.000000    62\n",
       "52.327165     1\n",
       "86.164240     1\n",
       "68.088569     1\n",
       "             ..\n",
       "58.099871     1\n",
       "79.855806     1\n",
       "39.230485     1\n",
       "42.080866     1\n",
       "64.226361     1\n",
       "Name: Square, Length: 9848, dtype: int64"
      ]
     },
     "execution_count": 23,
     "metadata": {},
     "output_type": "execute_result"
    }
   ],
   "source": [
    "train_df['Square'].value_counts()"
   ]
  },
  {
   "cell_type": "markdown",
   "metadata": {
    "papermill": {
     "duration": 0.110963,
     "end_time": "2022-06-15T12:29:07.487603",
     "exception": false,
     "start_time": "2022-06-15T12:29:07.376640",
     "status": "completed"
    },
    "tags": []
   },
   "source": [
    "**KitchenSquare** "
   ]
  },
  {
   "cell_type": "code",
   "execution_count": 24,
   "metadata": {
    "execution": {
     "iopub.execute_input": "2022-06-15T12:29:07.715011Z",
     "iopub.status.busy": "2022-06-15T12:29:07.714281Z",
     "iopub.status.idle": "2022-06-15T12:29:07.723231Z",
     "shell.execute_reply": "2022-06-15T12:29:07.723881Z",
     "shell.execute_reply.started": "2022-06-15T12:19:38.126483Z"
    },
    "papermill": {
     "duration": 0.124872,
     "end_time": "2022-06-15T12:29:07.724046",
     "exception": false,
     "start_time": "2022-06-15T12:29:07.599174",
     "status": "completed"
    },
    "tags": []
   },
   "outputs": [
    {
     "data": {
      "text/plain": [
       "1.0       2460\n",
       "8.0       1306\n",
       "5.0       1169\n",
       "10.0      1075\n",
       "6.0       1038\n",
       "9.0        843\n",
       "0.0        697\n",
       "7.0        609\n",
       "12.0       249\n",
       "11.0       233\n",
       "13.0        67\n",
       "14.0        51\n",
       "4.0         39\n",
       "15.0        31\n",
       "3.0         22\n",
       "16.0        16\n",
       "20.0        14\n",
       "17.0        12\n",
       "19.0        11\n",
       "18.0         6\n",
       "2.0          4\n",
       "22.0         3\n",
       "112.0        2\n",
       "51.0         2\n",
       "58.0         2\n",
       "37.0         2\n",
       "32.0         2\n",
       "41.0         2\n",
       "43.0         2\n",
       "30.0         2\n",
       "25.0         2\n",
       "39.0         1\n",
       "23.0         1\n",
       "123.0        1\n",
       "40.0         1\n",
       "48.0         1\n",
       "21.0         1\n",
       "72.0         1\n",
       "27.0         1\n",
       "63.0         1\n",
       "1970.0       1\n",
       "29.0         1\n",
       "66.0         1\n",
       "2014.0       1\n",
       "31.0         1\n",
       "78.0         1\n",
       "35.0         1\n",
       "42.0         1\n",
       "73.0         1\n",
       "60.0         1\n",
       "84.0         1\n",
       "26.0         1\n",
       "54.0         1\n",
       "36.0         1\n",
       "53.0         1\n",
       "96.0         1\n",
       "62.0         1\n",
       "75.0         1\n",
       "Name: KitchenSquare, dtype: int64"
      ]
     },
     "execution_count": 24,
     "metadata": {},
     "output_type": "execute_result"
    }
   ],
   "source": [
    "train_df['KitchenSquare'].value_counts()"
   ]
  },
  {
   "cell_type": "code",
   "execution_count": 25,
   "metadata": {
    "execution": {
     "iopub.execute_input": "2022-06-15T12:29:07.957373Z",
     "iopub.status.busy": "2022-06-15T12:29:07.956682Z",
     "iopub.status.idle": "2022-06-15T12:29:07.965716Z",
     "shell.execute_reply": "2022-06-15T12:29:07.965041Z",
     "shell.execute_reply.started": "2022-06-15T12:19:38.248383Z"
    },
    "papermill": {
     "duration": 0.129395,
     "end_time": "2022-06-15T12:29:07.965837",
     "exception": false,
     "start_time": "2022-06-15T12:29:07.836442",
     "status": "completed"
    },
    "tags": []
   },
   "outputs": [
    {
     "data": {
      "text/plain": [
       "(13.0, 0.0)"
      ]
     },
     "execution_count": 25,
     "metadata": {},
     "output_type": "execute_result"
    }
   ],
   "source": [
    "train_df['KitchenSquare'].quantile(.975), train_df['KitchenSquare'].quantile(.025)"
   ]
  },
  {
   "cell_type": "markdown",
   "metadata": {
    "papermill": {
     "duration": 0.112002,
     "end_time": "2022-06-15T12:29:08.192860",
     "exception": false,
     "start_time": "2022-06-15T12:29:08.080858",
     "status": "completed"
    },
    "tags": []
   },
   "source": [
    "Площадь кухни меньше 3 квадратных метров нереальна, поэтому приравниваем площадь к трем метрам квадратным во всех таких случаях. Выше квантиля 0,975 приравниваем площадь к медиане."
   ]
  },
  {
   "cell_type": "code",
   "execution_count": 26,
   "metadata": {
    "execution": {
     "iopub.execute_input": "2022-06-15T12:29:08.424289Z",
     "iopub.status.busy": "2022-06-15T12:29:08.423424Z",
     "iopub.status.idle": "2022-06-15T12:29:08.429759Z",
     "shell.execute_reply": "2022-06-15T12:29:08.429218Z",
     "shell.execute_reply.started": "2022-06-15T12:19:38.368359Z"
    },
    "papermill": {
     "duration": 0.125241,
     "end_time": "2022-06-15T12:29:08.429871",
     "exception": false,
     "start_time": "2022-06-15T12:29:08.304630",
     "status": "completed"
    },
    "tags": []
   },
   "outputs": [],
   "source": [
    "condition = (train_df['KitchenSquare'].isna()) \\\n",
    "             | (train_df['KitchenSquare'] > train_df['KitchenSquare'].quantile(.975))\n",
    "        \n",
    "train_df.loc[condition, 'KitchenSquare'] = train_df['KitchenSquare'].median()\n",
    "\n",
    "train_df.loc[train_df['KitchenSquare'] < 3, 'KitchenSquare'] = 3"
   ]
  },
  {
   "cell_type": "code",
   "execution_count": 27,
   "metadata": {
    "execution": {
     "iopub.execute_input": "2022-06-15T12:29:08.659073Z",
     "iopub.status.busy": "2022-06-15T12:29:08.658403Z",
     "iopub.status.idle": "2022-06-15T12:29:08.666632Z",
     "shell.execute_reply": "2022-06-15T12:29:08.667245Z",
     "shell.execute_reply.started": "2022-06-15T12:19:38.487185Z"
    },
    "papermill": {
     "duration": 0.124985,
     "end_time": "2022-06-15T12:29:08.667406",
     "exception": false,
     "start_time": "2022-06-15T12:29:08.542421",
     "status": "completed"
    },
    "tags": []
   },
   "outputs": [
    {
     "data": {
      "text/plain": [
       "3.0     3183\n",
       "8.0     1306\n",
       "6.0     1227\n",
       "5.0     1169\n",
       "10.0    1075\n",
       "9.0      843\n",
       "7.0      609\n",
       "12.0     249\n",
       "11.0     233\n",
       "13.0      67\n",
       "4.0       39\n",
       "Name: KitchenSquare, dtype: int64"
      ]
     },
     "execution_count": 27,
     "metadata": {},
     "output_type": "execute_result"
    }
   ],
   "source": [
    "train_df['KitchenSquare'].value_counts()"
   ]
  },
  {
   "cell_type": "code",
   "execution_count": 28,
   "metadata": {
    "execution": {
     "iopub.execute_input": "2022-06-15T12:29:08.897610Z",
     "iopub.status.busy": "2022-06-15T12:29:08.896761Z",
     "iopub.status.idle": "2022-06-15T12:29:08.902999Z",
     "shell.execute_reply": "2022-06-15T12:29:08.903563Z",
     "shell.execute_reply.started": "2022-06-15T12:19:38.607439Z"
    },
    "papermill": {
     "duration": 0.123038,
     "end_time": "2022-06-15T12:29:08.903714",
     "exception": false,
     "start_time": "2022-06-15T12:29:08.780676",
     "status": "completed"
    },
    "tags": []
   },
   "outputs": [
    {
     "data": {
      "text/plain": [
       "0"
      ]
     },
     "execution_count": 28,
     "metadata": {},
     "output_type": "execute_result"
    }
   ],
   "source": [
    "(train_df['KitchenSquare'] > train_df['Square']).sum()"
   ]
  },
  {
   "cell_type": "markdown",
   "metadata": {
    "papermill": {
     "duration": 0.112716,
     "end_time": "2022-06-15T12:29:09.131022",
     "exception": false,
     "start_time": "2022-06-15T12:29:09.018306",
     "status": "completed"
    },
    "tags": []
   },
   "source": [
    "После преобразований не осталось квартир, в которых значения площади кухни больше чем у всей квартиры."
   ]
  },
  {
   "cell_type": "markdown",
   "metadata": {
    "papermill": {
     "duration": 0.113197,
     "end_time": "2022-06-15T12:29:09.357511",
     "exception": false,
     "start_time": "2022-06-15T12:29:09.244314",
     "status": "completed"
    },
    "tags": []
   },
   "source": [
    "**HouseFloor, Floor**"
   ]
  },
  {
   "cell_type": "code",
   "execution_count": 29,
   "metadata": {
    "execution": {
     "iopub.execute_input": "2022-06-15T12:29:09.587298Z",
     "iopub.status.busy": "2022-06-15T12:29:09.586595Z",
     "iopub.status.idle": "2022-06-15T12:29:09.595380Z",
     "shell.execute_reply": "2022-06-15T12:29:09.594715Z",
     "shell.execute_reply.started": "2022-06-15T12:19:38.728006Z"
    },
    "papermill": {
     "duration": 0.125341,
     "end_time": "2022-06-15T12:29:09.595499",
     "exception": false,
     "start_time": "2022-06-15T12:29:09.470158",
     "status": "completed"
    },
    "scrolled": true,
    "tags": []
   },
   "outputs": [
    {
     "data": {
      "text/plain": [
       "array([ 1,  2,  3,  4,  5,  6,  7,  8,  9, 10, 11, 12, 13, 14, 15, 16, 17,\n",
       "       18, 19, 20, 21, 22, 23, 24, 25, 26, 27, 28, 31, 32, 33, 37, 42],\n",
       "      dtype=int64)"
      ]
     },
     "execution_count": 29,
     "metadata": {},
     "output_type": "execute_result"
    }
   ],
   "source": [
    "train_df['Floor'].sort_values().unique()"
   ]
  },
  {
   "cell_type": "code",
   "execution_count": 30,
   "metadata": {
    "execution": {
     "iopub.execute_input": "2022-06-15T12:29:09.828642Z",
     "iopub.status.busy": "2022-06-15T12:29:09.827908Z",
     "iopub.status.idle": "2022-06-15T12:29:09.834312Z",
     "shell.execute_reply": "2022-06-15T12:29:09.834982Z",
     "shell.execute_reply.started": "2022-06-15T12:19:38.861607Z"
    },
    "papermill": {
     "duration": 0.12548,
     "end_time": "2022-06-15T12:29:09.835135",
     "exception": false,
     "start_time": "2022-06-15T12:29:09.709655",
     "status": "completed"
    },
    "scrolled": true,
    "tags": []
   },
   "outputs": [
    {
     "data": {
      "text/plain": [
       "array([  0.,   1.,   2.,   3.,   4.,   5.,   6.,   7.,   8.,   9.,  10.,\n",
       "        11.,  12.,  13.,  14.,  15.,  16.,  17.,  18.,  19.,  20.,  21.,\n",
       "        22.,  23.,  24.,  25.,  26.,  27.,  28.,  29.,  30.,  31.,  32.,\n",
       "        36.,  37.,  38.,  39.,  40.,  44.,  45.,  47.,  48.,  99., 117.])"
      ]
     },
     "execution_count": 30,
     "metadata": {},
     "output_type": "execute_result"
    }
   ],
   "source": [
    "train_df['HouseFloor'].sort_values().unique()"
   ]
  },
  {
   "cell_type": "code",
   "execution_count": 31,
   "metadata": {
    "execution": {
     "iopub.execute_input": "2022-06-15T12:29:10.071686Z",
     "iopub.status.busy": "2022-06-15T12:29:10.070660Z",
     "iopub.status.idle": "2022-06-15T12:29:10.077719Z",
     "shell.execute_reply": "2022-06-15T12:29:10.078368Z",
     "shell.execute_reply.started": "2022-06-15T12:19:38.989876Z"
    },
    "papermill": {
     "duration": 0.124749,
     "end_time": "2022-06-15T12:29:10.078515",
     "exception": false,
     "start_time": "2022-06-15T12:29:09.953766",
     "status": "completed"
    },
    "tags": []
   },
   "outputs": [
    {
     "data": {
      "text/plain": [
       "1825"
      ]
     },
     "execution_count": 31,
     "metadata": {},
     "output_type": "execute_result"
    }
   ],
   "source": [
    "(train_df['Floor'] > train_df['HouseFloor']).sum()"
   ]
  },
  {
   "cell_type": "code",
   "execution_count": 32,
   "metadata": {
    "execution": {
     "iopub.execute_input": "2022-06-15T12:29:10.310787Z",
     "iopub.status.busy": "2022-06-15T12:29:10.309741Z",
     "iopub.status.idle": "2022-06-15T12:29:10.319919Z",
     "shell.execute_reply": "2022-06-15T12:29:10.320498Z",
     "shell.execute_reply.started": "2022-06-15T12:19:39.176843Z"
    },
    "papermill": {
     "duration": 0.127932,
     "end_time": "2022-06-15T12:29:10.320659",
     "exception": false,
     "start_time": "2022-06-15T12:29:10.192727",
     "status": "completed"
    },
    "tags": []
   },
   "outputs": [],
   "source": [
    "train_df['HouseFloor_issue'] = 0\n",
    "train_df.loc[train_df['HouseFloor'] == 0, 'HouseFloor_issue'] = 1\n",
    "train_df.loc[train_df['Floor'] > train_df['HouseFloor'], 'HouseFloor_issue'] = 1"
   ]
  },
  {
   "cell_type": "code",
   "execution_count": 33,
   "metadata": {
    "execution": {
     "iopub.execute_input": "2022-06-15T12:29:10.552613Z",
     "iopub.status.busy": "2022-06-15T12:29:10.551599Z",
     "iopub.status.idle": "2022-06-15T12:29:10.557870Z",
     "shell.execute_reply": "2022-06-15T12:29:10.558377Z",
     "shell.execute_reply.started": "2022-06-15T12:19:39.303212Z"
    },
    "papermill": {
     "duration": 0.123594,
     "end_time": "2022-06-15T12:29:10.558530",
     "exception": false,
     "start_time": "2022-06-15T12:29:10.434936",
     "status": "completed"
    },
    "tags": []
   },
   "outputs": [],
   "source": [
    "train_df.loc[train_df['HouseFloor'] == 0, 'HouseFloor'] = train_df['HouseFloor'].median()"
   ]
  },
  {
   "cell_type": "code",
   "execution_count": 34,
   "metadata": {
    "execution": {
     "iopub.execute_input": "2022-06-15T12:29:10.802015Z",
     "iopub.status.busy": "2022-06-15T12:29:10.800977Z",
     "iopub.status.idle": "2022-06-15T12:29:10.811395Z",
     "shell.execute_reply": "2022-06-15T12:29:10.810768Z",
     "shell.execute_reply.started": "2022-06-15T12:19:39.424324Z"
    },
    "papermill": {
     "duration": 0.13338,
     "end_time": "2022-06-15T12:29:10.811529",
     "exception": false,
     "start_time": "2022-06-15T12:29:10.678149",
     "status": "completed"
    },
    "tags": []
   },
   "outputs": [
    {
     "data": {
      "text/plain": [
       "Int64Index([  17,   19,   21,   25,   26,   33,   34,   37,   39,   44,\n",
       "            ...\n",
       "            9913, 9921, 9930, 9931, 9938, 9953, 9960, 9968, 9970, 9975],\n",
       "           dtype='int64', length=1610)"
      ]
     },
     "execution_count": 34,
     "metadata": {},
     "output_type": "execute_result"
    }
   ],
   "source": [
    "floor_outliers = train_df.loc[train_df['Floor'] > train_df['HouseFloor']].index\n",
    "floor_outliers"
   ]
  },
  {
   "cell_type": "code",
   "execution_count": 35,
   "metadata": {
    "execution": {
     "iopub.execute_input": "2022-06-15T12:29:11.072559Z",
     "iopub.status.busy": "2022-06-15T12:29:11.071779Z",
     "iopub.status.idle": "2022-06-15T12:29:11.083751Z",
     "shell.execute_reply": "2022-06-15T12:29:11.084490Z",
     "shell.execute_reply.started": "2022-06-15T12:19:39.538838Z"
    },
    "papermill": {
     "duration": 0.131609,
     "end_time": "2022-06-15T12:29:11.084676",
     "exception": false,
     "start_time": "2022-06-15T12:29:10.953067",
     "status": "completed"
    },
    "tags": []
   },
   "outputs": [],
   "source": [
    "train_df.loc[floor_outliers, 'Floor'] = train_df.loc[floor_outliers, 'HouseFloor']"
   ]
  },
  {
   "cell_type": "code",
   "execution_count": 36,
   "metadata": {
    "execution": {
     "iopub.execute_input": "2022-06-15T12:29:11.317823Z",
     "iopub.status.busy": "2022-06-15T12:29:11.317119Z",
     "iopub.status.idle": "2022-06-15T12:29:11.323304Z",
     "shell.execute_reply": "2022-06-15T12:29:11.323849Z",
     "shell.execute_reply.started": "2022-06-15T12:19:39.662540Z"
    },
    "papermill": {
     "duration": 0.12391,
     "end_time": "2022-06-15T12:29:11.324033",
     "exception": false,
     "start_time": "2022-06-15T12:29:11.200123",
     "status": "completed"
    },
    "tags": []
   },
   "outputs": [
    {
     "data": {
      "text/plain": [
       "0"
      ]
     },
     "execution_count": 36,
     "metadata": {},
     "output_type": "execute_result"
    }
   ],
   "source": [
    "(train_df['Floor'] > train_df['HouseFloor']).sum()"
   ]
  },
  {
   "cell_type": "markdown",
   "metadata": {
    "papermill": {
     "duration": 0.114369,
     "end_time": "2022-06-15T12:29:11.553375",
     "exception": false,
     "start_time": "2022-06-15T12:29:11.439006",
     "status": "completed"
    },
    "tags": []
   },
   "source": [
    "После преобразований не осталось квартир, которые находились бы на несуществующем в доме этаже."
   ]
  },
  {
   "cell_type": "markdown",
   "metadata": {
    "papermill": {
     "duration": 0.115486,
     "end_time": "2022-06-15T12:29:11.783556",
     "exception": false,
     "start_time": "2022-06-15T12:29:11.668070",
     "status": "completed"
    },
    "tags": []
   },
   "source": [
    "**HouseYear**"
   ]
  },
  {
   "cell_type": "code",
   "execution_count": 37,
   "metadata": {
    "execution": {
     "iopub.execute_input": "2022-06-15T12:29:12.018712Z",
     "iopub.status.busy": "2022-06-15T12:29:12.017985Z",
     "iopub.status.idle": "2022-06-15T12:29:12.026010Z",
     "shell.execute_reply": "2022-06-15T12:29:12.026509Z",
     "shell.execute_reply.started": "2022-06-15T12:19:39.782703Z"
    },
    "papermill": {
     "duration": 0.128221,
     "end_time": "2022-06-15T12:29:12.026674",
     "exception": false,
     "start_time": "2022-06-15T12:29:11.898453",
     "status": "completed"
    },
    "tags": []
   },
   "outputs": [
    {
     "data": {
      "text/plain": [
       "9163    20052011\n",
       "8828        4968\n",
       "7721        2020\n",
       "9122        2020\n",
       "7955        2020\n",
       "          ...   \n",
       "7610        1916\n",
       "6250        1914\n",
       "2066        1912\n",
       "2795        1912\n",
       "6794        1910\n",
       "Name: HouseYear, Length: 10000, dtype: int64"
      ]
     },
     "execution_count": 37,
     "metadata": {},
     "output_type": "execute_result"
    }
   ],
   "source": [
    "train_df['HouseYear'].sort_values(ascending=False)"
   ]
  },
  {
   "cell_type": "code",
   "execution_count": 38,
   "metadata": {
    "execution": {
     "iopub.execute_input": "2022-06-15T12:29:12.264561Z",
     "iopub.status.busy": "2022-06-15T12:29:12.263745Z",
     "iopub.status.idle": "2022-06-15T12:29:12.270590Z",
     "shell.execute_reply": "2022-06-15T12:29:12.269998Z",
     "shell.execute_reply.started": "2022-06-15T12:19:39.924211Z"
    },
    "papermill": {
     "duration": 0.126104,
     "end_time": "2022-06-15T12:29:12.270721",
     "exception": false,
     "start_time": "2022-06-15T12:29:12.144617",
     "status": "completed"
    },
    "tags": []
   },
   "outputs": [],
   "source": [
    "train_df.loc[train_df['HouseYear'] == 20052011, 'HouseYear'] = int((2005 + 2011) / 2)\n",
    "train_df.loc[train_df['HouseYear'] == 4968, 'HouseYear'] = 1968"
   ]
  },
  {
   "cell_type": "code",
   "execution_count": 39,
   "metadata": {},
   "outputs": [
    {
     "data": {
      "text/plain": [
       "Text(0.5, 1.0, 'Distribution of variable House Year')"
      ]
     },
     "execution_count": 39,
     "metadata": {},
     "output_type": "execute_result"
    },
    {
     "data": {
      "image/png": "[encoded data removed]",
      "text/plain": [
       "<Figure size 1296x432 with 1 Axes>"
      ]
     },
     "metadata": {
      "needs_background": "light"
     },
     "output_type": "display_data"
    }
   ],
   "source": [
    "plt.figure(figsize=(18, 6))\n",
    "sns.barplot(train_df['HouseYear'], train_df['Price'])\n",
    "plt.xticks(rotation=90)\n",
    "plt.title('Distribution of variable House Year')"
   ]
  },
  {
   "cell_type": "markdown",
   "metadata": {
    "papermill": {
     "duration": 0.116125,
     "end_time": "2022-06-15T12:29:12.502890",
     "exception": false,
     "start_time": "2022-06-15T12:29:12.386765",
     "status": "completed"
    },
    "tags": []
   },
   "source": [
    "### Обработка пропусков"
   ]
  },
  {
   "cell_type": "code",
   "execution_count": 40,
   "metadata": {
    "execution": {
     "iopub.execute_input": "2022-06-15T12:29:12.744758Z",
     "iopub.status.busy": "2022-06-15T12:29:12.744071Z",
     "iopub.status.idle": "2022-06-15T12:29:12.751325Z",
     "shell.execute_reply": "2022-06-15T12:29:12.750571Z",
     "shell.execute_reply.started": "2022-06-15T12:19:40.043476Z"
    },
    "papermill": {
     "duration": 0.133791,
     "end_time": "2022-06-15T12:29:12.751460",
     "exception": false,
     "start_time": "2022-06-15T12:29:12.617669",
     "status": "completed"
    },
    "tags": []
   },
   "outputs": [
    {
     "data": {
      "text/plain": [
       "Id                     0\n",
       "DistrictId             0\n",
       "Rooms                  0\n",
       "Square                 0\n",
       "LifeSquare          2113\n",
       "KitchenSquare          0\n",
       "Floor                  0\n",
       "HouseFloor             0\n",
       "HouseYear              0\n",
       "Ecology_1              0\n",
       "Ecology_2              0\n",
       "Ecology_3              0\n",
       "Social_1               0\n",
       "Social_2               0\n",
       "Social_3               0\n",
       "Healthcare_1        4798\n",
       "Helthcare_2            0\n",
       "Shops_1                0\n",
       "Shops_2                0\n",
       "Price                  0\n",
       "Rooms_outlier          0\n",
       "HouseFloor_issue       0\n",
       "dtype: int64"
      ]
     },
     "execution_count": 40,
     "metadata": {},
     "output_type": "execute_result"
    }
   ],
   "source": [
    "train_df.isna().sum()"
   ]
  },
  {
   "cell_type": "markdown",
   "metadata": {
    "papermill": {
     "duration": 0.115702,
     "end_time": "2022-06-15T12:29:12.983182",
     "exception": false,
     "start_time": "2022-06-15T12:29:12.867480",
     "status": "completed"
    },
    "tags": []
   },
   "source": [
    "**LifeSquare**"
   ]
  },
  {
   "cell_type": "code",
   "execution_count": 41,
   "metadata": {
    "execution": {
     "iopub.execute_input": "2022-06-15T12:29:13.225264Z",
     "iopub.status.busy": "2022-06-15T12:29:13.224303Z",
     "iopub.status.idle": "2022-06-15T12:29:13.232281Z",
     "shell.execute_reply": "2022-06-15T12:29:13.231542Z",
     "shell.execute_reply.started": "2022-06-15T12:19:40.169934Z"
    },
    "papermill": {
     "duration": 0.132579,
     "end_time": "2022-06-15T12:29:13.232414",
     "exception": false,
     "start_time": "2022-06-15T12:29:13.099835",
     "status": "completed"
    },
    "tags": []
   },
   "outputs": [],
   "source": [
    "train_df['LifeSquare_nan'] = train_df['LifeSquare'].isna() * 1\n",
    "\n",
    "condition = (train_df['LifeSquare'].isna()) \\\n",
    "             & (~train_df['Square'].isna()) \\\n",
    "             & (~train_df['KitchenSquare'].isna())\n",
    "        \n",
    "train_df.loc[condition, 'LifeSquare'] = train_df.loc[condition, 'Square'] \\\n",
    "                                            - train_df.loc[condition, 'KitchenSquare'] - 3"
   ]
  },
  {
   "cell_type": "code",
   "execution_count": 42,
   "metadata": {
    "execution": {
     "iopub.execute_input": "2022-06-15T12:29:13.471977Z",
     "iopub.status.busy": "2022-06-15T12:29:13.470832Z",
     "iopub.status.idle": "2022-06-15T12:29:13.475631Z",
     "shell.execute_reply": "2022-06-15T12:29:13.475076Z",
     "shell.execute_reply.started": "2022-06-15T12:19:40.303736Z"
    },
    "papermill": {
     "duration": 0.127292,
     "end_time": "2022-06-15T12:29:13.475749",
     "exception": false,
     "start_time": "2022-06-15T12:29:13.348457",
     "status": "completed"
    },
    "tags": []
   },
   "outputs": [
    {
     "data": {
      "text/plain": [
       "515"
      ]
     },
     "execution_count": 42,
     "metadata": {},
     "output_type": "execute_result"
    }
   ],
   "source": [
    "(train_df['LifeSquare'] > train_df['Square']).sum()"
   ]
  },
  {
   "cell_type": "markdown",
   "metadata": {
    "papermill": {
     "duration": 0.116311,
     "end_time": "2022-06-15T12:29:13.708482",
     "exception": false,
     "start_time": "2022-06-15T12:29:13.592171",
     "status": "completed"
    },
    "tags": []
   },
   "source": [
    "После всех преобразований осталось 548 квартир, в которых жилая площадь больше площади квартиры. В этом случае тоже приравняем площадь выражению: площадь квартиры минус площадь кухни минус 3 (примерный запас на нежилое пространство)"
   ]
  },
  {
   "cell_type": "code",
   "execution_count": 43,
   "metadata": {
    "execution": {
     "iopub.execute_input": "2022-06-15T12:29:13.952010Z",
     "iopub.status.busy": "2022-06-15T12:29:13.949161Z",
     "iopub.status.idle": "2022-06-15T12:29:13.956132Z",
     "shell.execute_reply": "2022-06-15T12:29:13.955497Z",
     "shell.execute_reply.started": "2022-06-15T12:19:40.438186Z"
    },
    "papermill": {
     "duration": 0.129936,
     "end_time": "2022-06-15T12:29:13.956257",
     "exception": false,
     "start_time": "2022-06-15T12:29:13.826321",
     "status": "completed"
    },
    "tags": []
   },
   "outputs": [
    {
     "data": {
      "text/plain": [
       "0"
      ]
     },
     "execution_count": 43,
     "metadata": {},
     "output_type": "execute_result"
    }
   ],
   "source": [
    "condition = train_df['LifeSquare'] > train_df['Square']\n",
    "train_df.loc[condition, 'LifeSquare'] = train_df.loc[condition, 'Square'] \\\n",
    "                                            - train_df.loc[condition, 'KitchenSquare'] - 3\n",
    "(train_df['LifeSquare'] > train_df['Square']).sum()"
   ]
  },
  {
   "cell_type": "markdown",
   "metadata": {
    "papermill": {
     "duration": 0.116968,
     "end_time": "2022-06-15T12:29:14.189203",
     "exception": false,
     "start_time": "2022-06-15T12:29:14.072235",
     "status": "completed"
    },
    "tags": []
   },
   "source": [
    "**Healthcare_1**"
   ]
  },
  {
   "cell_type": "markdown",
   "metadata": {
    "papermill": {
     "duration": 0.115929,
     "end_time": "2022-06-15T12:29:14.421572",
     "exception": false,
     "start_time": "2022-06-15T12:29:14.305643",
     "status": "completed"
    },
    "tags": []
   },
   "source": [
    "У данного показателя много пропущенных значений, однако есть предположение, что он может находиться в зависимости от показателя Helthcare_2"
   ]
  },
  {
   "cell_type": "code",
   "execution_count": 44,
   "metadata": {
    "execution": {
     "iopub.execute_input": "2022-06-15T12:29:14.661718Z",
     "iopub.status.busy": "2022-06-15T12:29:14.660984Z",
     "iopub.status.idle": "2022-06-15T12:29:14.723594Z",
     "shell.execute_reply": "2022-06-15T12:29:14.722820Z",
     "shell.execute_reply.started": "2022-06-15T12:19:40.588925Z"
    },
    "papermill": {
     "duration": 0.186111,
     "end_time": "2022-06-15T12:29:14.723722",
     "exception": false,
     "start_time": "2022-06-15T12:29:14.537611",
     "status": "completed"
    },
    "tags": []
   },
   "outputs": [
    {
     "data": {
      "text/html": [
       "<div>\n",
       "<style scoped>\n",
       "    .dataframe tbody tr th:only-of-type {\n",
       "        vertical-align: middle;\n",
       "    }\n",
       "\n",
       "    .dataframe tbody tr th {\n",
       "        vertical-align: top;\n",
       "    }\n",
       "\n",
       "    .dataframe thead th {\n",
       "        text-align: right;\n",
       "    }\n",
       "</style>\n",
       "<table border=\"1\" class=\"dataframe\">\n",
       "  <thead>\n",
       "    <tr style=\"text-align: right;\">\n",
       "      <th></th>\n",
       "      <th>Rooms</th>\n",
       "      <th>Square</th>\n",
       "      <th>LifeSquare</th>\n",
       "      <th>KitchenSquare</th>\n",
       "      <th>Floor</th>\n",
       "      <th>HouseFloor</th>\n",
       "      <th>HouseYear</th>\n",
       "      <th>Ecology_1</th>\n",
       "      <th>Social_1</th>\n",
       "      <th>Social_2</th>\n",
       "      <th>Social_3</th>\n",
       "      <th>Healthcare_1</th>\n",
       "      <th>Helthcare_2</th>\n",
       "      <th>Shops_1</th>\n",
       "      <th>Price</th>\n",
       "      <th>Rooms_outlier</th>\n",
       "      <th>HouseFloor_issue</th>\n",
       "      <th>LifeSquare_nan</th>\n",
       "    </tr>\n",
       "  </thead>\n",
       "  <tbody>\n",
       "    <tr>\n",
       "      <th>count</th>\n",
       "      <td>10000.000000</td>\n",
       "      <td>10000.000000</td>\n",
       "      <td>10000.000000</td>\n",
       "      <td>10000.000000</td>\n",
       "      <td>10000.000000</td>\n",
       "      <td>10000.00000</td>\n",
       "      <td>10000.00000</td>\n",
       "      <td>10000.000000</td>\n",
       "      <td>10000.000000</td>\n",
       "      <td>10000.000000</td>\n",
       "      <td>10000.000000</td>\n",
       "      <td>5202.000000</td>\n",
       "      <td>10000.000000</td>\n",
       "      <td>10000.000000</td>\n",
       "      <td>10000.000000</td>\n",
       "      <td>10000.000000</td>\n",
       "      <td>10000.000000</td>\n",
       "      <td>10000.000000</td>\n",
       "    </tr>\n",
       "    <tr>\n",
       "      <th>mean</th>\n",
       "      <td>1.887600</td>\n",
       "      <td>55.417928</td>\n",
       "      <td>38.711368</td>\n",
       "      <td>6.238200</td>\n",
       "      <td>7.918200</td>\n",
       "      <td>12.95910</td>\n",
       "      <td>1984.86600</td>\n",
       "      <td>0.118858</td>\n",
       "      <td>24.687000</td>\n",
       "      <td>5352.157400</td>\n",
       "      <td>8.039200</td>\n",
       "      <td>1142.904460</td>\n",
       "      <td>1.319500</td>\n",
       "      <td>4.231300</td>\n",
       "      <td>214138.857399</td>\n",
       "      <td>0.001200</td>\n",
       "      <td>0.182500</td>\n",
       "      <td>0.211300</td>\n",
       "    </tr>\n",
       "    <tr>\n",
       "      <th>std</th>\n",
       "      <td>0.811438</td>\n",
       "      <td>17.056737</td>\n",
       "      <td>17.492944</td>\n",
       "      <td>2.794717</td>\n",
       "      <td>5.186386</td>\n",
       "      <td>6.44346</td>\n",
       "      <td>18.41187</td>\n",
       "      <td>0.119025</td>\n",
       "      <td>17.532614</td>\n",
       "      <td>4006.799803</td>\n",
       "      <td>23.831875</td>\n",
       "      <td>1021.517264</td>\n",
       "      <td>1.493601</td>\n",
       "      <td>4.806341</td>\n",
       "      <td>92872.293865</td>\n",
       "      <td>0.034622</td>\n",
       "      <td>0.386275</td>\n",
       "      <td>0.408251</td>\n",
       "    </tr>\n",
       "    <tr>\n",
       "      <th>min</th>\n",
       "      <td>1.000000</td>\n",
       "      <td>28.000000</td>\n",
       "      <td>0.370619</td>\n",
       "      <td>3.000000</td>\n",
       "      <td>1.000000</td>\n",
       "      <td>1.00000</td>\n",
       "      <td>1910.00000</td>\n",
       "      <td>0.000000</td>\n",
       "      <td>0.000000</td>\n",
       "      <td>168.000000</td>\n",
       "      <td>0.000000</td>\n",
       "      <td>0.000000</td>\n",
       "      <td>0.000000</td>\n",
       "      <td>0.000000</td>\n",
       "      <td>59174.778028</td>\n",
       "      <td>0.000000</td>\n",
       "      <td>0.000000</td>\n",
       "      <td>0.000000</td>\n",
       "    </tr>\n",
       "    <tr>\n",
       "      <th>25%</th>\n",
       "      <td>1.000000</td>\n",
       "      <td>41.774881</td>\n",
       "      <td>25.038231</td>\n",
       "      <td>3.000000</td>\n",
       "      <td>4.000000</td>\n",
       "      <td>9.00000</td>\n",
       "      <td>1974.00000</td>\n",
       "      <td>0.017647</td>\n",
       "      <td>6.000000</td>\n",
       "      <td>1564.000000</td>\n",
       "      <td>0.000000</td>\n",
       "      <td>350.000000</td>\n",
       "      <td>0.000000</td>\n",
       "      <td>1.000000</td>\n",
       "      <td>153872.633942</td>\n",
       "      <td>0.000000</td>\n",
       "      <td>0.000000</td>\n",
       "      <td>0.000000</td>\n",
       "    </tr>\n",
       "    <tr>\n",
       "      <th>50%</th>\n",
       "      <td>2.000000</td>\n",
       "      <td>52.513040</td>\n",
       "      <td>35.020639</td>\n",
       "      <td>6.000000</td>\n",
       "      <td>7.000000</td>\n",
       "      <td>13.00000</td>\n",
       "      <td>1977.00000</td>\n",
       "      <td>0.075424</td>\n",
       "      <td>25.000000</td>\n",
       "      <td>5285.000000</td>\n",
       "      <td>2.000000</td>\n",
       "      <td>900.000000</td>\n",
       "      <td>1.000000</td>\n",
       "      <td>3.000000</td>\n",
       "      <td>192269.644879</td>\n",
       "      <td>0.000000</td>\n",
       "      <td>0.000000</td>\n",
       "      <td>0.000000</td>\n",
       "    </tr>\n",
       "    <tr>\n",
       "      <th>75%</th>\n",
       "      <td>2.000000</td>\n",
       "      <td>65.481313</td>\n",
       "      <td>47.856276</td>\n",
       "      <td>8.000000</td>\n",
       "      <td>11.000000</td>\n",
       "      <td>17.00000</td>\n",
       "      <td>2001.00000</td>\n",
       "      <td>0.195781</td>\n",
       "      <td>36.000000</td>\n",
       "      <td>7227.000000</td>\n",
       "      <td>5.000000</td>\n",
       "      <td>1548.000000</td>\n",
       "      <td>2.000000</td>\n",
       "      <td>6.000000</td>\n",
       "      <td>249135.462171</td>\n",
       "      <td>0.000000</td>\n",
       "      <td>0.000000</td>\n",
       "      <td>0.000000</td>\n",
       "    </tr>\n",
       "    <tr>\n",
       "      <th>max</th>\n",
       "      <td>5.000000</td>\n",
       "      <td>119.914990</td>\n",
       "      <td>117.446940</td>\n",
       "      <td>13.000000</td>\n",
       "      <td>42.000000</td>\n",
       "      <td>117.00000</td>\n",
       "      <td>2020.00000</td>\n",
       "      <td>0.521867</td>\n",
       "      <td>74.000000</td>\n",
       "      <td>19083.000000</td>\n",
       "      <td>141.000000</td>\n",
       "      <td>4849.000000</td>\n",
       "      <td>6.000000</td>\n",
       "      <td>23.000000</td>\n",
       "      <td>633233.466570</td>\n",
       "      <td>1.000000</td>\n",
       "      <td>1.000000</td>\n",
       "      <td>1.000000</td>\n",
       "    </tr>\n",
       "  </tbody>\n",
       "</table>\n",
       "</div>"
      ],
      "text/plain": [
       "              Rooms        Square    LifeSquare  KitchenSquare         Floor  \\\n",
       "count  10000.000000  10000.000000  10000.000000   10000.000000  10000.000000   \n",
       "mean       1.887600     55.417928     38.711368       6.238200      7.918200   \n",
       "std        0.811438     17.056737     17.492944       2.794717      5.186386   \n",
       "min        1.000000     28.000000      0.370619       3.000000      1.000000   \n",
       "25%        1.000000     41.774881     25.038231       3.000000      4.000000   \n",
       "50%        2.000000     52.513040     35.020639       6.000000      7.000000   \n",
       "75%        2.000000     65.481313     47.856276       8.000000     11.000000   \n",
       "max        5.000000    119.914990    117.446940      13.000000     42.000000   \n",
       "\n",
       "        HouseFloor    HouseYear     Ecology_1      Social_1      Social_2  \\\n",
       "count  10000.00000  10000.00000  10000.000000  10000.000000  10000.000000   \n",
       "mean      12.95910   1984.86600      0.118858     24.687000   5352.157400   \n",
       "std        6.44346     18.41187      0.119025     17.532614   4006.799803   \n",
       "min        1.00000   1910.00000      0.000000      0.000000    168.000000   \n",
       "25%        9.00000   1974.00000      0.017647      6.000000   1564.000000   \n",
       "50%       13.00000   1977.00000      0.075424     25.000000   5285.000000   \n",
       "75%       17.00000   2001.00000      0.195781     36.000000   7227.000000   \n",
       "max      117.00000   2020.00000      0.521867     74.000000  19083.000000   \n",
       "\n",
       "           Social_3  Healthcare_1   Helthcare_2       Shops_1          Price  \\\n",
       "count  10000.000000   5202.000000  10000.000000  10000.000000   10000.000000   \n",
       "mean       8.039200   1142.904460      1.319500      4.231300  214138.857399   \n",
       "std       23.831875   1021.517264      1.493601      4.806341   92872.293865   \n",
       "min        0.000000      0.000000      0.000000      0.000000   59174.778028   \n",
       "25%        0.000000    350.000000      0.000000      1.000000  153872.633942   \n",
       "50%        2.000000    900.000000      1.000000      3.000000  192269.644879   \n",
       "75%        5.000000   1548.000000      2.000000      6.000000  249135.462171   \n",
       "max      141.000000   4849.000000      6.000000     23.000000  633233.466570   \n",
       "\n",
       "       Rooms_outlier  HouseFloor_issue  LifeSquare_nan  \n",
       "count   10000.000000      10000.000000    10000.000000  \n",
       "mean        0.001200          0.182500        0.211300  \n",
       "std         0.034622          0.386275        0.408251  \n",
       "min         0.000000          0.000000        0.000000  \n",
       "25%         0.000000          0.000000        0.000000  \n",
       "50%         0.000000          0.000000        0.000000  \n",
       "75%         0.000000          0.000000        0.000000  \n",
       "max         1.000000          1.000000        1.000000  "
      ]
     },
     "execution_count": 44,
     "metadata": {},
     "output_type": "execute_result"
    }
   ],
   "source": [
    "train_df.describe()"
   ]
  },
  {
   "cell_type": "code",
   "execution_count": 45,
   "metadata": {
    "execution": {
     "iopub.execute_input": "2022-06-15T12:29:14.971000Z",
     "iopub.status.busy": "2022-06-15T12:29:14.968936Z",
     "iopub.status.idle": "2022-06-15T12:29:14.987894Z",
     "shell.execute_reply": "2022-06-15T12:29:14.987304Z",
     "shell.execute_reply.started": "2022-06-15T12:19:40.719349Z"
    },
    "papermill": {
     "duration": 0.144242,
     "end_time": "2022-06-15T12:29:14.988047",
     "exception": false,
     "start_time": "2022-06-15T12:29:14.843805",
     "status": "completed"
    },
    "tags": []
   },
   "outputs": [
    {
     "data": {
      "text/html": [
       "<div>\n",
       "<style scoped>\n",
       "    .dataframe tbody tr th:only-of-type {\n",
       "        vertical-align: middle;\n",
       "    }\n",
       "\n",
       "    .dataframe tbody tr th {\n",
       "        vertical-align: top;\n",
       "    }\n",
       "\n",
       "    .dataframe thead th {\n",
       "        text-align: right;\n",
       "    }\n",
       "</style>\n",
       "<table border=\"1\" class=\"dataframe\">\n",
       "  <thead>\n",
       "    <tr style=\"text-align: right;\">\n",
       "      <th></th>\n",
       "      <th>Helthcare_2</th>\n",
       "      <th>Healthcare_1</th>\n",
       "    </tr>\n",
       "  </thead>\n",
       "  <tbody>\n",
       "    <tr>\n",
       "      <th>0</th>\n",
       "      <td>0</td>\n",
       "      <td>540.0</td>\n",
       "    </tr>\n",
       "    <tr>\n",
       "      <th>1</th>\n",
       "      <td>1</td>\n",
       "      <td>620.0</td>\n",
       "    </tr>\n",
       "    <tr>\n",
       "      <th>2</th>\n",
       "      <td>2</td>\n",
       "      <td>750.0</td>\n",
       "    </tr>\n",
       "    <tr>\n",
       "      <th>3</th>\n",
       "      <td>3</td>\n",
       "      <td>1145.0</td>\n",
       "    </tr>\n",
       "    <tr>\n",
       "      <th>4</th>\n",
       "      <td>4</td>\n",
       "      <td>1894.0</td>\n",
       "    </tr>\n",
       "    <tr>\n",
       "      <th>5</th>\n",
       "      <td>5</td>\n",
       "      <td>1575.0</td>\n",
       "    </tr>\n",
       "    <tr>\n",
       "      <th>6</th>\n",
       "      <td>6</td>\n",
       "      <td>645.0</td>\n",
       "    </tr>\n",
       "  </tbody>\n",
       "</table>\n",
       "</div>"
      ],
      "text/plain": [
       "   Helthcare_2  Healthcare_1\n",
       "0            0         540.0\n",
       "1            1         620.0\n",
       "2            2         750.0\n",
       "3            3        1145.0\n",
       "4            4        1894.0\n",
       "5            5        1575.0\n",
       "6            6         645.0"
      ]
     },
     "execution_count": 45,
     "metadata": {},
     "output_type": "execute_result"
    }
   ],
   "source": [
    "df_cat = train_df.groupby('Helthcare_2', as_index=False).median()[['Helthcare_2', 'Healthcare_1']]\n",
    "df_cat = pd.DataFrame(df_cat)\n",
    "df_cat"
   ]
  },
  {
   "cell_type": "markdown",
   "metadata": {
    "papermill": {
     "duration": 0.117521,
     "end_time": "2022-06-15T12:29:15.223713",
     "exception": false,
     "start_time": "2022-06-15T12:29:15.106192",
     "status": "completed"
    },
    "tags": []
   },
   "source": [
    "Если сгруппировать по Helthcare_2 и вычислить медиану Healthcare_1, то получим 7 групп с относительно разными величинами Helthcare_1. Можно попробовать заменить пропущенные значения данными величинами."
   ]
  },
  {
   "cell_type": "code",
   "execution_count": 46,
   "metadata": {
    "execution": {
     "iopub.execute_input": "2022-06-15T12:29:15.468589Z",
     "iopub.status.busy": "2022-06-15T12:29:15.467840Z",
     "iopub.status.idle": "2022-06-15T12:29:15.487913Z",
     "shell.execute_reply": "2022-06-15T12:29:15.487185Z",
     "shell.execute_reply.started": "2022-06-15T12:19:40.849376Z"
    },
    "papermill": {
     "duration": 0.147046,
     "end_time": "2022-06-15T12:29:15.488073",
     "exception": false,
     "start_time": "2022-06-15T12:29:15.341027",
     "status": "completed"
    },
    "tags": []
   },
   "outputs": [
    {
     "data": {
      "text/html": [
       "<div>\n",
       "<style scoped>\n",
       "    .dataframe tbody tr th:only-of-type {\n",
       "        vertical-align: middle;\n",
       "    }\n",
       "\n",
       "    .dataframe tbody tr th {\n",
       "        vertical-align: top;\n",
       "    }\n",
       "\n",
       "    .dataframe thead th {\n",
       "        text-align: right;\n",
       "    }\n",
       "</style>\n",
       "<table border=\"1\" class=\"dataframe\">\n",
       "  <thead>\n",
       "    <tr style=\"text-align: right;\">\n",
       "      <th></th>\n",
       "      <th>Helthcare_2</th>\n",
       "      <th>Healthcare_1</th>\n",
       "    </tr>\n",
       "  </thead>\n",
       "  <tbody>\n",
       "    <tr>\n",
       "      <th>0</th>\n",
       "      <td>0</td>\n",
       "      <td>540.0</td>\n",
       "    </tr>\n",
       "    <tr>\n",
       "      <th>1</th>\n",
       "      <td>1</td>\n",
       "      <td>620.0</td>\n",
       "    </tr>\n",
       "    <tr>\n",
       "      <th>2</th>\n",
       "      <td>3</td>\n",
       "      <td>1145.0</td>\n",
       "    </tr>\n",
       "    <tr>\n",
       "      <th>3</th>\n",
       "      <td>0</td>\n",
       "      <td>540.0</td>\n",
       "    </tr>\n",
       "    <tr>\n",
       "      <th>4</th>\n",
       "      <td>0</td>\n",
       "      <td>540.0</td>\n",
       "    </tr>\n",
       "    <tr>\n",
       "      <th>...</th>\n",
       "      <td>...</td>\n",
       "      <td>...</td>\n",
       "    </tr>\n",
       "    <tr>\n",
       "      <th>9995</th>\n",
       "      <td>1</td>\n",
       "      <td>620.0</td>\n",
       "    </tr>\n",
       "    <tr>\n",
       "      <th>9996</th>\n",
       "      <td>0</td>\n",
       "      <td>540.0</td>\n",
       "    </tr>\n",
       "    <tr>\n",
       "      <th>9997</th>\n",
       "      <td>1</td>\n",
       "      <td>620.0</td>\n",
       "    </tr>\n",
       "    <tr>\n",
       "      <th>9998</th>\n",
       "      <td>3</td>\n",
       "      <td>1145.0</td>\n",
       "    </tr>\n",
       "    <tr>\n",
       "      <th>9999</th>\n",
       "      <td>3</td>\n",
       "      <td>1145.0</td>\n",
       "    </tr>\n",
       "  </tbody>\n",
       "</table>\n",
       "<p>10000 rows × 2 columns</p>\n",
       "</div>"
      ],
      "text/plain": [
       "      Helthcare_2  Healthcare_1\n",
       "0               0         540.0\n",
       "1               1         620.0\n",
       "2               3        1145.0\n",
       "3               0         540.0\n",
       "4               0         540.0\n",
       "...           ...           ...\n",
       "9995            1         620.0\n",
       "9996            0         540.0\n",
       "9997            1         620.0\n",
       "9998            3        1145.0\n",
       "9999            3        1145.0\n",
       "\n",
       "[10000 rows x 2 columns]"
      ]
     },
     "execution_count": 46,
     "metadata": {},
     "output_type": "execute_result"
    }
   ],
   "source": [
    "hc = train_df['Helthcare_2']\n",
    "hc = pd.DataFrame(hc)\n",
    "hc = hc.merge(df_cat, on=['Helthcare_2'], how=\"left\")\n",
    "hc"
   ]
  },
  {
   "cell_type": "code",
   "execution_count": 47,
   "metadata": {
    "execution": {
     "iopub.execute_input": "2022-06-15T12:29:15.748429Z",
     "iopub.status.busy": "2022-06-15T12:29:15.739645Z",
     "iopub.status.idle": "2022-06-15T12:29:15.760419Z",
     "shell.execute_reply": "2022-06-15T12:29:15.759657Z",
     "shell.execute_reply.started": "2022-06-15T12:19:40.963740Z"
    },
    "papermill": {
     "duration": 0.153439,
     "end_time": "2022-06-15T12:29:15.760543",
     "exception": false,
     "start_time": "2022-06-15T12:29:15.607104",
     "status": "completed"
    },
    "tags": []
   },
   "outputs": [],
   "source": [
    "train_df['Healthcare_1_nan'] = train_df['Healthcare_1'].isna() * 1\n",
    "train_df = train_df.fillna(hc)"
   ]
  },
  {
   "cell_type": "code",
   "execution_count": 48,
   "metadata": {
    "execution": {
     "iopub.execute_input": "2022-06-15T12:29:16.005801Z",
     "iopub.status.busy": "2022-06-15T12:29:16.004563Z",
     "iopub.status.idle": "2022-06-15T12:29:16.053654Z",
     "shell.execute_reply": "2022-06-15T12:29:16.052901Z",
     "shell.execute_reply.started": "2022-06-15T12:19:41.100472Z"
    },
    "papermill": {
     "duration": 0.174002,
     "end_time": "2022-06-15T12:29:16.053789",
     "exception": false,
     "start_time": "2022-06-15T12:29:15.879787",
     "status": "completed"
    },
    "tags": []
   },
   "outputs": [
    {
     "data": {
      "text/html": [
       "<div>\n",
       "<style scoped>\n",
       "    .dataframe tbody tr th:only-of-type {\n",
       "        vertical-align: middle;\n",
       "    }\n",
       "\n",
       "    .dataframe tbody tr th {\n",
       "        vertical-align: top;\n",
       "    }\n",
       "\n",
       "    .dataframe thead th {\n",
       "        text-align: right;\n",
       "    }\n",
       "</style>\n",
       "<table border=\"1\" class=\"dataframe\">\n",
       "  <thead>\n",
       "    <tr style=\"text-align: right;\">\n",
       "      <th></th>\n",
       "      <th>Id</th>\n",
       "      <th>DistrictId</th>\n",
       "      <th>Rooms</th>\n",
       "      <th>Square</th>\n",
       "      <th>LifeSquare</th>\n",
       "      <th>KitchenSquare</th>\n",
       "      <th>Floor</th>\n",
       "      <th>HouseFloor</th>\n",
       "      <th>HouseYear</th>\n",
       "      <th>Ecology_1</th>\n",
       "      <th>...</th>\n",
       "      <th>Social_3</th>\n",
       "      <th>Healthcare_1</th>\n",
       "      <th>Helthcare_2</th>\n",
       "      <th>Shops_1</th>\n",
       "      <th>Shops_2</th>\n",
       "      <th>Price</th>\n",
       "      <th>Rooms_outlier</th>\n",
       "      <th>HouseFloor_issue</th>\n",
       "      <th>LifeSquare_nan</th>\n",
       "      <th>Healthcare_1_nan</th>\n",
       "    </tr>\n",
       "  </thead>\n",
       "  <tbody>\n",
       "    <tr>\n",
       "      <th>0</th>\n",
       "      <td>11809</td>\n",
       "      <td>27</td>\n",
       "      <td>3.0</td>\n",
       "      <td>115.027311</td>\n",
       "      <td>102.027311</td>\n",
       "      <td>10.0</td>\n",
       "      <td>4.0</td>\n",
       "      <td>10.0</td>\n",
       "      <td>2014</td>\n",
       "      <td>0.075424</td>\n",
       "      <td>...</td>\n",
       "      <td>0</td>\n",
       "      <td>540.0</td>\n",
       "      <td>0</td>\n",
       "      <td>0</td>\n",
       "      <td>B</td>\n",
       "      <td>305018.871089</td>\n",
       "      <td>0</td>\n",
       "      <td>0</td>\n",
       "      <td>1</td>\n",
       "      <td>1</td>\n",
       "    </tr>\n",
       "    <tr>\n",
       "      <th>3</th>\n",
       "      <td>2352</td>\n",
       "      <td>1</td>\n",
       "      <td>1.0</td>\n",
       "      <td>40.409907</td>\n",
       "      <td>34.409907</td>\n",
       "      <td>3.0</td>\n",
       "      <td>10.0</td>\n",
       "      <td>22.0</td>\n",
       "      <td>1977</td>\n",
       "      <td>0.007122</td>\n",
       "      <td>...</td>\n",
       "      <td>0</td>\n",
       "      <td>540.0</td>\n",
       "      <td>0</td>\n",
       "      <td>1</td>\n",
       "      <td>B</td>\n",
       "      <td>168106.007630</td>\n",
       "      <td>0</td>\n",
       "      <td>0</td>\n",
       "      <td>1</td>\n",
       "      <td>1</td>\n",
       "    </tr>\n",
       "    <tr>\n",
       "      <th>4</th>\n",
       "      <td>13866</td>\n",
       "      <td>94</td>\n",
       "      <td>2.0</td>\n",
       "      <td>64.285067</td>\n",
       "      <td>38.562517</td>\n",
       "      <td>9.0</td>\n",
       "      <td>16.0</td>\n",
       "      <td>16.0</td>\n",
       "      <td>1972</td>\n",
       "      <td>0.282798</td>\n",
       "      <td>...</td>\n",
       "      <td>2</td>\n",
       "      <td>540.0</td>\n",
       "      <td>0</td>\n",
       "      <td>6</td>\n",
       "      <td>B</td>\n",
       "      <td>343995.102962</td>\n",
       "      <td>0</td>\n",
       "      <td>0</td>\n",
       "      <td>0</td>\n",
       "      <td>1</td>\n",
       "    </tr>\n",
       "    <tr>\n",
       "      <th>8</th>\n",
       "      <td>9951</td>\n",
       "      <td>1</td>\n",
       "      <td>1.0</td>\n",
       "      <td>46.887892</td>\n",
       "      <td>44.628132</td>\n",
       "      <td>3.0</td>\n",
       "      <td>12.0</td>\n",
       "      <td>20.0</td>\n",
       "      <td>1977</td>\n",
       "      <td>0.007122</td>\n",
       "      <td>...</td>\n",
       "      <td>0</td>\n",
       "      <td>540.0</td>\n",
       "      <td>0</td>\n",
       "      <td>1</td>\n",
       "      <td>B</td>\n",
       "      <td>160400.401732</td>\n",
       "      <td>0</td>\n",
       "      <td>0</td>\n",
       "      <td>0</td>\n",
       "      <td>1</td>\n",
       "    </tr>\n",
       "    <tr>\n",
       "      <th>11</th>\n",
       "      <td>16755</td>\n",
       "      <td>88</td>\n",
       "      <td>2.0</td>\n",
       "      <td>53.975144</td>\n",
       "      <td>34.153584</td>\n",
       "      <td>8.0</td>\n",
       "      <td>2.0</td>\n",
       "      <td>12.0</td>\n",
       "      <td>1978</td>\n",
       "      <td>0.127376</td>\n",
       "      <td>...</td>\n",
       "      <td>3</td>\n",
       "      <td>1145.0</td>\n",
       "      <td>3</td>\n",
       "      <td>9</td>\n",
       "      <td>B</td>\n",
       "      <td>253124.005332</td>\n",
       "      <td>0</td>\n",
       "      <td>0</td>\n",
       "      <td>0</td>\n",
       "      <td>1</td>\n",
       "    </tr>\n",
       "    <tr>\n",
       "      <th>...</th>\n",
       "      <td>...</td>\n",
       "      <td>...</td>\n",
       "      <td>...</td>\n",
       "      <td>...</td>\n",
       "      <td>...</td>\n",
       "      <td>...</td>\n",
       "      <td>...</td>\n",
       "      <td>...</td>\n",
       "      <td>...</td>\n",
       "      <td>...</td>\n",
       "      <td>...</td>\n",
       "      <td>...</td>\n",
       "      <td>...</td>\n",
       "      <td>...</td>\n",
       "      <td>...</td>\n",
       "      <td>...</td>\n",
       "      <td>...</td>\n",
       "      <td>...</td>\n",
       "      <td>...</td>\n",
       "      <td>...</td>\n",
       "      <td>...</td>\n",
       "    </tr>\n",
       "    <tr>\n",
       "      <th>9993</th>\n",
       "      <td>9289</td>\n",
       "      <td>1</td>\n",
       "      <td>3.0</td>\n",
       "      <td>84.486078</td>\n",
       "      <td>78.486078</td>\n",
       "      <td>3.0</td>\n",
       "      <td>4.0</td>\n",
       "      <td>22.0</td>\n",
       "      <td>2016</td>\n",
       "      <td>0.007122</td>\n",
       "      <td>...</td>\n",
       "      <td>0</td>\n",
       "      <td>540.0</td>\n",
       "      <td>0</td>\n",
       "      <td>1</td>\n",
       "      <td>B</td>\n",
       "      <td>264213.558631</td>\n",
       "      <td>0</td>\n",
       "      <td>0</td>\n",
       "      <td>0</td>\n",
       "      <td>1</td>\n",
       "    </tr>\n",
       "    <tr>\n",
       "      <th>9995</th>\n",
       "      <td>1260</td>\n",
       "      <td>61</td>\n",
       "      <td>2.0</td>\n",
       "      <td>49.090728</td>\n",
       "      <td>33.272626</td>\n",
       "      <td>6.0</td>\n",
       "      <td>3.0</td>\n",
       "      <td>12.0</td>\n",
       "      <td>1981</td>\n",
       "      <td>0.300323</td>\n",
       "      <td>...</td>\n",
       "      <td>6</td>\n",
       "      <td>620.0</td>\n",
       "      <td>1</td>\n",
       "      <td>9</td>\n",
       "      <td>B</td>\n",
       "      <td>119367.455796</td>\n",
       "      <td>0</td>\n",
       "      <td>0</td>\n",
       "      <td>0</td>\n",
       "      <td>1</td>\n",
       "    </tr>\n",
       "    <tr>\n",
       "      <th>9996</th>\n",
       "      <td>16265</td>\n",
       "      <td>27</td>\n",
       "      <td>2.0</td>\n",
       "      <td>64.307684</td>\n",
       "      <td>37.038420</td>\n",
       "      <td>9.0</td>\n",
       "      <td>13.0</td>\n",
       "      <td>13.0</td>\n",
       "      <td>1977</td>\n",
       "      <td>0.072158</td>\n",
       "      <td>...</td>\n",
       "      <td>1</td>\n",
       "      <td>540.0</td>\n",
       "      <td>0</td>\n",
       "      <td>0</td>\n",
       "      <td>A</td>\n",
       "      <td>199715.148807</td>\n",
       "      <td>0</td>\n",
       "      <td>1</td>\n",
       "      <td>0</td>\n",
       "      <td>1</td>\n",
       "    </tr>\n",
       "    <tr>\n",
       "      <th>9997</th>\n",
       "      <td>2795</td>\n",
       "      <td>178</td>\n",
       "      <td>1.0</td>\n",
       "      <td>29.648057</td>\n",
       "      <td>16.555363</td>\n",
       "      <td>5.0</td>\n",
       "      <td>3.0</td>\n",
       "      <td>5.0</td>\n",
       "      <td>1958</td>\n",
       "      <td>0.460556</td>\n",
       "      <td>...</td>\n",
       "      <td>14</td>\n",
       "      <td>620.0</td>\n",
       "      <td>1</td>\n",
       "      <td>5</td>\n",
       "      <td>B</td>\n",
       "      <td>165953.912580</td>\n",
       "      <td>0</td>\n",
       "      <td>0</td>\n",
       "      <td>0</td>\n",
       "      <td>1</td>\n",
       "    </tr>\n",
       "    <tr>\n",
       "      <th>9999</th>\n",
       "      <td>7202</td>\n",
       "      <td>94</td>\n",
       "      <td>1.0</td>\n",
       "      <td>35.815476</td>\n",
       "      <td>22.301367</td>\n",
       "      <td>6.0</td>\n",
       "      <td>9.0</td>\n",
       "      <td>9.0</td>\n",
       "      <td>1975</td>\n",
       "      <td>0.127376</td>\n",
       "      <td>...</td>\n",
       "      <td>3</td>\n",
       "      <td>1145.0</td>\n",
       "      <td>3</td>\n",
       "      <td>9</td>\n",
       "      <td>B</td>\n",
       "      <td>177685.627486</td>\n",
       "      <td>0</td>\n",
       "      <td>0</td>\n",
       "      <td>0</td>\n",
       "      <td>1</td>\n",
       "    </tr>\n",
       "  </tbody>\n",
       "</table>\n",
       "<p>4798 rows × 24 columns</p>\n",
       "</div>"
      ],
      "text/plain": [
       "         Id DistrictId  Rooms      Square  LifeSquare  KitchenSquare  Floor  \\\n",
       "0     11809         27    3.0  115.027311  102.027311           10.0    4.0   \n",
       "3      2352          1    1.0   40.409907   34.409907            3.0   10.0   \n",
       "4     13866         94    2.0   64.285067   38.562517            9.0   16.0   \n",
       "8      9951          1    1.0   46.887892   44.628132            3.0   12.0   \n",
       "11    16755         88    2.0   53.975144   34.153584            8.0    2.0   \n",
       "...     ...        ...    ...         ...         ...            ...    ...   \n",
       "9993   9289          1    3.0   84.486078   78.486078            3.0    4.0   \n",
       "9995   1260         61    2.0   49.090728   33.272626            6.0    3.0   \n",
       "9996  16265         27    2.0   64.307684   37.038420            9.0   13.0   \n",
       "9997   2795        178    1.0   29.648057   16.555363            5.0    3.0   \n",
       "9999   7202         94    1.0   35.815476   22.301367            6.0    9.0   \n",
       "\n",
       "      HouseFloor  HouseYear  Ecology_1  ... Social_3 Healthcare_1  \\\n",
       "0           10.0       2014   0.075424  ...        0        540.0   \n",
       "3           22.0       1977   0.007122  ...        0        540.0   \n",
       "4           16.0       1972   0.282798  ...        2        540.0   \n",
       "8           20.0       1977   0.007122  ...        0        540.0   \n",
       "11          12.0       1978   0.127376  ...        3       1145.0   \n",
       "...          ...        ...        ...  ...      ...          ...   \n",
       "9993        22.0       2016   0.007122  ...        0        540.0   \n",
       "9995        12.0       1981   0.300323  ...        6        620.0   \n",
       "9996        13.0       1977   0.072158  ...        1        540.0   \n",
       "9997         5.0       1958   0.460556  ...       14        620.0   \n",
       "9999         9.0       1975   0.127376  ...        3       1145.0   \n",
       "\n",
       "      Helthcare_2  Shops_1  Shops_2          Price  Rooms_outlier  \\\n",
       "0               0        0        B  305018.871089              0   \n",
       "3               0        1        B  168106.007630              0   \n",
       "4               0        6        B  343995.102962              0   \n",
       "8               0        1        B  160400.401732              0   \n",
       "11              3        9        B  253124.005332              0   \n",
       "...           ...      ...      ...            ...            ...   \n",
       "9993            0        1        B  264213.558631              0   \n",
       "9995            1        9        B  119367.455796              0   \n",
       "9996            0        0        A  199715.148807              0   \n",
       "9997            1        5        B  165953.912580              0   \n",
       "9999            3        9        B  177685.627486              0   \n",
       "\n",
       "      HouseFloor_issue LifeSquare_nan  Healthcare_1_nan  \n",
       "0                    0              1                 1  \n",
       "3                    0              1                 1  \n",
       "4                    0              0                 1  \n",
       "8                    0              0                 1  \n",
       "11                   0              0                 1  \n",
       "...                ...            ...               ...  \n",
       "9993                 0              0                 1  \n",
       "9995                 0              0                 1  \n",
       "9996                 1              0                 1  \n",
       "9997                 0              0                 1  \n",
       "9999                 0              0                 1  \n",
       "\n",
       "[4798 rows x 24 columns]"
      ]
     },
     "execution_count": 48,
     "metadata": {},
     "output_type": "execute_result"
    }
   ],
   "source": [
    "train_df.loc[train_df['Healthcare_1_nan']==1]"
   ]
  },
  {
   "cell_type": "code",
   "execution_count": 49,
   "metadata": {
    "execution": {
     "iopub.execute_input": "2022-06-15T12:29:16.302511Z",
     "iopub.status.busy": "2022-06-15T12:29:16.301303Z",
     "iopub.status.idle": "2022-06-15T12:29:16.369275Z",
     "shell.execute_reply": "2022-06-15T12:29:16.368633Z",
     "shell.execute_reply.started": "2022-06-15T12:19:41.250903Z"
    },
    "papermill": {
     "duration": 0.19481,
     "end_time": "2022-06-15T12:29:16.369410",
     "exception": false,
     "start_time": "2022-06-15T12:29:16.174600",
     "status": "completed"
    },
    "tags": []
   },
   "outputs": [
    {
     "data": {
      "text/html": [
       "<div>\n",
       "<style scoped>\n",
       "    .dataframe tbody tr th:only-of-type {\n",
       "        vertical-align: middle;\n",
       "    }\n",
       "\n",
       "    .dataframe tbody tr th {\n",
       "        vertical-align: top;\n",
       "    }\n",
       "\n",
       "    .dataframe thead th {\n",
       "        text-align: right;\n",
       "    }\n",
       "</style>\n",
       "<table border=\"1\" class=\"dataframe\">\n",
       "  <thead>\n",
       "    <tr style=\"text-align: right;\">\n",
       "      <th></th>\n",
       "      <th>Rooms</th>\n",
       "      <th>Square</th>\n",
       "      <th>LifeSquare</th>\n",
       "      <th>KitchenSquare</th>\n",
       "      <th>Floor</th>\n",
       "      <th>HouseFloor</th>\n",
       "      <th>HouseYear</th>\n",
       "      <th>Ecology_1</th>\n",
       "      <th>Social_1</th>\n",
       "      <th>Social_2</th>\n",
       "      <th>Social_3</th>\n",
       "      <th>Healthcare_1</th>\n",
       "      <th>Helthcare_2</th>\n",
       "      <th>Shops_1</th>\n",
       "      <th>Price</th>\n",
       "      <th>Rooms_outlier</th>\n",
       "      <th>HouseFloor_issue</th>\n",
       "      <th>LifeSquare_nan</th>\n",
       "      <th>Healthcare_1_nan</th>\n",
       "    </tr>\n",
       "  </thead>\n",
       "  <tbody>\n",
       "    <tr>\n",
       "      <th>count</th>\n",
       "      <td>10000.000000</td>\n",
       "      <td>10000.000000</td>\n",
       "      <td>10000.000000</td>\n",
       "      <td>10000.000000</td>\n",
       "      <td>10000.000000</td>\n",
       "      <td>10000.00000</td>\n",
       "      <td>10000.00000</td>\n",
       "      <td>10000.000000</td>\n",
       "      <td>10000.000000</td>\n",
       "      <td>10000.000000</td>\n",
       "      <td>10000.000000</td>\n",
       "      <td>10000.000000</td>\n",
       "      <td>10000.000000</td>\n",
       "      <td>10000.000000</td>\n",
       "      <td>10000.000000</td>\n",
       "      <td>10000.000000</td>\n",
       "      <td>10000.000000</td>\n",
       "      <td>10000.000000</td>\n",
       "      <td>10000.000000</td>\n",
       "    </tr>\n",
       "    <tr>\n",
       "      <th>mean</th>\n",
       "      <td>1.887600</td>\n",
       "      <td>55.417928</td>\n",
       "      <td>38.711368</td>\n",
       "      <td>6.238200</td>\n",
       "      <td>7.918200</td>\n",
       "      <td>12.95910</td>\n",
       "      <td>1984.86600</td>\n",
       "      <td>0.118858</td>\n",
       "      <td>24.687000</td>\n",
       "      <td>5352.157400</td>\n",
       "      <td>8.039200</td>\n",
       "      <td>903.594400</td>\n",
       "      <td>1.319500</td>\n",
       "      <td>4.231300</td>\n",
       "      <td>214138.857399</td>\n",
       "      <td>0.001200</td>\n",
       "      <td>0.182500</td>\n",
       "      <td>0.211300</td>\n",
       "      <td>0.479800</td>\n",
       "    </tr>\n",
       "    <tr>\n",
       "      <th>std</th>\n",
       "      <td>0.811438</td>\n",
       "      <td>17.056737</td>\n",
       "      <td>17.492944</td>\n",
       "      <td>2.794717</td>\n",
       "      <td>5.186386</td>\n",
       "      <td>6.44346</td>\n",
       "      <td>18.41187</td>\n",
       "      <td>0.119025</td>\n",
       "      <td>17.532614</td>\n",
       "      <td>4006.799803</td>\n",
       "      <td>23.831875</td>\n",
       "      <td>794.736377</td>\n",
       "      <td>1.493601</td>\n",
       "      <td>4.806341</td>\n",
       "      <td>92872.293865</td>\n",
       "      <td>0.034622</td>\n",
       "      <td>0.386275</td>\n",
       "      <td>0.408251</td>\n",
       "      <td>0.499617</td>\n",
       "    </tr>\n",
       "    <tr>\n",
       "      <th>min</th>\n",
       "      <td>1.000000</td>\n",
       "      <td>28.000000</td>\n",
       "      <td>0.370619</td>\n",
       "      <td>3.000000</td>\n",
       "      <td>1.000000</td>\n",
       "      <td>1.00000</td>\n",
       "      <td>1910.00000</td>\n",
       "      <td>0.000000</td>\n",
       "      <td>0.000000</td>\n",
       "      <td>168.000000</td>\n",
       "      <td>0.000000</td>\n",
       "      <td>0.000000</td>\n",
       "      <td>0.000000</td>\n",
       "      <td>0.000000</td>\n",
       "      <td>59174.778028</td>\n",
       "      <td>0.000000</td>\n",
       "      <td>0.000000</td>\n",
       "      <td>0.000000</td>\n",
       "      <td>0.000000</td>\n",
       "    </tr>\n",
       "    <tr>\n",
       "      <th>25%</th>\n",
       "      <td>1.000000</td>\n",
       "      <td>41.774881</td>\n",
       "      <td>25.038231</td>\n",
       "      <td>3.000000</td>\n",
       "      <td>4.000000</td>\n",
       "      <td>9.00000</td>\n",
       "      <td>1974.00000</td>\n",
       "      <td>0.017647</td>\n",
       "      <td>6.000000</td>\n",
       "      <td>1564.000000</td>\n",
       "      <td>0.000000</td>\n",
       "      <td>540.000000</td>\n",
       "      <td>0.000000</td>\n",
       "      <td>1.000000</td>\n",
       "      <td>153872.633942</td>\n",
       "      <td>0.000000</td>\n",
       "      <td>0.000000</td>\n",
       "      <td>0.000000</td>\n",
       "      <td>0.000000</td>\n",
       "    </tr>\n",
       "    <tr>\n",
       "      <th>50%</th>\n",
       "      <td>2.000000</td>\n",
       "      <td>52.513040</td>\n",
       "      <td>35.020639</td>\n",
       "      <td>6.000000</td>\n",
       "      <td>7.000000</td>\n",
       "      <td>13.00000</td>\n",
       "      <td>1977.00000</td>\n",
       "      <td>0.075424</td>\n",
       "      <td>25.000000</td>\n",
       "      <td>5285.000000</td>\n",
       "      <td>2.000000</td>\n",
       "      <td>620.000000</td>\n",
       "      <td>1.000000</td>\n",
       "      <td>3.000000</td>\n",
       "      <td>192269.644879</td>\n",
       "      <td>0.000000</td>\n",
       "      <td>0.000000</td>\n",
       "      <td>0.000000</td>\n",
       "      <td>0.000000</td>\n",
       "    </tr>\n",
       "    <tr>\n",
       "      <th>75%</th>\n",
       "      <td>2.000000</td>\n",
       "      <td>65.481313</td>\n",
       "      <td>47.856276</td>\n",
       "      <td>8.000000</td>\n",
       "      <td>11.000000</td>\n",
       "      <td>17.00000</td>\n",
       "      <td>2001.00000</td>\n",
       "      <td>0.195781</td>\n",
       "      <td>36.000000</td>\n",
       "      <td>7227.000000</td>\n",
       "      <td>5.000000</td>\n",
       "      <td>1084.000000</td>\n",
       "      <td>2.000000</td>\n",
       "      <td>6.000000</td>\n",
       "      <td>249135.462171</td>\n",
       "      <td>0.000000</td>\n",
       "      <td>0.000000</td>\n",
       "      <td>0.000000</td>\n",
       "      <td>1.000000</td>\n",
       "    </tr>\n",
       "    <tr>\n",
       "      <th>max</th>\n",
       "      <td>5.000000</td>\n",
       "      <td>119.914990</td>\n",
       "      <td>117.446940</td>\n",
       "      <td>13.000000</td>\n",
       "      <td>42.000000</td>\n",
       "      <td>117.00000</td>\n",
       "      <td>2020.00000</td>\n",
       "      <td>0.521867</td>\n",
       "      <td>74.000000</td>\n",
       "      <td>19083.000000</td>\n",
       "      <td>141.000000</td>\n",
       "      <td>4849.000000</td>\n",
       "      <td>6.000000</td>\n",
       "      <td>23.000000</td>\n",
       "      <td>633233.466570</td>\n",
       "      <td>1.000000</td>\n",
       "      <td>1.000000</td>\n",
       "      <td>1.000000</td>\n",
       "      <td>1.000000</td>\n",
       "    </tr>\n",
       "  </tbody>\n",
       "</table>\n",
       "</div>"
      ],
      "text/plain": [
       "              Rooms        Square    LifeSquare  KitchenSquare         Floor  \\\n",
       "count  10000.000000  10000.000000  10000.000000   10000.000000  10000.000000   \n",
       "mean       1.887600     55.417928     38.711368       6.238200      7.918200   \n",
       "std        0.811438     17.056737     17.492944       2.794717      5.186386   \n",
       "min        1.000000     28.000000      0.370619       3.000000      1.000000   \n",
       "25%        1.000000     41.774881     25.038231       3.000000      4.000000   \n",
       "50%        2.000000     52.513040     35.020639       6.000000      7.000000   \n",
       "75%        2.000000     65.481313     47.856276       8.000000     11.000000   \n",
       "max        5.000000    119.914990    117.446940      13.000000     42.000000   \n",
       "\n",
       "        HouseFloor    HouseYear     Ecology_1      Social_1      Social_2  \\\n",
       "count  10000.00000  10000.00000  10000.000000  10000.000000  10000.000000   \n",
       "mean      12.95910   1984.86600      0.118858     24.687000   5352.157400   \n",
       "std        6.44346     18.41187      0.119025     17.532614   4006.799803   \n",
       "min        1.00000   1910.00000      0.000000      0.000000    168.000000   \n",
       "25%        9.00000   1974.00000      0.017647      6.000000   1564.000000   \n",
       "50%       13.00000   1977.00000      0.075424     25.000000   5285.000000   \n",
       "75%       17.00000   2001.00000      0.195781     36.000000   7227.000000   \n",
       "max      117.00000   2020.00000      0.521867     74.000000  19083.000000   \n",
       "\n",
       "           Social_3  Healthcare_1   Helthcare_2       Shops_1          Price  \\\n",
       "count  10000.000000  10000.000000  10000.000000  10000.000000   10000.000000   \n",
       "mean       8.039200    903.594400      1.319500      4.231300  214138.857399   \n",
       "std       23.831875    794.736377      1.493601      4.806341   92872.293865   \n",
       "min        0.000000      0.000000      0.000000      0.000000   59174.778028   \n",
       "25%        0.000000    540.000000      0.000000      1.000000  153872.633942   \n",
       "50%        2.000000    620.000000      1.000000      3.000000  192269.644879   \n",
       "75%        5.000000   1084.000000      2.000000      6.000000  249135.462171   \n",
       "max      141.000000   4849.000000      6.000000     23.000000  633233.466570   \n",
       "\n",
       "       Rooms_outlier  HouseFloor_issue  LifeSquare_nan  Healthcare_1_nan  \n",
       "count   10000.000000      10000.000000    10000.000000      10000.000000  \n",
       "mean        0.001200          0.182500        0.211300          0.479800  \n",
       "std         0.034622          0.386275        0.408251          0.499617  \n",
       "min         0.000000          0.000000        0.000000          0.000000  \n",
       "25%         0.000000          0.000000        0.000000          0.000000  \n",
       "50%         0.000000          0.000000        0.000000          0.000000  \n",
       "75%         0.000000          0.000000        0.000000          1.000000  \n",
       "max         1.000000          1.000000        1.000000          1.000000  "
      ]
     },
     "execution_count": 49,
     "metadata": {},
     "output_type": "execute_result"
    }
   ],
   "source": [
    "train_df.describe()"
   ]
  },
  {
   "cell_type": "code",
   "execution_count": 50,
   "metadata": {
    "execution": {
     "iopub.execute_input": "2022-06-15T12:29:16.623352Z",
     "iopub.status.busy": "2022-06-15T12:29:16.617677Z",
     "iopub.status.idle": "2022-06-15T12:29:16.638600Z",
     "shell.execute_reply": "2022-06-15T12:29:16.639234Z",
     "shell.execute_reply.started": "2022-06-15T12:19:41.376869Z"
    },
    "papermill": {
     "duration": 0.149832,
     "end_time": "2022-06-15T12:29:16.639410",
     "exception": false,
     "start_time": "2022-06-15T12:29:16.489578",
     "status": "completed"
    },
    "tags": []
   },
   "outputs": [],
   "source": [
    "class DataPreprocessing:\n",
    "    \"\"\"Подготовка исходных данных\"\"\"\n",
    "\n",
    "    def __init__(self):\n",
    "        \"\"\"Параметры класса\"\"\"\n",
    "        self.medians = None\n",
    "        self.kitchen_square_quantile = None\n",
    "        \n",
    "    def fit(self, X):\n",
    "        \"\"\"Сохранение статистик\"\"\"       \n",
    "        # Расчет медиан\n",
    "        self.medians = X.median()\n",
    "        self.kitchen_square_quantile = X['KitchenSquare'].quantile(.975)\n",
    "    \n",
    "    def transform(self, X):\n",
    "        \"\"\"Трансформация данных\"\"\"\n",
    "\n",
    "        # Rooms\n",
    "        X['Rooms_issue'] = 0\n",
    "        X.loc[(X['Rooms'] == 0) | (X['Rooms'] >= 6), 'Rooms_issue'] = 1\n",
    "        \n",
    "        X.loc[X['Rooms'] == 0, 'Rooms'] = 1\n",
    "        X.loc[X['Rooms'] >= 6, 'Rooms'] = self.medians['Rooms']\n",
    "        \n",
    "        # Square\n",
    "        X.loc[X['Square'] > 120, 'Square'] = self.medians['Square']\n",
    "        X.loc[X['Square'] < 28, 'Square'] = 28\n",
    "        \n",
    "        # KitchenSquare\n",
    "        condition = (X['KitchenSquare'].isna()) \\\n",
    "                    | (X['KitchenSquare'] > self.kitchen_square_quantile)\n",
    "        \n",
    "        X.loc[condition, 'KitchenSquare'] = self.medians['KitchenSquare']\n",
    "\n",
    "        X.loc[X['KitchenSquare'] < 3, 'KitchenSquare'] = 3\n",
    "        \n",
    "        # HouseFloor, Floor\n",
    "        X['HouseFloor_issue'] = 0\n",
    "        X.loc[X['HouseFloor'] == 0, 'HouseFloor_issue'] = 1\n",
    "        X.loc[X['Floor'] > X['HouseFloor'], 'HouseFloor_issue'] = 1\n",
    "        \n",
    "        X.loc[X['HouseFloor'] == 0, 'HouseFloor'] = self.medians['HouseFloor']\n",
    "        \n",
    "        floor_outliers = X.loc[X['Floor'] > X['HouseFloor']].index\n",
    "        X.loc[floor_outliers, 'Floor'] = X.loc[floor_outliers, 'HouseFloor']\n",
    "        \n",
    "        # HouseYear\n",
    "        current_year = datetime.now().year\n",
    "        \n",
    "        X['HouseYear_issue'] = 0\n",
    "        X.loc[X['HouseYear'] > current_year, 'HouseYear_issue'] = 1\n",
    "        \n",
    "        X.loc[X['HouseYear'] > current_year, 'HouseYear'] = current_year\n",
    "        \n",
    "        # Healthcare_1\n",
    "        df_temp = X.groupby('Helthcare_2', as_index=False).median()[['Helthcare_2', 'Healthcare_1']]\n",
    "        df_temp = pd.DataFrame(df_temp)\n",
    "        \n",
    "        hc = X['Helthcare_2']\n",
    "        hc = pd.DataFrame(hc)\n",
    "        \n",
    "        hc = hc.merge(df_temp, on=['Helthcare_2'], how=\"left\")\n",
    "        X['Healthcare_1_nan'] = X['Healthcare_1'].isna() * 1\n",
    "\n",
    "        X = X.fillna(hc)   \n",
    "        \n",
    "        \n",
    "        # LifeSquare\n",
    "        X['LifeSquare_nan'] = X['LifeSquare'].isna() * 1\n",
    "        condition = (X['LifeSquare'].isna()) & \\\n",
    "                      (~X['Square'].isna()) & \\\n",
    "                      (~X['KitchenSquare'].isna())\n",
    "        \n",
    "        X.loc[condition, 'LifeSquare'] = X.loc[condition, 'Square'] - X.loc[condition, 'KitchenSquare'] - 3\n",
    "        \n",
    "        condition = X['LifeSquare'] > X['Square']\n",
    "        X.loc[condition, 'LifeSquare'] = X.loc[condition, 'Square'] \\\n",
    "                                            - X.loc[condition, 'KitchenSquare'] - 3\n",
    "        \n",
    "        X.fillna(self.medians, inplace=True)\n",
    "        \n",
    "        return X"
   ]
  },
  {
   "cell_type": "markdown",
   "metadata": {
    "papermill": {
     "duration": 0.120706,
     "end_time": "2022-06-15T12:29:16.880995",
     "exception": false,
     "start_time": "2022-06-15T12:29:16.760289",
     "status": "completed"
    },
    "tags": []
   },
   "source": [
    "### Построение новых признаков"
   ]
  },
  {
   "cell_type": "markdown",
   "metadata": {
    "papermill": {
     "duration": 0.120262,
     "end_time": "2022-06-15T12:29:17.121263",
     "exception": false,
     "start_time": "2022-06-15T12:29:17.001001",
     "status": "completed"
    },
    "tags": []
   },
   "source": [
    "**Dummies**"
   ]
  },
  {
   "cell_type": "code",
   "execution_count": 51,
   "metadata": {
    "execution": {
     "iopub.execute_input": "2022-06-15T12:29:17.373843Z",
     "iopub.status.busy": "2022-06-15T12:29:17.367523Z",
     "iopub.status.idle": "2022-06-15T12:29:17.399624Z",
     "shell.execute_reply": "2022-06-15T12:29:17.400461Z",
     "shell.execute_reply.started": "2022-06-15T12:19:41.503797Z"
    },
    "papermill": {
     "duration": 0.157545,
     "end_time": "2022-06-15T12:29:17.400634",
     "exception": false,
     "start_time": "2022-06-15T12:29:17.243089",
     "status": "completed"
    },
    "tags": []
   },
   "outputs": [],
   "source": [
    "characters_to_numbers = {'A': 0, 'B': 1}\n",
    "\n",
    "train_df['Ecology_2'] = train_df['Ecology_2'].replace(characters_to_numbers)\n",
    "train_df['Ecology_3'] = train_df['Ecology_3'].replace(characters_to_numbers)\n",
    "train_df['Shops_2'] = train_df['Shops_2'].replace(characters_to_numbers)"
   ]
  },
  {
   "cell_type": "markdown",
   "metadata": {
    "papermill": {
     "duration": 0.119045,
     "end_time": "2022-06-15T12:29:17.639984",
     "exception": false,
     "start_time": "2022-06-15T12:29:17.520939",
     "status": "completed"
    },
    "tags": []
   },
   "source": [
    "**DistrictSize, IsDistrictLarge**"
   ]
  },
  {
   "cell_type": "code",
   "execution_count": 52,
   "metadata": {
    "execution": {
     "iopub.execute_input": "2022-06-15T12:29:17.886590Z",
     "iopub.status.busy": "2022-06-15T12:29:17.885804Z",
     "iopub.status.idle": "2022-06-15T12:29:17.902049Z",
     "shell.execute_reply": "2022-06-15T12:29:17.902618Z",
     "shell.execute_reply.started": "2022-06-15T12:19:41.635704Z"
    },
    "papermill": {
     "duration": 0.142931,
     "end_time": "2022-06-15T12:29:17.902784",
     "exception": false,
     "start_time": "2022-06-15T12:29:17.759853",
     "status": "completed"
    },
    "tags": []
   },
   "outputs": [
    {
     "data": {
      "text/html": [
       "<div>\n",
       "<style scoped>\n",
       "    .dataframe tbody tr th:only-of-type {\n",
       "        vertical-align: middle;\n",
       "    }\n",
       "\n",
       "    .dataframe tbody tr th {\n",
       "        vertical-align: top;\n",
       "    }\n",
       "\n",
       "    .dataframe thead th {\n",
       "        text-align: right;\n",
       "    }\n",
       "</style>\n",
       "<table border=\"1\" class=\"dataframe\">\n",
       "  <thead>\n",
       "    <tr style=\"text-align: right;\">\n",
       "      <th></th>\n",
       "      <th>DistrictId</th>\n",
       "      <th>DistrictSize</th>\n",
       "    </tr>\n",
       "  </thead>\n",
       "  <tbody>\n",
       "    <tr>\n",
       "      <th>0</th>\n",
       "      <td>27</td>\n",
       "      <td>851</td>\n",
       "    </tr>\n",
       "    <tr>\n",
       "      <th>1</th>\n",
       "      <td>1</td>\n",
       "      <td>652</td>\n",
       "    </tr>\n",
       "    <tr>\n",
       "      <th>2</th>\n",
       "      <td>23</td>\n",
       "      <td>565</td>\n",
       "    </tr>\n",
       "    <tr>\n",
       "      <th>3</th>\n",
       "      <td>6</td>\n",
       "      <td>511</td>\n",
       "    </tr>\n",
       "    <tr>\n",
       "      <th>4</th>\n",
       "      <td>9</td>\n",
       "      <td>294</td>\n",
       "    </tr>\n",
       "  </tbody>\n",
       "</table>\n",
       "</div>"
      ],
      "text/plain": [
       "  DistrictId  DistrictSize\n",
       "0         27           851\n",
       "1          1           652\n",
       "2         23           565\n",
       "3          6           511\n",
       "4          9           294"
      ]
     },
     "execution_count": 52,
     "metadata": {},
     "output_type": "execute_result"
    }
   ],
   "source": [
    "district_size = train_df['DistrictId'].value_counts().reset_index()\\\n",
    "                    .rename(columns={'index':'DistrictId', 'DistrictId':'DistrictSize'})\n",
    "\n",
    "district_size.head()"
   ]
  },
  {
   "cell_type": "code",
   "execution_count": 53,
   "metadata": {
    "execution": {
     "iopub.execute_input": "2022-06-15T12:29:18.189979Z",
     "iopub.status.busy": "2022-06-15T12:29:18.189249Z",
     "iopub.status.idle": "2022-06-15T12:29:18.228711Z",
     "shell.execute_reply": "2022-06-15T12:29:18.229332Z",
     "shell.execute_reply.started": "2022-06-15T12:19:41.778558Z"
    },
    "papermill": {
     "duration": 0.16366,
     "end_time": "2022-06-15T12:29:18.229494",
     "exception": false,
     "start_time": "2022-06-15T12:29:18.065834",
     "status": "completed"
    },
    "tags": []
   },
   "outputs": [
    {
     "data": {
      "text/html": [
       "<div>\n",
       "<style scoped>\n",
       "    .dataframe tbody tr th:only-of-type {\n",
       "        vertical-align: middle;\n",
       "    }\n",
       "\n",
       "    .dataframe tbody tr th {\n",
       "        vertical-align: top;\n",
       "    }\n",
       "\n",
       "    .dataframe thead th {\n",
       "        text-align: right;\n",
       "    }\n",
       "</style>\n",
       "<table border=\"1\" class=\"dataframe\">\n",
       "  <thead>\n",
       "    <tr style=\"text-align: right;\">\n",
       "      <th></th>\n",
       "      <th>Id</th>\n",
       "      <th>DistrictId</th>\n",
       "      <th>Rooms</th>\n",
       "      <th>Square</th>\n",
       "      <th>LifeSquare</th>\n",
       "      <th>KitchenSquare</th>\n",
       "      <th>Floor</th>\n",
       "      <th>HouseFloor</th>\n",
       "      <th>HouseYear</th>\n",
       "      <th>Ecology_1</th>\n",
       "      <th>...</th>\n",
       "      <th>Healthcare_1</th>\n",
       "      <th>Helthcare_2</th>\n",
       "      <th>Shops_1</th>\n",
       "      <th>Shops_2</th>\n",
       "      <th>Price</th>\n",
       "      <th>Rooms_outlier</th>\n",
       "      <th>HouseFloor_issue</th>\n",
       "      <th>LifeSquare_nan</th>\n",
       "      <th>Healthcare_1_nan</th>\n",
       "      <th>DistrictSize</th>\n",
       "    </tr>\n",
       "  </thead>\n",
       "  <tbody>\n",
       "    <tr>\n",
       "      <th>0</th>\n",
       "      <td>11809</td>\n",
       "      <td>27</td>\n",
       "      <td>3.0</td>\n",
       "      <td>115.027311</td>\n",
       "      <td>102.027311</td>\n",
       "      <td>10.0</td>\n",
       "      <td>4.0</td>\n",
       "      <td>10.0</td>\n",
       "      <td>2014</td>\n",
       "      <td>0.075424</td>\n",
       "      <td>...</td>\n",
       "      <td>540.0</td>\n",
       "      <td>0</td>\n",
       "      <td>0</td>\n",
       "      <td>1</td>\n",
       "      <td>305018.871089</td>\n",
       "      <td>0</td>\n",
       "      <td>0</td>\n",
       "      <td>1</td>\n",
       "      <td>1</td>\n",
       "      <td>851</td>\n",
       "    </tr>\n",
       "    <tr>\n",
       "      <th>1</th>\n",
       "      <td>3013</td>\n",
       "      <td>22</td>\n",
       "      <td>1.0</td>\n",
       "      <td>39.832524</td>\n",
       "      <td>23.169223</td>\n",
       "      <td>8.0</td>\n",
       "      <td>7.0</td>\n",
       "      <td>8.0</td>\n",
       "      <td>1966</td>\n",
       "      <td>0.118537</td>\n",
       "      <td>...</td>\n",
       "      <td>1183.0</td>\n",
       "      <td>1</td>\n",
       "      <td>0</td>\n",
       "      <td>1</td>\n",
       "      <td>177734.553407</td>\n",
       "      <td>0</td>\n",
       "      <td>0</td>\n",
       "      <td>0</td>\n",
       "      <td>0</td>\n",
       "      <td>78</td>\n",
       "    </tr>\n",
       "    <tr>\n",
       "      <th>2</th>\n",
       "      <td>8215</td>\n",
       "      <td>1</td>\n",
       "      <td>3.0</td>\n",
       "      <td>78.342215</td>\n",
       "      <td>47.671972</td>\n",
       "      <td>10.0</td>\n",
       "      <td>2.0</td>\n",
       "      <td>17.0</td>\n",
       "      <td>1988</td>\n",
       "      <td>0.025609</td>\n",
       "      <td>...</td>\n",
       "      <td>240.0</td>\n",
       "      <td>3</td>\n",
       "      <td>1</td>\n",
       "      <td>1</td>\n",
       "      <td>282078.720850</td>\n",
       "      <td>0</td>\n",
       "      <td>0</td>\n",
       "      <td>0</td>\n",
       "      <td>0</td>\n",
       "      <td>652</td>\n",
       "    </tr>\n",
       "    <tr>\n",
       "      <th>3</th>\n",
       "      <td>2352</td>\n",
       "      <td>1</td>\n",
       "      <td>1.0</td>\n",
       "      <td>40.409907</td>\n",
       "      <td>34.409907</td>\n",
       "      <td>3.0</td>\n",
       "      <td>10.0</td>\n",
       "      <td>22.0</td>\n",
       "      <td>1977</td>\n",
       "      <td>0.007122</td>\n",
       "      <td>...</td>\n",
       "      <td>540.0</td>\n",
       "      <td>0</td>\n",
       "      <td>1</td>\n",
       "      <td>1</td>\n",
       "      <td>168106.007630</td>\n",
       "      <td>0</td>\n",
       "      <td>0</td>\n",
       "      <td>1</td>\n",
       "      <td>1</td>\n",
       "      <td>652</td>\n",
       "    </tr>\n",
       "    <tr>\n",
       "      <th>4</th>\n",
       "      <td>13866</td>\n",
       "      <td>94</td>\n",
       "      <td>2.0</td>\n",
       "      <td>64.285067</td>\n",
       "      <td>38.562517</td>\n",
       "      <td>9.0</td>\n",
       "      <td>16.0</td>\n",
       "      <td>16.0</td>\n",
       "      <td>1972</td>\n",
       "      <td>0.282798</td>\n",
       "      <td>...</td>\n",
       "      <td>540.0</td>\n",
       "      <td>0</td>\n",
       "      <td>6</td>\n",
       "      <td>1</td>\n",
       "      <td>343995.102962</td>\n",
       "      <td>0</td>\n",
       "      <td>0</td>\n",
       "      <td>0</td>\n",
       "      <td>1</td>\n",
       "      <td>89</td>\n",
       "    </tr>\n",
       "  </tbody>\n",
       "</table>\n",
       "<p>5 rows × 25 columns</p>\n",
       "</div>"
      ],
      "text/plain": [
       "      Id DistrictId  Rooms      Square  LifeSquare  KitchenSquare  Floor  \\\n",
       "0  11809         27    3.0  115.027311  102.027311           10.0    4.0   \n",
       "1   3013         22    1.0   39.832524   23.169223            8.0    7.0   \n",
       "2   8215          1    3.0   78.342215   47.671972           10.0    2.0   \n",
       "3   2352          1    1.0   40.409907   34.409907            3.0   10.0   \n",
       "4  13866         94    2.0   64.285067   38.562517            9.0   16.0   \n",
       "\n",
       "   HouseFloor  HouseYear  Ecology_1  ...  Healthcare_1  Helthcare_2  Shops_1  \\\n",
       "0        10.0       2014   0.075424  ...         540.0            0        0   \n",
       "1         8.0       1966   0.118537  ...        1183.0            1        0   \n",
       "2        17.0       1988   0.025609  ...         240.0            3        1   \n",
       "3        22.0       1977   0.007122  ...         540.0            0        1   \n",
       "4        16.0       1972   0.282798  ...         540.0            0        6   \n",
       "\n",
       "   Shops_2          Price  Rooms_outlier  HouseFloor_issue  LifeSquare_nan  \\\n",
       "0        1  305018.871089              0                 0               1   \n",
       "1        1  177734.553407              0                 0               0   \n",
       "2        1  282078.720850              0                 0               0   \n",
       "3        1  168106.007630              0                 0               1   \n",
       "4        1  343995.102962              0                 0               0   \n",
       "\n",
       "   Healthcare_1_nan  DistrictSize  \n",
       "0                 1           851  \n",
       "1                 0            78  \n",
       "2                 0           652  \n",
       "3                 1           652  \n",
       "4                 1            89  \n",
       "\n",
       "[5 rows x 25 columns]"
      ]
     },
     "execution_count": 53,
     "metadata": {},
     "output_type": "execute_result"
    }
   ],
   "source": [
    "train_df = train_df.merge(district_size, on='DistrictId', how='left')\n",
    "train_df.head()"
   ]
  },
  {
   "cell_type": "code",
   "execution_count": 54,
   "metadata": {
    "execution": {
     "iopub.execute_input": "2022-06-15T12:29:18.477021Z",
     "iopub.status.busy": "2022-06-15T12:29:18.476272Z",
     "iopub.status.idle": "2022-06-15T12:29:18.486444Z",
     "shell.execute_reply": "2022-06-15T12:29:18.486983Z",
     "shell.execute_reply.started": "2022-06-15T12:19:41.904050Z"
    },
    "papermill": {
     "duration": 0.134427,
     "end_time": "2022-06-15T12:29:18.487145",
     "exception": false,
     "start_time": "2022-06-15T12:29:18.352718",
     "status": "completed"
    },
    "tags": []
   },
   "outputs": [
    {
     "data": {
      "text/plain": [
       "True     5069\n",
       "False    4931\n",
       "Name: DistrictSize, dtype: int64"
      ]
     },
     "execution_count": 54,
     "metadata": {},
     "output_type": "execute_result"
    }
   ],
   "source": [
    "(train_df['DistrictSize'] > 100).value_counts()"
   ]
  },
  {
   "cell_type": "code",
   "execution_count": 55,
   "metadata": {
    "execution": {
     "iopub.execute_input": "2022-06-15T12:29:18.741377Z",
     "iopub.status.busy": "2022-06-15T12:29:18.740379Z",
     "iopub.status.idle": "2022-06-15T12:29:18.743518Z",
     "shell.execute_reply": "2022-06-15T12:29:18.742941Z",
     "shell.execute_reply.started": "2022-06-15T12:19:42.032182Z"
    },
    "papermill": {
     "duration": 0.132467,
     "end_time": "2022-06-15T12:29:18.743633",
     "exception": false,
     "start_time": "2022-06-15T12:29:18.611166",
     "status": "completed"
    },
    "tags": []
   },
   "outputs": [],
   "source": [
    "train_df['IsDistrictLarge'] = (train_df['DistrictSize'] > 100).astype(int)"
   ]
  },
  {
   "cell_type": "markdown",
   "metadata": {
    "papermill": {
     "duration": 0.14021,
     "end_time": "2022-06-15T12:29:21.868033",
     "exception": false,
     "start_time": "2022-06-15T12:29:21.727823",
     "status": "completed"
    },
    "tags": []
   },
   "source": [
    "**MedPriceByDistrict**"
   ]
  },
  {
   "cell_type": "code",
   "execution_count": 56,
   "metadata": {
    "execution": {
     "iopub.execute_input": "2022-06-15T12:29:22.165242Z",
     "iopub.status.busy": "2022-06-15T12:29:22.164544Z",
     "iopub.status.idle": "2022-06-15T12:29:22.175777Z",
     "shell.execute_reply": "2022-06-15T12:29:22.176406Z",
     "shell.execute_reply.started": "2022-06-15T12:19:44.519401Z"
    },
    "papermill": {
     "duration": 0.157448,
     "end_time": "2022-06-15T12:29:22.176572",
     "exception": false,
     "start_time": "2022-06-15T12:29:22.019124",
     "status": "completed"
    },
    "tags": []
   },
   "outputs": [
    {
     "data": {
      "text/html": [
       "<div>\n",
       "<style scoped>\n",
       "    .dataframe tbody tr th:only-of-type {\n",
       "        vertical-align: middle;\n",
       "    }\n",
       "\n",
       "    .dataframe tbody tr th {\n",
       "        vertical-align: top;\n",
       "    }\n",
       "\n",
       "    .dataframe thead th {\n",
       "        text-align: right;\n",
       "    }\n",
       "</style>\n",
       "<table border=\"1\" class=\"dataframe\">\n",
       "  <thead>\n",
       "    <tr style=\"text-align: right;\">\n",
       "      <th></th>\n",
       "      <th>DistrictId</th>\n",
       "      <th>Rooms</th>\n",
       "      <th>MedPriceByDistrict</th>\n",
       "    </tr>\n",
       "  </thead>\n",
       "  <tbody>\n",
       "    <tr>\n",
       "      <th>0</th>\n",
       "      <td>0</td>\n",
       "      <td>1.0</td>\n",
       "      <td>142799.434052</td>\n",
       "    </tr>\n",
       "    <tr>\n",
       "      <th>1</th>\n",
       "      <td>0</td>\n",
       "      <td>2.0</td>\n",
       "      <td>176210.812334</td>\n",
       "    </tr>\n",
       "    <tr>\n",
       "      <th>2</th>\n",
       "      <td>0</td>\n",
       "      <td>3.0</td>\n",
       "      <td>300610.359425</td>\n",
       "    </tr>\n",
       "    <tr>\n",
       "      <th>3</th>\n",
       "      <td>1</td>\n",
       "      <td>1.0</td>\n",
       "      <td>146735.671740</td>\n",
       "    </tr>\n",
       "    <tr>\n",
       "      <th>4</th>\n",
       "      <td>1</td>\n",
       "      <td>2.0</td>\n",
       "      <td>202666.310126</td>\n",
       "    </tr>\n",
       "  </tbody>\n",
       "</table>\n",
       "</div>"
      ],
      "text/plain": [
       "  DistrictId  Rooms  MedPriceByDistrict\n",
       "0          0    1.0       142799.434052\n",
       "1          0    2.0       176210.812334\n",
       "2          0    3.0       300610.359425\n",
       "3          1    1.0       146735.671740\n",
       "4          1    2.0       202666.310126"
      ]
     },
     "execution_count": 56,
     "metadata": {},
     "output_type": "execute_result"
    }
   ],
   "source": [
    "med_price_by_district = train_df.groupby(['DistrictId', 'Rooms'], as_index=False).agg({'Price':'median'})\\\n",
    "                            .rename(columns={'Price':'MedPriceByDistrict'})\n",
    "\n",
    "med_price_by_district.head()"
   ]
  },
  {
   "cell_type": "code",
   "execution_count": 57,
   "metadata": {
    "execution": {
     "iopub.execute_input": "2022-06-15T12:29:22.456284Z",
     "iopub.status.busy": "2022-06-15T12:29:22.455573Z",
     "iopub.status.idle": "2022-06-15T12:29:22.460319Z",
     "shell.execute_reply": "2022-06-15T12:29:22.460862Z",
     "shell.execute_reply.started": "2022-06-15T12:19:44.549186Z"
    },
    "papermill": {
     "duration": 0.145243,
     "end_time": "2022-06-15T12:29:22.461024",
     "exception": false,
     "start_time": "2022-06-15T12:29:22.315781",
     "status": "completed"
    },
    "tags": []
   },
   "outputs": [
    {
     "data": {
      "text/plain": [
       "(667, 3)"
      ]
     },
     "execution_count": 57,
     "metadata": {},
     "output_type": "execute_result"
    }
   ],
   "source": [
    "med_price_by_district.shape"
   ]
  },
  {
   "cell_type": "code",
   "execution_count": 58,
   "metadata": {
    "execution": {
     "iopub.execute_input": "2022-06-15T12:29:22.733971Z",
     "iopub.status.busy": "2022-06-15T12:29:22.733257Z",
     "iopub.status.idle": "2022-06-15T12:29:22.774629Z",
     "shell.execute_reply": "2022-06-15T12:29:22.775296Z",
     "shell.execute_reply.started": "2022-06-15T12:19:44.558250Z"
    },
    "papermill": {
     "duration": 0.17924,
     "end_time": "2022-06-15T12:29:22.775457",
     "exception": false,
     "start_time": "2022-06-15T12:29:22.596217",
     "status": "completed"
    },
    "tags": []
   },
   "outputs": [
    {
     "data": {
      "text/html": [
       "<div>\n",
       "<style scoped>\n",
       "    .dataframe tbody tr th:only-of-type {\n",
       "        vertical-align: middle;\n",
       "    }\n",
       "\n",
       "    .dataframe tbody tr th {\n",
       "        vertical-align: top;\n",
       "    }\n",
       "\n",
       "    .dataframe thead th {\n",
       "        text-align: right;\n",
       "    }\n",
       "</style>\n",
       "<table border=\"1\" class=\"dataframe\">\n",
       "  <thead>\n",
       "    <tr style=\"text-align: right;\">\n",
       "      <th></th>\n",
       "      <th>Id</th>\n",
       "      <th>DistrictId</th>\n",
       "      <th>Rooms</th>\n",
       "      <th>Square</th>\n",
       "      <th>LifeSquare</th>\n",
       "      <th>KitchenSquare</th>\n",
       "      <th>Floor</th>\n",
       "      <th>HouseFloor</th>\n",
       "      <th>HouseYear</th>\n",
       "      <th>Ecology_1</th>\n",
       "      <th>...</th>\n",
       "      <th>Shops_1</th>\n",
       "      <th>Shops_2</th>\n",
       "      <th>Price</th>\n",
       "      <th>Rooms_outlier</th>\n",
       "      <th>HouseFloor_issue</th>\n",
       "      <th>LifeSquare_nan</th>\n",
       "      <th>Healthcare_1_nan</th>\n",
       "      <th>DistrictSize</th>\n",
       "      <th>IsDistrictLarge</th>\n",
       "      <th>MedPriceByDistrict</th>\n",
       "    </tr>\n",
       "  </thead>\n",
       "  <tbody>\n",
       "    <tr>\n",
       "      <th>0</th>\n",
       "      <td>11809</td>\n",
       "      <td>27</td>\n",
       "      <td>3.0</td>\n",
       "      <td>115.027311</td>\n",
       "      <td>102.027311</td>\n",
       "      <td>10.0</td>\n",
       "      <td>4.0</td>\n",
       "      <td>10.0</td>\n",
       "      <td>2014</td>\n",
       "      <td>0.075424</td>\n",
       "      <td>...</td>\n",
       "      <td>0</td>\n",
       "      <td>1</td>\n",
       "      <td>305018.871089</td>\n",
       "      <td>0</td>\n",
       "      <td>0</td>\n",
       "      <td>1</td>\n",
       "      <td>1</td>\n",
       "      <td>851</td>\n",
       "      <td>1</td>\n",
       "      <td>213530.788443</td>\n",
       "    </tr>\n",
       "    <tr>\n",
       "      <th>1</th>\n",
       "      <td>3013</td>\n",
       "      <td>22</td>\n",
       "      <td>1.0</td>\n",
       "      <td>39.832524</td>\n",
       "      <td>23.169223</td>\n",
       "      <td>8.0</td>\n",
       "      <td>7.0</td>\n",
       "      <td>8.0</td>\n",
       "      <td>1966</td>\n",
       "      <td>0.118537</td>\n",
       "      <td>...</td>\n",
       "      <td>0</td>\n",
       "      <td>1</td>\n",
       "      <td>177734.553407</td>\n",
       "      <td>0</td>\n",
       "      <td>0</td>\n",
       "      <td>0</td>\n",
       "      <td>0</td>\n",
       "      <td>78</td>\n",
       "      <td>0</td>\n",
       "      <td>146032.829834</td>\n",
       "    </tr>\n",
       "    <tr>\n",
       "      <th>2</th>\n",
       "      <td>8215</td>\n",
       "      <td>1</td>\n",
       "      <td>3.0</td>\n",
       "      <td>78.342215</td>\n",
       "      <td>47.671972</td>\n",
       "      <td>10.0</td>\n",
       "      <td>2.0</td>\n",
       "      <td>17.0</td>\n",
       "      <td>1988</td>\n",
       "      <td>0.025609</td>\n",
       "      <td>...</td>\n",
       "      <td>1</td>\n",
       "      <td>1</td>\n",
       "      <td>282078.720850</td>\n",
       "      <td>0</td>\n",
       "      <td>0</td>\n",
       "      <td>0</td>\n",
       "      <td>0</td>\n",
       "      <td>652</td>\n",
       "      <td>1</td>\n",
       "      <td>244005.272380</td>\n",
       "    </tr>\n",
       "    <tr>\n",
       "      <th>3</th>\n",
       "      <td>2352</td>\n",
       "      <td>1</td>\n",
       "      <td>1.0</td>\n",
       "      <td>40.409907</td>\n",
       "      <td>34.409907</td>\n",
       "      <td>3.0</td>\n",
       "      <td>10.0</td>\n",
       "      <td>22.0</td>\n",
       "      <td>1977</td>\n",
       "      <td>0.007122</td>\n",
       "      <td>...</td>\n",
       "      <td>1</td>\n",
       "      <td>1</td>\n",
       "      <td>168106.007630</td>\n",
       "      <td>0</td>\n",
       "      <td>0</td>\n",
       "      <td>1</td>\n",
       "      <td>1</td>\n",
       "      <td>652</td>\n",
       "      <td>1</td>\n",
       "      <td>146735.671740</td>\n",
       "    </tr>\n",
       "    <tr>\n",
       "      <th>4</th>\n",
       "      <td>13866</td>\n",
       "      <td>94</td>\n",
       "      <td>2.0</td>\n",
       "      <td>64.285067</td>\n",
       "      <td>38.562517</td>\n",
       "      <td>9.0</td>\n",
       "      <td>16.0</td>\n",
       "      <td>16.0</td>\n",
       "      <td>1972</td>\n",
       "      <td>0.282798</td>\n",
       "      <td>...</td>\n",
       "      <td>6</td>\n",
       "      <td>1</td>\n",
       "      <td>343995.102962</td>\n",
       "      <td>0</td>\n",
       "      <td>0</td>\n",
       "      <td>0</td>\n",
       "      <td>1</td>\n",
       "      <td>89</td>\n",
       "      <td>0</td>\n",
       "      <td>201584.441255</td>\n",
       "    </tr>\n",
       "  </tbody>\n",
       "</table>\n",
       "<p>5 rows × 27 columns</p>\n",
       "</div>"
      ],
      "text/plain": [
       "      Id DistrictId  Rooms      Square  LifeSquare  KitchenSquare  Floor  \\\n",
       "0  11809         27    3.0  115.027311  102.027311           10.0    4.0   \n",
       "1   3013         22    1.0   39.832524   23.169223            8.0    7.0   \n",
       "2   8215          1    3.0   78.342215   47.671972           10.0    2.0   \n",
       "3   2352          1    1.0   40.409907   34.409907            3.0   10.0   \n",
       "4  13866         94    2.0   64.285067   38.562517            9.0   16.0   \n",
       "\n",
       "   HouseFloor  HouseYear  Ecology_1  ...  Shops_1  Shops_2          Price  \\\n",
       "0        10.0       2014   0.075424  ...        0        1  305018.871089   \n",
       "1         8.0       1966   0.118537  ...        0        1  177734.553407   \n",
       "2        17.0       1988   0.025609  ...        1        1  282078.720850   \n",
       "3        22.0       1977   0.007122  ...        1        1  168106.007630   \n",
       "4        16.0       1972   0.282798  ...        6        1  343995.102962   \n",
       "\n",
       "   Rooms_outlier  HouseFloor_issue  LifeSquare_nan  Healthcare_1_nan  \\\n",
       "0              0                 0               1                 1   \n",
       "1              0                 0               0                 0   \n",
       "2              0                 0               0                 0   \n",
       "3              0                 0               1                 1   \n",
       "4              0                 0               0                 1   \n",
       "\n",
       "   DistrictSize  IsDistrictLarge  MedPriceByDistrict  \n",
       "0           851                1       213530.788443  \n",
       "1            78                0       146032.829834  \n",
       "2           652                1       244005.272380  \n",
       "3           652                1       146735.671740  \n",
       "4            89                0       201584.441255  \n",
       "\n",
       "[5 rows x 27 columns]"
      ]
     },
     "execution_count": 58,
     "metadata": {},
     "output_type": "execute_result"
    }
   ],
   "source": [
    "train_df = train_df.merge(med_price_by_district, on=['DistrictId', 'Rooms'], how='left')\n",
    "train_df.head()"
   ]
  },
  {
   "cell_type": "markdown",
   "metadata": {
    "papermill": {
     "duration": 0.137945,
     "end_time": "2022-06-15T12:29:23.049916",
     "exception": false,
     "start_time": "2022-06-15T12:29:22.911971",
     "status": "completed"
    },
    "tags": []
   },
   "source": [
    "**MedPriceByFloorYear**"
   ]
  },
  {
   "cell_type": "code",
   "execution_count": 59,
   "metadata": {
    "execution": {
     "iopub.execute_input": "2022-06-15T12:29:23.327754Z",
     "iopub.status.busy": "2022-06-15T12:29:23.327075Z",
     "iopub.status.idle": "2022-06-15T12:29:23.349867Z",
     "shell.execute_reply": "2022-06-15T12:29:23.350479Z",
     "shell.execute_reply.started": "2022-06-15T12:19:44.612718Z"
    },
    "papermill": {
     "duration": 0.163556,
     "end_time": "2022-06-15T12:29:23.350642",
     "exception": false,
     "start_time": "2022-06-15T12:29:23.187086",
     "status": "completed"
    },
    "tags": []
   },
   "outputs": [],
   "source": [
    "def floor_to_cat(X):\n",
    "\n",
    "    X['floor_cat'] = 0\n",
    "\n",
    "    X.loc[X['Floor'] <= 3, 'floor_cat'] = 1  \n",
    "    X.loc[(X['Floor'] > 3) & (X['Floor'] <= 5), 'floor_cat'] = 2\n",
    "    X.loc[(X['Floor'] > 5) & (X['Floor'] <= 9), 'floor_cat'] = 3\n",
    "    X.loc[(X['Floor'] > 9) & (X['Floor'] <= 15), 'floor_cat'] = 4\n",
    "    X.loc[X['Floor'] > 15, 'floor_cat'] = 5\n",
    "\n",
    "    return X\n",
    "\n",
    "\n",
    "def floor_to_cat_pandas(X):\n",
    "    bins = [X['Floor'].min(), 3, 5, 9, 15, X['Floor'].max()]\n",
    "    X['floor_cat'] = pd.cut(X['Floor'], bins=bins, labels=False)\n",
    "    \n",
    "    X['floor_cat'].fillna(-1, inplace=True)\n",
    "    return X\n",
    "\n",
    "\n",
    "def year_to_cat(X):\n",
    "\n",
    "    X['year_cat'] = 0\n",
    "\n",
    "    X.loc[X['HouseYear'] <= 1941, 'year_cat'] = 1\n",
    "    X.loc[(X['HouseYear'] > 1941) & (X['HouseYear'] <= 1945), 'year_cat'] = 2\n",
    "    X.loc[(X['HouseYear'] > 1945) & (X['HouseYear'] <= 1980), 'year_cat'] = 3\n",
    "    X.loc[(X['HouseYear'] > 1980) & (X['HouseYear'] <= 2000), 'year_cat'] = 4\n",
    "    X.loc[(X['HouseYear'] > 2000) & (X['HouseYear'] <= 2010), 'year_cat'] = 5\n",
    "    X.loc[(X['HouseYear'] > 2010), 'year_cat'] = 6\n",
    "\n",
    "    return X\n",
    "\n",
    "\n",
    "def year_to_cat_pandas(X):\n",
    "    bins = [X['HouseYear'].min(), 1941, 1945, 1980, 2000, 2010, X['HouseYear'].max()]\n",
    "    X['year_cat'] = pd.cut(X['HouseYear'], bins=bins, labels=False)\n",
    "    \n",
    "    X['year_cat'].fillna(-1, inplace=True)\n",
    "    return X\n",
    "\n",
    "def square_to_cat_pandas(X):\n",
    "    bins = [X['Square'].min()-1, 30, 40, 60, 80, 100, X['Square'].max()]\n",
    "    X['square_cat'] = pd.cut(X['Square'], bins=bins, labels=False)\n",
    "    \n",
    "    X['square_cat'].fillna(-1, inplace=True)\n",
    "    return X"
   ]
  },
  {
   "cell_type": "code",
   "execution_count": 60,
   "metadata": {
    "execution": {
     "iopub.execute_input": "2022-06-15T12:29:23.628701Z",
     "iopub.status.busy": "2022-06-15T12:29:23.628006Z",
     "iopub.status.idle": "2022-06-15T12:29:23.671496Z",
     "shell.execute_reply": "2022-06-15T12:29:23.672157Z",
     "shell.execute_reply.started": "2022-06-15T12:19:44.640672Z"
    },
    "papermill": {
     "duration": 0.183205,
     "end_time": "2022-06-15T12:29:23.672313",
     "exception": false,
     "start_time": "2022-06-15T12:29:23.489108",
     "status": "completed"
    },
    "tags": []
   },
   "outputs": [
    {
     "data": {
      "text/html": [
       "<div>\n",
       "<style scoped>\n",
       "    .dataframe tbody tr th:only-of-type {\n",
       "        vertical-align: middle;\n",
       "    }\n",
       "\n",
       "    .dataframe tbody tr th {\n",
       "        vertical-align: top;\n",
       "    }\n",
       "\n",
       "    .dataframe thead th {\n",
       "        text-align: right;\n",
       "    }\n",
       "</style>\n",
       "<table border=\"1\" class=\"dataframe\">\n",
       "  <thead>\n",
       "    <tr style=\"text-align: right;\">\n",
       "      <th></th>\n",
       "      <th>Id</th>\n",
       "      <th>DistrictId</th>\n",
       "      <th>Rooms</th>\n",
       "      <th>Square</th>\n",
       "      <th>LifeSquare</th>\n",
       "      <th>KitchenSquare</th>\n",
       "      <th>Floor</th>\n",
       "      <th>HouseFloor</th>\n",
       "      <th>HouseYear</th>\n",
       "      <th>Ecology_1</th>\n",
       "      <th>...</th>\n",
       "      <th>Price</th>\n",
       "      <th>Rooms_outlier</th>\n",
       "      <th>HouseFloor_issue</th>\n",
       "      <th>LifeSquare_nan</th>\n",
       "      <th>Healthcare_1_nan</th>\n",
       "      <th>DistrictSize</th>\n",
       "      <th>IsDistrictLarge</th>\n",
       "      <th>MedPriceByDistrict</th>\n",
       "      <th>year_cat</th>\n",
       "      <th>floor_cat</th>\n",
       "    </tr>\n",
       "  </thead>\n",
       "  <tbody>\n",
       "    <tr>\n",
       "      <th>0</th>\n",
       "      <td>11809</td>\n",
       "      <td>27</td>\n",
       "      <td>3.0</td>\n",
       "      <td>115.027311</td>\n",
       "      <td>102.027311</td>\n",
       "      <td>10.0</td>\n",
       "      <td>4.0</td>\n",
       "      <td>10.0</td>\n",
       "      <td>2014</td>\n",
       "      <td>0.075424</td>\n",
       "      <td>...</td>\n",
       "      <td>305018.871089</td>\n",
       "      <td>0</td>\n",
       "      <td>0</td>\n",
       "      <td>1</td>\n",
       "      <td>1</td>\n",
       "      <td>851</td>\n",
       "      <td>1</td>\n",
       "      <td>213530.788443</td>\n",
       "      <td>6</td>\n",
       "      <td>2</td>\n",
       "    </tr>\n",
       "    <tr>\n",
       "      <th>1</th>\n",
       "      <td>3013</td>\n",
       "      <td>22</td>\n",
       "      <td>1.0</td>\n",
       "      <td>39.832524</td>\n",
       "      <td>23.169223</td>\n",
       "      <td>8.0</td>\n",
       "      <td>7.0</td>\n",
       "      <td>8.0</td>\n",
       "      <td>1966</td>\n",
       "      <td>0.118537</td>\n",
       "      <td>...</td>\n",
       "      <td>177734.553407</td>\n",
       "      <td>0</td>\n",
       "      <td>0</td>\n",
       "      <td>0</td>\n",
       "      <td>0</td>\n",
       "      <td>78</td>\n",
       "      <td>0</td>\n",
       "      <td>146032.829834</td>\n",
       "      <td>3</td>\n",
       "      <td>3</td>\n",
       "    </tr>\n",
       "    <tr>\n",
       "      <th>2</th>\n",
       "      <td>8215</td>\n",
       "      <td>1</td>\n",
       "      <td>3.0</td>\n",
       "      <td>78.342215</td>\n",
       "      <td>47.671972</td>\n",
       "      <td>10.0</td>\n",
       "      <td>2.0</td>\n",
       "      <td>17.0</td>\n",
       "      <td>1988</td>\n",
       "      <td>0.025609</td>\n",
       "      <td>...</td>\n",
       "      <td>282078.720850</td>\n",
       "      <td>0</td>\n",
       "      <td>0</td>\n",
       "      <td>0</td>\n",
       "      <td>0</td>\n",
       "      <td>652</td>\n",
       "      <td>1</td>\n",
       "      <td>244005.272380</td>\n",
       "      <td>4</td>\n",
       "      <td>1</td>\n",
       "    </tr>\n",
       "    <tr>\n",
       "      <th>3</th>\n",
       "      <td>2352</td>\n",
       "      <td>1</td>\n",
       "      <td>1.0</td>\n",
       "      <td>40.409907</td>\n",
       "      <td>34.409907</td>\n",
       "      <td>3.0</td>\n",
       "      <td>10.0</td>\n",
       "      <td>22.0</td>\n",
       "      <td>1977</td>\n",
       "      <td>0.007122</td>\n",
       "      <td>...</td>\n",
       "      <td>168106.007630</td>\n",
       "      <td>0</td>\n",
       "      <td>0</td>\n",
       "      <td>1</td>\n",
       "      <td>1</td>\n",
       "      <td>652</td>\n",
       "      <td>1</td>\n",
       "      <td>146735.671740</td>\n",
       "      <td>3</td>\n",
       "      <td>4</td>\n",
       "    </tr>\n",
       "    <tr>\n",
       "      <th>4</th>\n",
       "      <td>13866</td>\n",
       "      <td>94</td>\n",
       "      <td>2.0</td>\n",
       "      <td>64.285067</td>\n",
       "      <td>38.562517</td>\n",
       "      <td>9.0</td>\n",
       "      <td>16.0</td>\n",
       "      <td>16.0</td>\n",
       "      <td>1972</td>\n",
       "      <td>0.282798</td>\n",
       "      <td>...</td>\n",
       "      <td>343995.102962</td>\n",
       "      <td>0</td>\n",
       "      <td>0</td>\n",
       "      <td>0</td>\n",
       "      <td>1</td>\n",
       "      <td>89</td>\n",
       "      <td>0</td>\n",
       "      <td>201584.441255</td>\n",
       "      <td>3</td>\n",
       "      <td>5</td>\n",
       "    </tr>\n",
       "  </tbody>\n",
       "</table>\n",
       "<p>5 rows × 29 columns</p>\n",
       "</div>"
      ],
      "text/plain": [
       "      Id DistrictId  Rooms      Square  LifeSquare  KitchenSquare  Floor  \\\n",
       "0  11809         27    3.0  115.027311  102.027311           10.0    4.0   \n",
       "1   3013         22    1.0   39.832524   23.169223            8.0    7.0   \n",
       "2   8215          1    3.0   78.342215   47.671972           10.0    2.0   \n",
       "3   2352          1    1.0   40.409907   34.409907            3.0   10.0   \n",
       "4  13866         94    2.0   64.285067   38.562517            9.0   16.0   \n",
       "\n",
       "   HouseFloor  HouseYear  Ecology_1  ...          Price  Rooms_outlier  \\\n",
       "0        10.0       2014   0.075424  ...  305018.871089              0   \n",
       "1         8.0       1966   0.118537  ...  177734.553407              0   \n",
       "2        17.0       1988   0.025609  ...  282078.720850              0   \n",
       "3        22.0       1977   0.007122  ...  168106.007630              0   \n",
       "4        16.0       1972   0.282798  ...  343995.102962              0   \n",
       "\n",
       "   HouseFloor_issue  LifeSquare_nan  Healthcare_1_nan  DistrictSize  \\\n",
       "0                 0               1                 1           851   \n",
       "1                 0               0                 0            78   \n",
       "2                 0               0                 0           652   \n",
       "3                 0               1                 1           652   \n",
       "4                 0               0                 1            89   \n",
       "\n",
       "   IsDistrictLarge  MedPriceByDistrict  year_cat  floor_cat  \n",
       "0                1       213530.788443         6          2  \n",
       "1                0       146032.829834         3          3  \n",
       "2                1       244005.272380         4          1  \n",
       "3                1       146735.671740         3          4  \n",
       "4                0       201584.441255         3          5  \n",
       "\n",
       "[5 rows x 29 columns]"
      ]
     },
     "execution_count": 60,
     "metadata": {},
     "output_type": "execute_result"
    }
   ],
   "source": [
    "train_df = year_to_cat(train_df)\n",
    "train_df = floor_to_cat(train_df)\n",
    "train_df.head()"
   ]
  },
  {
   "cell_type": "code",
   "execution_count": 61,
   "metadata": {
    "execution": {
     "iopub.execute_input": "2022-06-15T12:29:23.951644Z",
     "iopub.status.busy": "2022-06-15T12:29:23.950711Z",
     "iopub.status.idle": "2022-06-15T12:29:23.967505Z",
     "shell.execute_reply": "2022-06-15T12:29:23.968113Z",
     "shell.execute_reply.started": "2022-06-15T12:19:44.688064Z"
    },
    "papermill": {
     "duration": 0.157541,
     "end_time": "2022-06-15T12:29:23.968390",
     "exception": false,
     "start_time": "2022-06-15T12:29:23.810849",
     "status": "completed"
    },
    "tags": []
   },
   "outputs": [
    {
     "data": {
      "text/html": [
       "<div>\n",
       "<style scoped>\n",
       "    .dataframe tbody tr th:only-of-type {\n",
       "        vertical-align: middle;\n",
       "    }\n",
       "\n",
       "    .dataframe tbody tr th {\n",
       "        vertical-align: top;\n",
       "    }\n",
       "\n",
       "    .dataframe thead th {\n",
       "        text-align: right;\n",
       "    }\n",
       "</style>\n",
       "<table border=\"1\" class=\"dataframe\">\n",
       "  <thead>\n",
       "    <tr style=\"text-align: right;\">\n",
       "      <th></th>\n",
       "      <th>year_cat</th>\n",
       "      <th>floor_cat</th>\n",
       "      <th>MedPriceByFloorYear</th>\n",
       "    </tr>\n",
       "  </thead>\n",
       "  <tbody>\n",
       "    <tr>\n",
       "      <th>0</th>\n",
       "      <td>1</td>\n",
       "      <td>1</td>\n",
       "      <td>380359.112959</td>\n",
       "    </tr>\n",
       "    <tr>\n",
       "      <th>1</th>\n",
       "      <td>1</td>\n",
       "      <td>2</td>\n",
       "      <td>324303.812481</td>\n",
       "    </tr>\n",
       "    <tr>\n",
       "      <th>2</th>\n",
       "      <td>1</td>\n",
       "      <td>3</td>\n",
       "      <td>422668.384063</td>\n",
       "    </tr>\n",
       "    <tr>\n",
       "      <th>3</th>\n",
       "      <td>1</td>\n",
       "      <td>4</td>\n",
       "      <td>274992.472366</td>\n",
       "    </tr>\n",
       "    <tr>\n",
       "      <th>4</th>\n",
       "      <td>2</td>\n",
       "      <td>1</td>\n",
       "      <td>467230.539057</td>\n",
       "    </tr>\n",
       "  </tbody>\n",
       "</table>\n",
       "</div>"
      ],
      "text/plain": [
       "   year_cat  floor_cat  MedPriceByFloorYear\n",
       "0         1          1        380359.112959\n",
       "1         1          2        324303.812481\n",
       "2         1          3        422668.384063\n",
       "3         1          4        274992.472366\n",
       "4         2          1        467230.539057"
      ]
     },
     "execution_count": 61,
     "metadata": {},
     "output_type": "execute_result"
    }
   ],
   "source": [
    "med_price_by_floor_year = train_df.groupby(['year_cat', 'floor_cat'], as_index=False).agg({'Price':'median'}).\\\n",
    "                                            rename(columns={'Price':'MedPriceByFloorYear'})\n",
    "med_price_by_floor_year.head()"
   ]
  },
  {
   "cell_type": "code",
   "execution_count": 62,
   "metadata": {
    "execution": {
     "iopub.execute_input": "2022-06-15T12:29:24.251705Z",
     "iopub.status.busy": "2022-06-15T12:29:24.250646Z",
     "iopub.status.idle": "2022-06-15T12:29:24.287560Z",
     "shell.execute_reply": "2022-06-15T12:29:24.288173Z",
     "shell.execute_reply.started": "2022-06-15T12:19:44.710031Z"
    },
    "papermill": {
     "duration": 0.182519,
     "end_time": "2022-06-15T12:29:24.288384",
     "exception": false,
     "start_time": "2022-06-15T12:29:24.105865",
     "status": "completed"
    },
    "tags": []
   },
   "outputs": [
    {
     "data": {
      "text/html": [
       "<div>\n",
       "<style scoped>\n",
       "    .dataframe tbody tr th:only-of-type {\n",
       "        vertical-align: middle;\n",
       "    }\n",
       "\n",
       "    .dataframe tbody tr th {\n",
       "        vertical-align: top;\n",
       "    }\n",
       "\n",
       "    .dataframe thead th {\n",
       "        text-align: right;\n",
       "    }\n",
       "</style>\n",
       "<table border=\"1\" class=\"dataframe\">\n",
       "  <thead>\n",
       "    <tr style=\"text-align: right;\">\n",
       "      <th></th>\n",
       "      <th>Id</th>\n",
       "      <th>DistrictId</th>\n",
       "      <th>Rooms</th>\n",
       "      <th>Square</th>\n",
       "      <th>LifeSquare</th>\n",
       "      <th>KitchenSquare</th>\n",
       "      <th>Floor</th>\n",
       "      <th>HouseFloor</th>\n",
       "      <th>HouseYear</th>\n",
       "      <th>Ecology_1</th>\n",
       "      <th>...</th>\n",
       "      <th>Rooms_outlier</th>\n",
       "      <th>HouseFloor_issue</th>\n",
       "      <th>LifeSquare_nan</th>\n",
       "      <th>Healthcare_1_nan</th>\n",
       "      <th>DistrictSize</th>\n",
       "      <th>IsDistrictLarge</th>\n",
       "      <th>MedPriceByDistrict</th>\n",
       "      <th>year_cat</th>\n",
       "      <th>floor_cat</th>\n",
       "      <th>MedPriceByFloorYear</th>\n",
       "    </tr>\n",
       "  </thead>\n",
       "  <tbody>\n",
       "    <tr>\n",
       "      <th>0</th>\n",
       "      <td>11809</td>\n",
       "      <td>27</td>\n",
       "      <td>3.0</td>\n",
       "      <td>115.027311</td>\n",
       "      <td>102.027311</td>\n",
       "      <td>10.0</td>\n",
       "      <td>4.0</td>\n",
       "      <td>10.0</td>\n",
       "      <td>2014</td>\n",
       "      <td>0.075424</td>\n",
       "      <td>...</td>\n",
       "      <td>0</td>\n",
       "      <td>0</td>\n",
       "      <td>1</td>\n",
       "      <td>1</td>\n",
       "      <td>851</td>\n",
       "      <td>1</td>\n",
       "      <td>213530.788443</td>\n",
       "      <td>6</td>\n",
       "      <td>2</td>\n",
       "      <td>161663.606755</td>\n",
       "    </tr>\n",
       "    <tr>\n",
       "      <th>1</th>\n",
       "      <td>3013</td>\n",
       "      <td>22</td>\n",
       "      <td>1.0</td>\n",
       "      <td>39.832524</td>\n",
       "      <td>23.169223</td>\n",
       "      <td>8.0</td>\n",
       "      <td>7.0</td>\n",
       "      <td>8.0</td>\n",
       "      <td>1966</td>\n",
       "      <td>0.118537</td>\n",
       "      <td>...</td>\n",
       "      <td>0</td>\n",
       "      <td>0</td>\n",
       "      <td>0</td>\n",
       "      <td>0</td>\n",
       "      <td>78</td>\n",
       "      <td>0</td>\n",
       "      <td>146032.829834</td>\n",
       "      <td>3</td>\n",
       "      <td>3</td>\n",
       "      <td>192213.977261</td>\n",
       "    </tr>\n",
       "    <tr>\n",
       "      <th>2</th>\n",
       "      <td>8215</td>\n",
       "      <td>1</td>\n",
       "      <td>3.0</td>\n",
       "      <td>78.342215</td>\n",
       "      <td>47.671972</td>\n",
       "      <td>10.0</td>\n",
       "      <td>2.0</td>\n",
       "      <td>17.0</td>\n",
       "      <td>1988</td>\n",
       "      <td>0.025609</td>\n",
       "      <td>...</td>\n",
       "      <td>0</td>\n",
       "      <td>0</td>\n",
       "      <td>0</td>\n",
       "      <td>0</td>\n",
       "      <td>652</td>\n",
       "      <td>1</td>\n",
       "      <td>244005.272380</td>\n",
       "      <td>4</td>\n",
       "      <td>1</td>\n",
       "      <td>205210.068542</td>\n",
       "    </tr>\n",
       "    <tr>\n",
       "      <th>3</th>\n",
       "      <td>2352</td>\n",
       "      <td>1</td>\n",
       "      <td>1.0</td>\n",
       "      <td>40.409907</td>\n",
       "      <td>34.409907</td>\n",
       "      <td>3.0</td>\n",
       "      <td>10.0</td>\n",
       "      <td>22.0</td>\n",
       "      <td>1977</td>\n",
       "      <td>0.007122</td>\n",
       "      <td>...</td>\n",
       "      <td>0</td>\n",
       "      <td>0</td>\n",
       "      <td>1</td>\n",
       "      <td>1</td>\n",
       "      <td>652</td>\n",
       "      <td>1</td>\n",
       "      <td>146735.671740</td>\n",
       "      <td>3</td>\n",
       "      <td>4</td>\n",
       "      <td>184374.328532</td>\n",
       "    </tr>\n",
       "    <tr>\n",
       "      <th>4</th>\n",
       "      <td>13866</td>\n",
       "      <td>94</td>\n",
       "      <td>2.0</td>\n",
       "      <td>64.285067</td>\n",
       "      <td>38.562517</td>\n",
       "      <td>9.0</td>\n",
       "      <td>16.0</td>\n",
       "      <td>16.0</td>\n",
       "      <td>1972</td>\n",
       "      <td>0.282798</td>\n",
       "      <td>...</td>\n",
       "      <td>0</td>\n",
       "      <td>0</td>\n",
       "      <td>0</td>\n",
       "      <td>1</td>\n",
       "      <td>89</td>\n",
       "      <td>0</td>\n",
       "      <td>201584.441255</td>\n",
       "      <td>3</td>\n",
       "      <td>5</td>\n",
       "      <td>175503.767602</td>\n",
       "    </tr>\n",
       "  </tbody>\n",
       "</table>\n",
       "<p>5 rows × 30 columns</p>\n",
       "</div>"
      ],
      "text/plain": [
       "      Id DistrictId  Rooms      Square  LifeSquare  KitchenSquare  Floor  \\\n",
       "0  11809         27    3.0  115.027311  102.027311           10.0    4.0   \n",
       "1   3013         22    1.0   39.832524   23.169223            8.0    7.0   \n",
       "2   8215          1    3.0   78.342215   47.671972           10.0    2.0   \n",
       "3   2352          1    1.0   40.409907   34.409907            3.0   10.0   \n",
       "4  13866         94    2.0   64.285067   38.562517            9.0   16.0   \n",
       "\n",
       "   HouseFloor  HouseYear  Ecology_1  ...  Rooms_outlier  HouseFloor_issue  \\\n",
       "0        10.0       2014   0.075424  ...              0                 0   \n",
       "1         8.0       1966   0.118537  ...              0                 0   \n",
       "2        17.0       1988   0.025609  ...              0                 0   \n",
       "3        22.0       1977   0.007122  ...              0                 0   \n",
       "4        16.0       1972   0.282798  ...              0                 0   \n",
       "\n",
       "   LifeSquare_nan  Healthcare_1_nan  DistrictSize  IsDistrictLarge  \\\n",
       "0               1                 1           851                1   \n",
       "1               0                 0            78                0   \n",
       "2               0                 0           652                1   \n",
       "3               1                 1           652                1   \n",
       "4               0                 1            89                0   \n",
       "\n",
       "   MedPriceByDistrict  year_cat  floor_cat  MedPriceByFloorYear  \n",
       "0       213530.788443         6          2        161663.606755  \n",
       "1       146032.829834         3          3        192213.977261  \n",
       "2       244005.272380         4          1        205210.068542  \n",
       "3       146735.671740         3          4        184374.328532  \n",
       "4       201584.441255         3          5        175503.767602  \n",
       "\n",
       "[5 rows x 30 columns]"
      ]
     },
     "execution_count": 62,
     "metadata": {},
     "output_type": "execute_result"
    }
   ],
   "source": [
    "train_df = train_df.merge(med_price_by_floor_year, on=['year_cat', 'floor_cat'], how='left')\n",
    "train_df.head()"
   ]
  },
  {
   "cell_type": "markdown",
   "metadata": {
    "papermill": {
     "duration": 0.137023,
     "end_time": "2022-06-15T12:29:24.563868",
     "exception": false,
     "start_time": "2022-06-15T12:29:24.426845",
     "status": "completed"
    },
    "tags": []
   },
   "source": [
    "**MedYearByDistrict**"
   ]
  },
  {
   "cell_type": "markdown",
   "metadata": {
    "papermill": {
     "duration": 0.140218,
     "end_time": "2022-06-15T12:29:24.842884",
     "exception": false,
     "start_time": "2022-06-15T12:29:24.702666",
     "status": "completed"
    },
    "tags": []
   },
   "source": [
    "Cоздадим показатель зависимости года постройки домов от района."
   ]
  },
  {
   "cell_type": "code",
   "execution_count": 63,
   "metadata": {
    "execution": {
     "iopub.execute_input": "2022-06-15T12:29:25.124305Z",
     "iopub.status.busy": "2022-06-15T12:29:25.123506Z",
     "iopub.status.idle": "2022-06-15T12:29:25.142636Z",
     "shell.execute_reply": "2022-06-15T12:29:25.143206Z",
     "shell.execute_reply.started": "2022-06-15T12:19:44.755895Z"
    },
    "papermill": {
     "duration": 0.161374,
     "end_time": "2022-06-15T12:29:25.143361",
     "exception": false,
     "start_time": "2022-06-15T12:29:24.981987",
     "status": "completed"
    },
    "tags": []
   },
   "outputs": [
    {
     "data": {
      "text/html": [
       "<div>\n",
       "<style scoped>\n",
       "    .dataframe tbody tr th:only-of-type {\n",
       "        vertical-align: middle;\n",
       "    }\n",
       "\n",
       "    .dataframe tbody tr th {\n",
       "        vertical-align: top;\n",
       "    }\n",
       "\n",
       "    .dataframe thead th {\n",
       "        text-align: right;\n",
       "    }\n",
       "</style>\n",
       "<table border=\"1\" class=\"dataframe\">\n",
       "  <thead>\n",
       "    <tr style=\"text-align: right;\">\n",
       "      <th></th>\n",
       "      <th>DistrictId</th>\n",
       "      <th>MedYearByDistrict</th>\n",
       "    </tr>\n",
       "  </thead>\n",
       "  <tbody>\n",
       "    <tr>\n",
       "      <th>0</th>\n",
       "      <td>0</td>\n",
       "      <td>3.0</td>\n",
       "    </tr>\n",
       "    <tr>\n",
       "      <th>1</th>\n",
       "      <td>1</td>\n",
       "      <td>3.0</td>\n",
       "    </tr>\n",
       "    <tr>\n",
       "      <th>2</th>\n",
       "      <td>10</td>\n",
       "      <td>3.0</td>\n",
       "    </tr>\n",
       "    <tr>\n",
       "      <th>3</th>\n",
       "      <td>100</td>\n",
       "      <td>3.0</td>\n",
       "    </tr>\n",
       "    <tr>\n",
       "      <th>4</th>\n",
       "      <td>101</td>\n",
       "      <td>3.0</td>\n",
       "    </tr>\n",
       "    <tr>\n",
       "      <th>...</th>\n",
       "      <td>...</td>\n",
       "      <td>...</td>\n",
       "    </tr>\n",
       "    <tr>\n",
       "      <th>200</th>\n",
       "      <td>95</td>\n",
       "      <td>3.0</td>\n",
       "    </tr>\n",
       "    <tr>\n",
       "      <th>201</th>\n",
       "      <td>96</td>\n",
       "      <td>5.0</td>\n",
       "    </tr>\n",
       "    <tr>\n",
       "      <th>202</th>\n",
       "      <td>97</td>\n",
       "      <td>3.0</td>\n",
       "    </tr>\n",
       "    <tr>\n",
       "      <th>203</th>\n",
       "      <td>98</td>\n",
       "      <td>3.0</td>\n",
       "    </tr>\n",
       "    <tr>\n",
       "      <th>204</th>\n",
       "      <td>99</td>\n",
       "      <td>3.0</td>\n",
       "    </tr>\n",
       "  </tbody>\n",
       "</table>\n",
       "<p>205 rows × 2 columns</p>\n",
       "</div>"
      ],
      "text/plain": [
       "    DistrictId  MedYearByDistrict\n",
       "0            0                3.0\n",
       "1            1                3.0\n",
       "2           10                3.0\n",
       "3          100                3.0\n",
       "4          101                3.0\n",
       "..         ...                ...\n",
       "200         95                3.0\n",
       "201         96                5.0\n",
       "202         97                3.0\n",
       "203         98                3.0\n",
       "204         99                3.0\n",
       "\n",
       "[205 rows x 2 columns]"
      ]
     },
     "execution_count": 63,
     "metadata": {},
     "output_type": "execute_result"
    }
   ],
   "source": [
    "med_year_by_district = train_df.groupby(['DistrictId'], as_index=False).agg({'year_cat':'median'}).\\\n",
    "                                            rename(columns={'year_cat':'MedYearByDistrict'})\n",
    "med_year_by_district"
   ]
  },
  {
   "cell_type": "code",
   "execution_count": 64,
   "metadata": {
    "execution": {
     "iopub.execute_input": "2022-06-15T12:29:25.424445Z",
     "iopub.status.busy": "2022-06-15T12:29:25.423727Z",
     "iopub.status.idle": "2022-06-15T12:29:25.462511Z",
     "shell.execute_reply": "2022-06-15T12:29:25.461967Z",
     "shell.execute_reply.started": "2022-06-15T12:19:44.780972Z"
    },
    "papermill": {
     "duration": 0.181127,
     "end_time": "2022-06-15T12:29:25.462634",
     "exception": false,
     "start_time": "2022-06-15T12:29:25.281507",
     "status": "completed"
    },
    "scrolled": true,
    "tags": []
   },
   "outputs": [
    {
     "data": {
      "text/html": [
       "<div>\n",
       "<style scoped>\n",
       "    .dataframe tbody tr th:only-of-type {\n",
       "        vertical-align: middle;\n",
       "    }\n",
       "\n",
       "    .dataframe tbody tr th {\n",
       "        vertical-align: top;\n",
       "    }\n",
       "\n",
       "    .dataframe thead th {\n",
       "        text-align: right;\n",
       "    }\n",
       "</style>\n",
       "<table border=\"1\" class=\"dataframe\">\n",
       "  <thead>\n",
       "    <tr style=\"text-align: right;\">\n",
       "      <th></th>\n",
       "      <th>Id</th>\n",
       "      <th>DistrictId</th>\n",
       "      <th>Rooms</th>\n",
       "      <th>Square</th>\n",
       "      <th>LifeSquare</th>\n",
       "      <th>KitchenSquare</th>\n",
       "      <th>Floor</th>\n",
       "      <th>HouseFloor</th>\n",
       "      <th>HouseYear</th>\n",
       "      <th>Ecology_1</th>\n",
       "      <th>...</th>\n",
       "      <th>HouseFloor_issue</th>\n",
       "      <th>LifeSquare_nan</th>\n",
       "      <th>Healthcare_1_nan</th>\n",
       "      <th>DistrictSize</th>\n",
       "      <th>IsDistrictLarge</th>\n",
       "      <th>MedPriceByDistrict</th>\n",
       "      <th>year_cat</th>\n",
       "      <th>floor_cat</th>\n",
       "      <th>MedPriceByFloorYear</th>\n",
       "      <th>MedYearByDistrict</th>\n",
       "    </tr>\n",
       "  </thead>\n",
       "  <tbody>\n",
       "    <tr>\n",
       "      <th>0</th>\n",
       "      <td>11809</td>\n",
       "      <td>27</td>\n",
       "      <td>3.0</td>\n",
       "      <td>115.027311</td>\n",
       "      <td>102.027311</td>\n",
       "      <td>10.0</td>\n",
       "      <td>4.0</td>\n",
       "      <td>10.0</td>\n",
       "      <td>2014</td>\n",
       "      <td>0.075424</td>\n",
       "      <td>...</td>\n",
       "      <td>0</td>\n",
       "      <td>1</td>\n",
       "      <td>1</td>\n",
       "      <td>851</td>\n",
       "      <td>1</td>\n",
       "      <td>213530.788443</td>\n",
       "      <td>6</td>\n",
       "      <td>2</td>\n",
       "      <td>161663.606755</td>\n",
       "      <td>3.0</td>\n",
       "    </tr>\n",
       "    <tr>\n",
       "      <th>1</th>\n",
       "      <td>3013</td>\n",
       "      <td>22</td>\n",
       "      <td>1.0</td>\n",
       "      <td>39.832524</td>\n",
       "      <td>23.169223</td>\n",
       "      <td>8.0</td>\n",
       "      <td>7.0</td>\n",
       "      <td>8.0</td>\n",
       "      <td>1966</td>\n",
       "      <td>0.118537</td>\n",
       "      <td>...</td>\n",
       "      <td>0</td>\n",
       "      <td>0</td>\n",
       "      <td>0</td>\n",
       "      <td>78</td>\n",
       "      <td>0</td>\n",
       "      <td>146032.829834</td>\n",
       "      <td>3</td>\n",
       "      <td>3</td>\n",
       "      <td>192213.977261</td>\n",
       "      <td>3.0</td>\n",
       "    </tr>\n",
       "    <tr>\n",
       "      <th>2</th>\n",
       "      <td>8215</td>\n",
       "      <td>1</td>\n",
       "      <td>3.0</td>\n",
       "      <td>78.342215</td>\n",
       "      <td>47.671972</td>\n",
       "      <td>10.0</td>\n",
       "      <td>2.0</td>\n",
       "      <td>17.0</td>\n",
       "      <td>1988</td>\n",
       "      <td>0.025609</td>\n",
       "      <td>...</td>\n",
       "      <td>0</td>\n",
       "      <td>0</td>\n",
       "      <td>0</td>\n",
       "      <td>652</td>\n",
       "      <td>1</td>\n",
       "      <td>244005.272380</td>\n",
       "      <td>4</td>\n",
       "      <td>1</td>\n",
       "      <td>205210.068542</td>\n",
       "      <td>3.0</td>\n",
       "    </tr>\n",
       "    <tr>\n",
       "      <th>3</th>\n",
       "      <td>2352</td>\n",
       "      <td>1</td>\n",
       "      <td>1.0</td>\n",
       "      <td>40.409907</td>\n",
       "      <td>34.409907</td>\n",
       "      <td>3.0</td>\n",
       "      <td>10.0</td>\n",
       "      <td>22.0</td>\n",
       "      <td>1977</td>\n",
       "      <td>0.007122</td>\n",
       "      <td>...</td>\n",
       "      <td>0</td>\n",
       "      <td>1</td>\n",
       "      <td>1</td>\n",
       "      <td>652</td>\n",
       "      <td>1</td>\n",
       "      <td>146735.671740</td>\n",
       "      <td>3</td>\n",
       "      <td>4</td>\n",
       "      <td>184374.328532</td>\n",
       "      <td>3.0</td>\n",
       "    </tr>\n",
       "    <tr>\n",
       "      <th>4</th>\n",
       "      <td>13866</td>\n",
       "      <td>94</td>\n",
       "      <td>2.0</td>\n",
       "      <td>64.285067</td>\n",
       "      <td>38.562517</td>\n",
       "      <td>9.0</td>\n",
       "      <td>16.0</td>\n",
       "      <td>16.0</td>\n",
       "      <td>1972</td>\n",
       "      <td>0.282798</td>\n",
       "      <td>...</td>\n",
       "      <td>0</td>\n",
       "      <td>0</td>\n",
       "      <td>1</td>\n",
       "      <td>89</td>\n",
       "      <td>0</td>\n",
       "      <td>201584.441255</td>\n",
       "      <td>3</td>\n",
       "      <td>5</td>\n",
       "      <td>175503.767602</td>\n",
       "      <td>3.0</td>\n",
       "    </tr>\n",
       "  </tbody>\n",
       "</table>\n",
       "<p>5 rows × 31 columns</p>\n",
       "</div>"
      ],
      "text/plain": [
       "      Id DistrictId  Rooms      Square  LifeSquare  KitchenSquare  Floor  \\\n",
       "0  11809         27    3.0  115.027311  102.027311           10.0    4.0   \n",
       "1   3013         22    1.0   39.832524   23.169223            8.0    7.0   \n",
       "2   8215          1    3.0   78.342215   47.671972           10.0    2.0   \n",
       "3   2352          1    1.0   40.409907   34.409907            3.0   10.0   \n",
       "4  13866         94    2.0   64.285067   38.562517            9.0   16.0   \n",
       "\n",
       "   HouseFloor  HouseYear  Ecology_1  ...  HouseFloor_issue  LifeSquare_nan  \\\n",
       "0        10.0       2014   0.075424  ...                 0               1   \n",
       "1         8.0       1966   0.118537  ...                 0               0   \n",
       "2        17.0       1988   0.025609  ...                 0               0   \n",
       "3        22.0       1977   0.007122  ...                 0               1   \n",
       "4        16.0       1972   0.282798  ...                 0               0   \n",
       "\n",
       "   Healthcare_1_nan  DistrictSize  IsDistrictLarge  MedPriceByDistrict  \\\n",
       "0                 1           851                1       213530.788443   \n",
       "1                 0            78                0       146032.829834   \n",
       "2                 0           652                1       244005.272380   \n",
       "3                 1           652                1       146735.671740   \n",
       "4                 1            89                0       201584.441255   \n",
       "\n",
       "   year_cat  floor_cat  MedPriceByFloorYear  MedYearByDistrict  \n",
       "0         6          2        161663.606755                3.0  \n",
       "1         3          3        192213.977261                3.0  \n",
       "2         4          1        205210.068542                3.0  \n",
       "3         3          4        184374.328532                3.0  \n",
       "4         3          5        175503.767602                3.0  \n",
       "\n",
       "[5 rows x 31 columns]"
      ]
     },
     "execution_count": 64,
     "metadata": {},
     "output_type": "execute_result"
    }
   ],
   "source": [
    "train_df = train_df.merge(med_year_by_district, on=['DistrictId'], how='left')\n",
    "train_df.head()"
   ]
  },
  {
   "cell_type": "markdown",
   "metadata": {},
   "source": [
    "**MedPriceBySquareFloor**"
   ]
  },
  {
   "cell_type": "markdown",
   "metadata": {
    "papermill": {
     "duration": 0.137906,
     "end_time": "2022-06-15T12:29:25.740304",
     "exception": false,
     "start_time": "2022-06-15T12:29:25.602398",
     "status": "completed"
    },
    "tags": []
   },
   "source": [
    "Создадим показатель на основе связки площади квартиры и этажа."
   ]
  },
  {
   "cell_type": "code",
   "execution_count": 65,
   "metadata": {
    "execution": {
     "iopub.execute_input": "2022-06-15T12:29:26.025403Z",
     "iopub.status.busy": "2022-06-15T12:29:26.024642Z",
     "iopub.status.idle": "2022-06-15T12:29:26.054321Z",
     "shell.execute_reply": "2022-06-15T12:29:26.054891Z",
     "shell.execute_reply.started": "2022-06-15T12:19:44.825384Z"
    },
    "papermill": {
     "duration": 0.17544,
     "end_time": "2022-06-15T12:29:26.055073",
     "exception": false,
     "start_time": "2022-06-15T12:29:25.879633",
     "status": "completed"
    },
    "tags": []
   },
   "outputs": [
    {
     "data": {
      "text/html": [
       "<div>\n",
       "<style scoped>\n",
       "    .dataframe tbody tr th:only-of-type {\n",
       "        vertical-align: middle;\n",
       "    }\n",
       "\n",
       "    .dataframe tbody tr th {\n",
       "        vertical-align: top;\n",
       "    }\n",
       "\n",
       "    .dataframe thead th {\n",
       "        text-align: right;\n",
       "    }\n",
       "</style>\n",
       "<table border=\"1\" class=\"dataframe\">\n",
       "  <thead>\n",
       "    <tr style=\"text-align: right;\">\n",
       "      <th></th>\n",
       "      <th>Id</th>\n",
       "      <th>DistrictId</th>\n",
       "      <th>Rooms</th>\n",
       "      <th>Square</th>\n",
       "      <th>LifeSquare</th>\n",
       "      <th>KitchenSquare</th>\n",
       "      <th>Floor</th>\n",
       "      <th>HouseFloor</th>\n",
       "      <th>HouseYear</th>\n",
       "      <th>Ecology_1</th>\n",
       "      <th>...</th>\n",
       "      <th>LifeSquare_nan</th>\n",
       "      <th>Healthcare_1_nan</th>\n",
       "      <th>DistrictSize</th>\n",
       "      <th>IsDistrictLarge</th>\n",
       "      <th>MedPriceByDistrict</th>\n",
       "      <th>year_cat</th>\n",
       "      <th>floor_cat</th>\n",
       "      <th>MedPriceByFloorYear</th>\n",
       "      <th>MedYearByDistrict</th>\n",
       "      <th>square_cat</th>\n",
       "    </tr>\n",
       "  </thead>\n",
       "  <tbody>\n",
       "    <tr>\n",
       "      <th>0</th>\n",
       "      <td>11809</td>\n",
       "      <td>27</td>\n",
       "      <td>3.0</td>\n",
       "      <td>115.027311</td>\n",
       "      <td>102.027311</td>\n",
       "      <td>10.0</td>\n",
       "      <td>4.0</td>\n",
       "      <td>10.0</td>\n",
       "      <td>2014</td>\n",
       "      <td>0.075424</td>\n",
       "      <td>...</td>\n",
       "      <td>1</td>\n",
       "      <td>1</td>\n",
       "      <td>851</td>\n",
       "      <td>1</td>\n",
       "      <td>213530.788443</td>\n",
       "      <td>6</td>\n",
       "      <td>2</td>\n",
       "      <td>161663.606755</td>\n",
       "      <td>3.0</td>\n",
       "      <td>5</td>\n",
       "    </tr>\n",
       "    <tr>\n",
       "      <th>1</th>\n",
       "      <td>3013</td>\n",
       "      <td>22</td>\n",
       "      <td>1.0</td>\n",
       "      <td>39.832524</td>\n",
       "      <td>23.169223</td>\n",
       "      <td>8.0</td>\n",
       "      <td>7.0</td>\n",
       "      <td>8.0</td>\n",
       "      <td>1966</td>\n",
       "      <td>0.118537</td>\n",
       "      <td>...</td>\n",
       "      <td>0</td>\n",
       "      <td>0</td>\n",
       "      <td>78</td>\n",
       "      <td>0</td>\n",
       "      <td>146032.829834</td>\n",
       "      <td>3</td>\n",
       "      <td>3</td>\n",
       "      <td>192213.977261</td>\n",
       "      <td>3.0</td>\n",
       "      <td>1</td>\n",
       "    </tr>\n",
       "    <tr>\n",
       "      <th>2</th>\n",
       "      <td>8215</td>\n",
       "      <td>1</td>\n",
       "      <td>3.0</td>\n",
       "      <td>78.342215</td>\n",
       "      <td>47.671972</td>\n",
       "      <td>10.0</td>\n",
       "      <td>2.0</td>\n",
       "      <td>17.0</td>\n",
       "      <td>1988</td>\n",
       "      <td>0.025609</td>\n",
       "      <td>...</td>\n",
       "      <td>0</td>\n",
       "      <td>0</td>\n",
       "      <td>652</td>\n",
       "      <td>1</td>\n",
       "      <td>244005.272380</td>\n",
       "      <td>4</td>\n",
       "      <td>1</td>\n",
       "      <td>205210.068542</td>\n",
       "      <td>3.0</td>\n",
       "      <td>3</td>\n",
       "    </tr>\n",
       "    <tr>\n",
       "      <th>3</th>\n",
       "      <td>2352</td>\n",
       "      <td>1</td>\n",
       "      <td>1.0</td>\n",
       "      <td>40.409907</td>\n",
       "      <td>34.409907</td>\n",
       "      <td>3.0</td>\n",
       "      <td>10.0</td>\n",
       "      <td>22.0</td>\n",
       "      <td>1977</td>\n",
       "      <td>0.007122</td>\n",
       "      <td>...</td>\n",
       "      <td>1</td>\n",
       "      <td>1</td>\n",
       "      <td>652</td>\n",
       "      <td>1</td>\n",
       "      <td>146735.671740</td>\n",
       "      <td>3</td>\n",
       "      <td>4</td>\n",
       "      <td>184374.328532</td>\n",
       "      <td>3.0</td>\n",
       "      <td>2</td>\n",
       "    </tr>\n",
       "    <tr>\n",
       "      <th>4</th>\n",
       "      <td>13866</td>\n",
       "      <td>94</td>\n",
       "      <td>2.0</td>\n",
       "      <td>64.285067</td>\n",
       "      <td>38.562517</td>\n",
       "      <td>9.0</td>\n",
       "      <td>16.0</td>\n",
       "      <td>16.0</td>\n",
       "      <td>1972</td>\n",
       "      <td>0.282798</td>\n",
       "      <td>...</td>\n",
       "      <td>0</td>\n",
       "      <td>1</td>\n",
       "      <td>89</td>\n",
       "      <td>0</td>\n",
       "      <td>201584.441255</td>\n",
       "      <td>3</td>\n",
       "      <td>5</td>\n",
       "      <td>175503.767602</td>\n",
       "      <td>3.0</td>\n",
       "      <td>3</td>\n",
       "    </tr>\n",
       "  </tbody>\n",
       "</table>\n",
       "<p>5 rows × 32 columns</p>\n",
       "</div>"
      ],
      "text/plain": [
       "      Id DistrictId  Rooms      Square  LifeSquare  KitchenSquare  Floor  \\\n",
       "0  11809         27    3.0  115.027311  102.027311           10.0    4.0   \n",
       "1   3013         22    1.0   39.832524   23.169223            8.0    7.0   \n",
       "2   8215          1    3.0   78.342215   47.671972           10.0    2.0   \n",
       "3   2352          1    1.0   40.409907   34.409907            3.0   10.0   \n",
       "4  13866         94    2.0   64.285067   38.562517            9.0   16.0   \n",
       "\n",
       "   HouseFloor  HouseYear  Ecology_1  ...  LifeSquare_nan  Healthcare_1_nan  \\\n",
       "0        10.0       2014   0.075424  ...               1                 1   \n",
       "1         8.0       1966   0.118537  ...               0                 0   \n",
       "2        17.0       1988   0.025609  ...               0                 0   \n",
       "3        22.0       1977   0.007122  ...               1                 1   \n",
       "4        16.0       1972   0.282798  ...               0                 1   \n",
       "\n",
       "   DistrictSize  IsDistrictLarge  MedPriceByDistrict  year_cat  floor_cat  \\\n",
       "0           851                1       213530.788443         6          2   \n",
       "1            78                0       146032.829834         3          3   \n",
       "2           652                1       244005.272380         4          1   \n",
       "3           652                1       146735.671740         3          4   \n",
       "4            89                0       201584.441255         3          5   \n",
       "\n",
       "   MedPriceByFloorYear  MedYearByDistrict  square_cat  \n",
       "0        161663.606755                3.0           5  \n",
       "1        192213.977261                3.0           1  \n",
       "2        205210.068542                3.0           3  \n",
       "3        184374.328532                3.0           2  \n",
       "4        175503.767602                3.0           3  \n",
       "\n",
       "[5 rows x 32 columns]"
      ]
     },
     "execution_count": 65,
     "metadata": {},
     "output_type": "execute_result"
    }
   ],
   "source": [
    "train_df = square_to_cat_pandas(train_df)\n",
    "train_df.head()"
   ]
  },
  {
   "cell_type": "code",
   "execution_count": 66,
   "metadata": {
    "execution": {
     "iopub.execute_input": "2022-06-15T12:29:26.339148Z",
     "iopub.status.busy": "2022-06-15T12:29:26.338365Z",
     "iopub.status.idle": "2022-06-15T12:29:26.354567Z",
     "shell.execute_reply": "2022-06-15T12:29:26.355139Z",
     "shell.execute_reply.started": "2022-06-15T12:19:44.866821Z"
    },
    "papermill": {
     "duration": 0.159754,
     "end_time": "2022-06-15T12:29:26.355298",
     "exception": false,
     "start_time": "2022-06-15T12:29:26.195544",
     "status": "completed"
    },
    "tags": []
   },
   "outputs": [
    {
     "data": {
      "text/html": [
       "<div>\n",
       "<style scoped>\n",
       "    .dataframe tbody tr th:only-of-type {\n",
       "        vertical-align: middle;\n",
       "    }\n",
       "\n",
       "    .dataframe tbody tr th {\n",
       "        vertical-align: top;\n",
       "    }\n",
       "\n",
       "    .dataframe thead th {\n",
       "        text-align: right;\n",
       "    }\n",
       "</style>\n",
       "<table border=\"1\" class=\"dataframe\">\n",
       "  <thead>\n",
       "    <tr style=\"text-align: right;\">\n",
       "      <th></th>\n",
       "      <th>square_cat</th>\n",
       "      <th>floor_cat</th>\n",
       "      <th>MedPriceBySquareFloor</th>\n",
       "    </tr>\n",
       "  </thead>\n",
       "  <tbody>\n",
       "    <tr>\n",
       "      <th>25</th>\n",
       "      <td>5</td>\n",
       "      <td>1</td>\n",
       "      <td>309311.697054</td>\n",
       "    </tr>\n",
       "    <tr>\n",
       "      <th>26</th>\n",
       "      <td>5</td>\n",
       "      <td>2</td>\n",
       "      <td>366400.936549</td>\n",
       "    </tr>\n",
       "    <tr>\n",
       "      <th>27</th>\n",
       "      <td>5</td>\n",
       "      <td>3</td>\n",
       "      <td>456417.428803</td>\n",
       "    </tr>\n",
       "    <tr>\n",
       "      <th>28</th>\n",
       "      <td>5</td>\n",
       "      <td>4</td>\n",
       "      <td>426477.392850</td>\n",
       "    </tr>\n",
       "    <tr>\n",
       "      <th>29</th>\n",
       "      <td>5</td>\n",
       "      <td>5</td>\n",
       "      <td>396825.943131</td>\n",
       "    </tr>\n",
       "  </tbody>\n",
       "</table>\n",
       "</div>"
      ],
      "text/plain": [
       "    square_cat  floor_cat  MedPriceBySquareFloor\n",
       "25           5          1          309311.697054\n",
       "26           5          2          366400.936549\n",
       "27           5          3          456417.428803\n",
       "28           5          4          426477.392850\n",
       "29           5          5          396825.943131"
      ]
     },
     "execution_count": 66,
     "metadata": {},
     "output_type": "execute_result"
    }
   ],
   "source": [
    "med_price_by_square_floor = train_df.groupby(['square_cat', 'floor_cat'], as_index=False).agg({'Price':'median'}).\\\n",
    "                                            rename(columns={'Price':'MedPriceBySquareFloor'})\n",
    "med_price_by_square_floor.tail()"
   ]
  },
  {
   "cell_type": "code",
   "execution_count": 67,
   "metadata": {
    "execution": {
     "iopub.execute_input": "2022-06-15T12:29:26.641083Z",
     "iopub.status.busy": "2022-06-15T12:29:26.640008Z",
     "iopub.status.idle": "2022-06-15T12:29:26.683900Z",
     "shell.execute_reply": "2022-06-15T12:29:26.683319Z",
     "shell.execute_reply.started": "2022-06-15T12:19:44.887715Z"
    },
    "papermill": {
     "duration": 0.187865,
     "end_time": "2022-06-15T12:29:26.684068",
     "exception": false,
     "start_time": "2022-06-15T12:29:26.496203",
     "status": "completed"
    },
    "scrolled": true,
    "tags": []
   },
   "outputs": [
    {
     "data": {
      "text/html": [
       "<div>\n",
       "<style scoped>\n",
       "    .dataframe tbody tr th:only-of-type {\n",
       "        vertical-align: middle;\n",
       "    }\n",
       "\n",
       "    .dataframe tbody tr th {\n",
       "        vertical-align: top;\n",
       "    }\n",
       "\n",
       "    .dataframe thead th {\n",
       "        text-align: right;\n",
       "    }\n",
       "</style>\n",
       "<table border=\"1\" class=\"dataframe\">\n",
       "  <thead>\n",
       "    <tr style=\"text-align: right;\">\n",
       "      <th></th>\n",
       "      <th>Id</th>\n",
       "      <th>DistrictId</th>\n",
       "      <th>Rooms</th>\n",
       "      <th>Square</th>\n",
       "      <th>LifeSquare</th>\n",
       "      <th>KitchenSquare</th>\n",
       "      <th>Floor</th>\n",
       "      <th>HouseFloor</th>\n",
       "      <th>HouseYear</th>\n",
       "      <th>Ecology_1</th>\n",
       "      <th>...</th>\n",
       "      <th>Healthcare_1_nan</th>\n",
       "      <th>DistrictSize</th>\n",
       "      <th>IsDistrictLarge</th>\n",
       "      <th>MedPriceByDistrict</th>\n",
       "      <th>year_cat</th>\n",
       "      <th>floor_cat</th>\n",
       "      <th>MedPriceByFloorYear</th>\n",
       "      <th>MedYearByDistrict</th>\n",
       "      <th>square_cat</th>\n",
       "      <th>MedPriceBySquareFloor</th>\n",
       "    </tr>\n",
       "  </thead>\n",
       "  <tbody>\n",
       "    <tr>\n",
       "      <th>0</th>\n",
       "      <td>11809</td>\n",
       "      <td>27</td>\n",
       "      <td>3.0</td>\n",
       "      <td>115.027311</td>\n",
       "      <td>102.027311</td>\n",
       "      <td>10.0</td>\n",
       "      <td>4.0</td>\n",
       "      <td>10.0</td>\n",
       "      <td>2014</td>\n",
       "      <td>0.075424</td>\n",
       "      <td>...</td>\n",
       "      <td>1</td>\n",
       "      <td>851</td>\n",
       "      <td>1</td>\n",
       "      <td>213530.788443</td>\n",
       "      <td>6</td>\n",
       "      <td>2</td>\n",
       "      <td>161663.606755</td>\n",
       "      <td>3.0</td>\n",
       "      <td>5</td>\n",
       "      <td>366400.936549</td>\n",
       "    </tr>\n",
       "    <tr>\n",
       "      <th>1</th>\n",
       "      <td>3013</td>\n",
       "      <td>22</td>\n",
       "      <td>1.0</td>\n",
       "      <td>39.832524</td>\n",
       "      <td>23.169223</td>\n",
       "      <td>8.0</td>\n",
       "      <td>7.0</td>\n",
       "      <td>8.0</td>\n",
       "      <td>1966</td>\n",
       "      <td>0.118537</td>\n",
       "      <td>...</td>\n",
       "      <td>0</td>\n",
       "      <td>78</td>\n",
       "      <td>0</td>\n",
       "      <td>146032.829834</td>\n",
       "      <td>3</td>\n",
       "      <td>3</td>\n",
       "      <td>192213.977261</td>\n",
       "      <td>3.0</td>\n",
       "      <td>1</td>\n",
       "      <td>164872.178085</td>\n",
       "    </tr>\n",
       "    <tr>\n",
       "      <th>2</th>\n",
       "      <td>8215</td>\n",
       "      <td>1</td>\n",
       "      <td>3.0</td>\n",
       "      <td>78.342215</td>\n",
       "      <td>47.671972</td>\n",
       "      <td>10.0</td>\n",
       "      <td>2.0</td>\n",
       "      <td>17.0</td>\n",
       "      <td>1988</td>\n",
       "      <td>0.025609</td>\n",
       "      <td>...</td>\n",
       "      <td>0</td>\n",
       "      <td>652</td>\n",
       "      <td>1</td>\n",
       "      <td>244005.272380</td>\n",
       "      <td>4</td>\n",
       "      <td>1</td>\n",
       "      <td>205210.068542</td>\n",
       "      <td>3.0</td>\n",
       "      <td>3</td>\n",
       "      <td>203904.528791</td>\n",
       "    </tr>\n",
       "    <tr>\n",
       "      <th>3</th>\n",
       "      <td>2352</td>\n",
       "      <td>1</td>\n",
       "      <td>1.0</td>\n",
       "      <td>40.409907</td>\n",
       "      <td>34.409907</td>\n",
       "      <td>3.0</td>\n",
       "      <td>10.0</td>\n",
       "      <td>22.0</td>\n",
       "      <td>1977</td>\n",
       "      <td>0.007122</td>\n",
       "      <td>...</td>\n",
       "      <td>1</td>\n",
       "      <td>652</td>\n",
       "      <td>1</td>\n",
       "      <td>146735.671740</td>\n",
       "      <td>3</td>\n",
       "      <td>4</td>\n",
       "      <td>184374.328532</td>\n",
       "      <td>3.0</td>\n",
       "      <td>2</td>\n",
       "      <td>182985.843406</td>\n",
       "    </tr>\n",
       "    <tr>\n",
       "      <th>4</th>\n",
       "      <td>13866</td>\n",
       "      <td>94</td>\n",
       "      <td>2.0</td>\n",
       "      <td>64.285067</td>\n",
       "      <td>38.562517</td>\n",
       "      <td>9.0</td>\n",
       "      <td>16.0</td>\n",
       "      <td>16.0</td>\n",
       "      <td>1972</td>\n",
       "      <td>0.282798</td>\n",
       "      <td>...</td>\n",
       "      <td>1</td>\n",
       "      <td>89</td>\n",
       "      <td>0</td>\n",
       "      <td>201584.441255</td>\n",
       "      <td>3</td>\n",
       "      <td>5</td>\n",
       "      <td>175503.767602</td>\n",
       "      <td>3.0</td>\n",
       "      <td>3</td>\n",
       "      <td>219387.324353</td>\n",
       "    </tr>\n",
       "  </tbody>\n",
       "</table>\n",
       "<p>5 rows × 33 columns</p>\n",
       "</div>"
      ],
      "text/plain": [
       "      Id DistrictId  Rooms      Square  LifeSquare  KitchenSquare  Floor  \\\n",
       "0  11809         27    3.0  115.027311  102.027311           10.0    4.0   \n",
       "1   3013         22    1.0   39.832524   23.169223            8.0    7.0   \n",
       "2   8215          1    3.0   78.342215   47.671972           10.0    2.0   \n",
       "3   2352          1    1.0   40.409907   34.409907            3.0   10.0   \n",
       "4  13866         94    2.0   64.285067   38.562517            9.0   16.0   \n",
       "\n",
       "   HouseFloor  HouseYear  Ecology_1  ...  Healthcare_1_nan  DistrictSize  \\\n",
       "0        10.0       2014   0.075424  ...                 1           851   \n",
       "1         8.0       1966   0.118537  ...                 0            78   \n",
       "2        17.0       1988   0.025609  ...                 0           652   \n",
       "3        22.0       1977   0.007122  ...                 1           652   \n",
       "4        16.0       1972   0.282798  ...                 1            89   \n",
       "\n",
       "   IsDistrictLarge  MedPriceByDistrict  year_cat  floor_cat  \\\n",
       "0                1       213530.788443         6          2   \n",
       "1                0       146032.829834         3          3   \n",
       "2                1       244005.272380         4          1   \n",
       "3                1       146735.671740         3          4   \n",
       "4                0       201584.441255         3          5   \n",
       "\n",
       "   MedPriceByFloorYear  MedYearByDistrict  square_cat  MedPriceBySquareFloor  \n",
       "0        161663.606755                3.0           5          366400.936549  \n",
       "1        192213.977261                3.0           1          164872.178085  \n",
       "2        205210.068542                3.0           3          203904.528791  \n",
       "3        184374.328532                3.0           2          182985.843406  \n",
       "4        175503.767602                3.0           3          219387.324353  \n",
       "\n",
       "[5 rows x 33 columns]"
      ]
     },
     "execution_count": 67,
     "metadata": {},
     "output_type": "execute_result"
    }
   ],
   "source": [
    "train_df = train_df.merge(med_price_by_square_floor, on=['square_cat', 'floor_cat'], how='left')\n",
    "train_df.head()"
   ]
  },
  {
   "cell_type": "markdown",
   "metadata": {},
   "source": [
    "**MedPriceBySocial**"
   ]
  },
  {
   "cell_type": "markdown",
   "metadata": {
    "papermill": {
     "duration": 0.141897,
     "end_time": "2022-06-15T12:29:26.968464",
     "exception": false,
     "start_time": "2022-06-15T12:29:26.826567",
     "status": "completed"
    },
    "tags": []
   },
   "source": [
    "Создадим комплексный показатель социально-экономических характеристик."
   ]
  },
  {
   "cell_type": "code",
   "execution_count": 68,
   "metadata": {
    "execution": {
     "iopub.execute_input": "2022-06-15T12:29:27.259071Z",
     "iopub.status.busy": "2022-06-15T12:29:27.258315Z",
     "iopub.status.idle": "2022-06-15T12:29:27.263708Z",
     "shell.execute_reply": "2022-06-15T12:29:27.264217Z",
     "shell.execute_reply.started": "2022-06-15T12:19:44.932358Z"
    },
    "papermill": {
     "duration": 0.152983,
     "end_time": "2022-06-15T12:29:27.264382",
     "exception": false,
     "start_time": "2022-06-15T12:29:27.111399",
     "status": "completed"
    },
    "tags": []
   },
   "outputs": [
    {
     "data": {
      "text/plain": [
       "1    9725\n",
       "0     275\n",
       "Name: Ecology_3, dtype: int64"
      ]
     },
     "execution_count": 68,
     "metadata": {},
     "output_type": "execute_result"
    }
   ],
   "source": [
    "train_df['Ecology_3'].value_counts()"
   ]
  },
  {
   "cell_type": "code",
   "execution_count": 69,
   "metadata": {
    "execution": {
     "iopub.execute_input": "2022-06-15T12:29:27.552875Z",
     "iopub.status.busy": "2022-06-15T12:29:27.552190Z",
     "iopub.status.idle": "2022-06-15T12:29:27.558778Z",
     "shell.execute_reply": "2022-06-15T12:29:27.559352Z",
     "shell.execute_reply.started": "2022-06-15T12:19:44.942027Z"
    },
    "papermill": {
     "duration": 0.152376,
     "end_time": "2022-06-15T12:29:27.559505",
     "exception": false,
     "start_time": "2022-06-15T12:29:27.407129",
     "status": "completed"
    },
    "tags": []
   },
   "outputs": [
    {
     "data": {
      "text/plain": [
       "0    4214\n",
       "1    2183\n",
       "3    1670\n",
       "2    1158\n",
       "5     388\n",
       "4     288\n",
       "6      99\n",
       "Name: Helthcare_2, dtype: int64"
      ]
     },
     "execution_count": 69,
     "metadata": {},
     "output_type": "execute_result"
    }
   ],
   "source": [
    "train_df['Helthcare_2'].value_counts()"
   ]
  },
  {
   "cell_type": "code",
   "execution_count": 70,
   "metadata": {
    "execution": {
     "iopub.execute_input": "2022-06-15T12:29:27.850706Z",
     "iopub.status.busy": "2022-06-15T12:29:27.849667Z",
     "iopub.status.idle": "2022-06-15T12:29:27.858781Z",
     "shell.execute_reply": "2022-06-15T12:29:27.859570Z",
     "shell.execute_reply.started": "2022-06-15T12:19:44.956355Z"
    },
    "papermill": {
     "duration": 0.156164,
     "end_time": "2022-06-15T12:29:27.859788",
     "exception": false,
     "start_time": "2022-06-15T12:29:27.703624",
     "status": "completed"
    },
    "tags": []
   },
   "outputs": [
    {
     "data": {
      "text/plain": [
       "0     2316\n",
       "1     1325\n",
       "5     1324\n",
       "2      964\n",
       "4      841\n",
       "3      711\n",
       "6      487\n",
       "11     401\n",
       "9      316\n",
       "7      294\n",
       "8      253\n",
       "23     245\n",
       "10     215\n",
       "15     176\n",
       "16      83\n",
       "19      49\n",
       "Name: Shops_1, dtype: int64"
      ]
     },
     "execution_count": 70,
     "metadata": {},
     "output_type": "execute_result"
    }
   ],
   "source": [
    "train_df['Shops_1'].value_counts()"
   ]
  },
  {
   "cell_type": "code",
   "execution_count": 71,
   "metadata": {
    "execution": {
     "iopub.execute_input": "2022-06-15T12:29:28.150116Z",
     "iopub.status.busy": "2022-06-15T12:29:28.149125Z",
     "iopub.status.idle": "2022-06-15T12:29:28.168345Z",
     "shell.execute_reply": "2022-06-15T12:29:28.168926Z",
     "shell.execute_reply.started": "2022-06-15T12:19:44.969223Z"
    },
    "papermill": {
     "duration": 0.166815,
     "end_time": "2022-06-15T12:29:28.169091",
     "exception": false,
     "start_time": "2022-06-15T12:29:28.002276",
     "status": "completed"
    },
    "tags": []
   },
   "outputs": [
    {
     "data": {
      "text/html": [
       "<div>\n",
       "<style scoped>\n",
       "    .dataframe tbody tr th:only-of-type {\n",
       "        vertical-align: middle;\n",
       "    }\n",
       "\n",
       "    .dataframe tbody tr th {\n",
       "        vertical-align: top;\n",
       "    }\n",
       "\n",
       "    .dataframe thead th {\n",
       "        text-align: right;\n",
       "    }\n",
       "</style>\n",
       "<table border=\"1\" class=\"dataframe\">\n",
       "  <thead>\n",
       "    <tr style=\"text-align: right;\">\n",
       "      <th></th>\n",
       "      <th>Ecology_3</th>\n",
       "      <th>Helthcare_2</th>\n",
       "      <th>Shops_1</th>\n",
       "      <th>MedPriceBySocial</th>\n",
       "    </tr>\n",
       "  </thead>\n",
       "  <tbody>\n",
       "    <tr>\n",
       "      <th>51</th>\n",
       "      <td>1</td>\n",
       "      <td>4</td>\n",
       "      <td>5</td>\n",
       "      <td>236932.947628</td>\n",
       "    </tr>\n",
       "    <tr>\n",
       "      <th>52</th>\n",
       "      <td>1</td>\n",
       "      <td>4</td>\n",
       "      <td>7</td>\n",
       "      <td>234971.013875</td>\n",
       "    </tr>\n",
       "    <tr>\n",
       "      <th>53</th>\n",
       "      <td>1</td>\n",
       "      <td>4</td>\n",
       "      <td>10</td>\n",
       "      <td>319736.586892</td>\n",
       "    </tr>\n",
       "    <tr>\n",
       "      <th>54</th>\n",
       "      <td>1</td>\n",
       "      <td>5</td>\n",
       "      <td>5</td>\n",
       "      <td>344183.239861</td>\n",
       "    </tr>\n",
       "    <tr>\n",
       "      <th>55</th>\n",
       "      <td>1</td>\n",
       "      <td>5</td>\n",
       "      <td>7</td>\n",
       "      <td>211958.677387</td>\n",
       "    </tr>\n",
       "    <tr>\n",
       "      <th>56</th>\n",
       "      <td>1</td>\n",
       "      <td>5</td>\n",
       "      <td>8</td>\n",
       "      <td>198633.629010</td>\n",
       "    </tr>\n",
       "    <tr>\n",
       "      <th>57</th>\n",
       "      <td>1</td>\n",
       "      <td>5</td>\n",
       "      <td>15</td>\n",
       "      <td>228453.854181</td>\n",
       "    </tr>\n",
       "    <tr>\n",
       "      <th>58</th>\n",
       "      <td>1</td>\n",
       "      <td>6</td>\n",
       "      <td>6</td>\n",
       "      <td>201222.824645</td>\n",
       "    </tr>\n",
       "  </tbody>\n",
       "</table>\n",
       "</div>"
      ],
      "text/plain": [
       "    Ecology_3  Helthcare_2  Shops_1  MedPriceBySocial\n",
       "51          1            4        5     236932.947628\n",
       "52          1            4        7     234971.013875\n",
       "53          1            4       10     319736.586892\n",
       "54          1            5        5     344183.239861\n",
       "55          1            5        7     211958.677387\n",
       "56          1            5        8     198633.629010\n",
       "57          1            5       15     228453.854181\n",
       "58          1            6        6     201222.824645"
      ]
     },
     "execution_count": 71,
     "metadata": {},
     "output_type": "execute_result"
    }
   ],
   "source": [
    "med_price_by_social = train_df.groupby(['Ecology_3', 'Helthcare_2', 'Shops_1'], as_index=False).agg({'Price':'median'}).\\\n",
    "                                            rename(columns={'Price':'MedPriceBySocial'})\n",
    "med_price_by_social.tail(8)"
   ]
  },
  {
   "cell_type": "code",
   "execution_count": 72,
   "metadata": {
    "execution": {
     "iopub.execute_input": "2022-06-15T12:29:28.462797Z",
     "iopub.status.busy": "2022-06-15T12:29:28.461758Z",
     "iopub.status.idle": "2022-06-15T12:29:28.467448Z",
     "shell.execute_reply": "2022-06-15T12:29:28.468065Z",
     "shell.execute_reply.started": "2022-06-15T12:19:44.995623Z"
    },
    "papermill": {
     "duration": 0.15496,
     "end_time": "2022-06-15T12:29:28.468211",
     "exception": false,
     "start_time": "2022-06-15T12:29:28.313251",
     "status": "completed"
    },
    "tags": []
   },
   "outputs": [
    {
     "data": {
      "text/plain": [
       "(59, 4)"
      ]
     },
     "execution_count": 72,
     "metadata": {},
     "output_type": "execute_result"
    }
   ],
   "source": [
    "med_price_by_social.shape"
   ]
  },
  {
   "cell_type": "code",
   "execution_count": 73,
   "metadata": {
    "execution": {
     "iopub.execute_input": "2022-06-15T12:29:28.774215Z",
     "iopub.status.busy": "2022-06-15T12:29:28.773532Z",
     "iopub.status.idle": "2022-06-15T12:29:28.816017Z",
     "shell.execute_reply": "2022-06-15T12:29:28.815268Z",
     "shell.execute_reply.started": "2022-06-15T12:19:45.003809Z"
    },
    "papermill": {
     "duration": 0.199539,
     "end_time": "2022-06-15T12:29:28.816147",
     "exception": false,
     "start_time": "2022-06-15T12:29:28.616608",
     "status": "completed"
    },
    "tags": []
   },
   "outputs": [
    {
     "data": {
      "text/html": [
       "<div>\n",
       "<style scoped>\n",
       "    .dataframe tbody tr th:only-of-type {\n",
       "        vertical-align: middle;\n",
       "    }\n",
       "\n",
       "    .dataframe tbody tr th {\n",
       "        vertical-align: top;\n",
       "    }\n",
       "\n",
       "    .dataframe thead th {\n",
       "        text-align: right;\n",
       "    }\n",
       "</style>\n",
       "<table border=\"1\" class=\"dataframe\">\n",
       "  <thead>\n",
       "    <tr style=\"text-align: right;\">\n",
       "      <th></th>\n",
       "      <th>Id</th>\n",
       "      <th>DistrictId</th>\n",
       "      <th>Rooms</th>\n",
       "      <th>Square</th>\n",
       "      <th>LifeSquare</th>\n",
       "      <th>KitchenSquare</th>\n",
       "      <th>Floor</th>\n",
       "      <th>HouseFloor</th>\n",
       "      <th>HouseYear</th>\n",
       "      <th>Ecology_1</th>\n",
       "      <th>...</th>\n",
       "      <th>DistrictSize</th>\n",
       "      <th>IsDistrictLarge</th>\n",
       "      <th>MedPriceByDistrict</th>\n",
       "      <th>year_cat</th>\n",
       "      <th>floor_cat</th>\n",
       "      <th>MedPriceByFloorYear</th>\n",
       "      <th>MedYearByDistrict</th>\n",
       "      <th>square_cat</th>\n",
       "      <th>MedPriceBySquareFloor</th>\n",
       "      <th>MedPriceBySocial</th>\n",
       "    </tr>\n",
       "  </thead>\n",
       "  <tbody>\n",
       "    <tr>\n",
       "      <th>0</th>\n",
       "      <td>11809</td>\n",
       "      <td>27</td>\n",
       "      <td>3.0</td>\n",
       "      <td>115.027311</td>\n",
       "      <td>102.027311</td>\n",
       "      <td>10.0</td>\n",
       "      <td>4.0</td>\n",
       "      <td>10.0</td>\n",
       "      <td>2014</td>\n",
       "      <td>0.075424</td>\n",
       "      <td>...</td>\n",
       "      <td>851</td>\n",
       "      <td>1</td>\n",
       "      <td>213530.788443</td>\n",
       "      <td>6</td>\n",
       "      <td>2</td>\n",
       "      <td>161663.606755</td>\n",
       "      <td>3.0</td>\n",
       "      <td>5</td>\n",
       "      <td>366400.936549</td>\n",
       "      <td>150321.860442</td>\n",
       "    </tr>\n",
       "    <tr>\n",
       "      <th>1</th>\n",
       "      <td>3013</td>\n",
       "      <td>22</td>\n",
       "      <td>1.0</td>\n",
       "      <td>39.832524</td>\n",
       "      <td>23.169223</td>\n",
       "      <td>8.0</td>\n",
       "      <td>7.0</td>\n",
       "      <td>8.0</td>\n",
       "      <td>1966</td>\n",
       "      <td>0.118537</td>\n",
       "      <td>...</td>\n",
       "      <td>78</td>\n",
       "      <td>0</td>\n",
       "      <td>146032.829834</td>\n",
       "      <td>3</td>\n",
       "      <td>3</td>\n",
       "      <td>192213.977261</td>\n",
       "      <td>3.0</td>\n",
       "      <td>1</td>\n",
       "      <td>164872.178085</td>\n",
       "      <td>193049.498040</td>\n",
       "    </tr>\n",
       "    <tr>\n",
       "      <th>2</th>\n",
       "      <td>8215</td>\n",
       "      <td>1</td>\n",
       "      <td>3.0</td>\n",
       "      <td>78.342215</td>\n",
       "      <td>47.671972</td>\n",
       "      <td>10.0</td>\n",
       "      <td>2.0</td>\n",
       "      <td>17.0</td>\n",
       "      <td>1988</td>\n",
       "      <td>0.025609</td>\n",
       "      <td>...</td>\n",
       "      <td>652</td>\n",
       "      <td>1</td>\n",
       "      <td>244005.272380</td>\n",
       "      <td>4</td>\n",
       "      <td>1</td>\n",
       "      <td>205210.068542</td>\n",
       "      <td>3.0</td>\n",
       "      <td>3</td>\n",
       "      <td>203904.528791</td>\n",
       "      <td>205880.911849</td>\n",
       "    </tr>\n",
       "    <tr>\n",
       "      <th>3</th>\n",
       "      <td>2352</td>\n",
       "      <td>1</td>\n",
       "      <td>1.0</td>\n",
       "      <td>40.409907</td>\n",
       "      <td>34.409907</td>\n",
       "      <td>3.0</td>\n",
       "      <td>10.0</td>\n",
       "      <td>22.0</td>\n",
       "      <td>1977</td>\n",
       "      <td>0.007122</td>\n",
       "      <td>...</td>\n",
       "      <td>652</td>\n",
       "      <td>1</td>\n",
       "      <td>146735.671740</td>\n",
       "      <td>3</td>\n",
       "      <td>4</td>\n",
       "      <td>184374.328532</td>\n",
       "      <td>3.0</td>\n",
       "      <td>2</td>\n",
       "      <td>182985.843406</td>\n",
       "      <td>173984.472520</td>\n",
       "    </tr>\n",
       "    <tr>\n",
       "      <th>4</th>\n",
       "      <td>13866</td>\n",
       "      <td>94</td>\n",
       "      <td>2.0</td>\n",
       "      <td>64.285067</td>\n",
       "      <td>38.562517</td>\n",
       "      <td>9.0</td>\n",
       "      <td>16.0</td>\n",
       "      <td>16.0</td>\n",
       "      <td>1972</td>\n",
       "      <td>0.282798</td>\n",
       "      <td>...</td>\n",
       "      <td>89</td>\n",
       "      <td>0</td>\n",
       "      <td>201584.441255</td>\n",
       "      <td>3</td>\n",
       "      <td>5</td>\n",
       "      <td>175503.767602</td>\n",
       "      <td>3.0</td>\n",
       "      <td>3</td>\n",
       "      <td>219387.324353</td>\n",
       "      <td>194139.246597</td>\n",
       "    </tr>\n",
       "  </tbody>\n",
       "</table>\n",
       "<p>5 rows × 34 columns</p>\n",
       "</div>"
      ],
      "text/plain": [
       "      Id DistrictId  Rooms      Square  LifeSquare  KitchenSquare  Floor  \\\n",
       "0  11809         27    3.0  115.027311  102.027311           10.0    4.0   \n",
       "1   3013         22    1.0   39.832524   23.169223            8.0    7.0   \n",
       "2   8215          1    3.0   78.342215   47.671972           10.0    2.0   \n",
       "3   2352          1    1.0   40.409907   34.409907            3.0   10.0   \n",
       "4  13866         94    2.0   64.285067   38.562517            9.0   16.0   \n",
       "\n",
       "   HouseFloor  HouseYear  Ecology_1  ...  DistrictSize  IsDistrictLarge  \\\n",
       "0        10.0       2014   0.075424  ...           851                1   \n",
       "1         8.0       1966   0.118537  ...            78                0   \n",
       "2        17.0       1988   0.025609  ...           652                1   \n",
       "3        22.0       1977   0.007122  ...           652                1   \n",
       "4        16.0       1972   0.282798  ...            89                0   \n",
       "\n",
       "   MedPriceByDistrict  year_cat  floor_cat  MedPriceByFloorYear  \\\n",
       "0       213530.788443         6          2        161663.606755   \n",
       "1       146032.829834         3          3        192213.977261   \n",
       "2       244005.272380         4          1        205210.068542   \n",
       "3       146735.671740         3          4        184374.328532   \n",
       "4       201584.441255         3          5        175503.767602   \n",
       "\n",
       "   MedYearByDistrict  square_cat  MedPriceBySquareFloor  MedPriceBySocial  \n",
       "0                3.0           5          366400.936549     150321.860442  \n",
       "1                3.0           1          164872.178085     193049.498040  \n",
       "2                3.0           3          203904.528791     205880.911849  \n",
       "3                3.0           2          182985.843406     173984.472520  \n",
       "4                3.0           3          219387.324353     194139.246597  \n",
       "\n",
       "[5 rows x 34 columns]"
      ]
     },
     "execution_count": 73,
     "metadata": {},
     "output_type": "execute_result"
    }
   ],
   "source": [
    "train_df = train_df.merge(med_price_by_social, on=['Ecology_3', 'Helthcare_2', 'Shops_1'], how='left')\n",
    "train_df.head()"
   ]
  },
  {
   "cell_type": "code",
   "execution_count": 74,
   "metadata": {
    "execution": {
     "iopub.execute_input": "2022-06-15T12:29:29.116777Z",
     "iopub.status.busy": "2022-06-15T12:29:29.116024Z",
     "iopub.status.idle": "2022-06-15T12:29:29.161322Z",
     "shell.execute_reply": "2022-06-15T12:29:29.161903Z",
     "shell.execute_reply.started": "2022-06-15T12:19:45.059668Z"
    },
    "papermill": {
     "duration": 0.196798,
     "end_time": "2022-06-15T12:29:29.162075",
     "exception": false,
     "start_time": "2022-06-15T12:29:28.965277",
     "status": "completed"
    },
    "tags": []
   },
   "outputs": [],
   "source": [
    "class FeatureGenetator():\n",
    "    \"\"\"Генерация новых фич\"\"\"\n",
    "    \n",
    "    def __init__(self):\n",
    "        self.DistrictId_counts = None\n",
    "        self.characters_to_numbers = None\n",
    "        self.med_price_by_floor_year = None\n",
    "        self.med_price_by_square_floor = None\n",
    "        self.med_year_by_district = None\n",
    "        self.med_price_by_social = None\n",
    "        self.house_year_max = None\n",
    "        self.floor_max = None\n",
    "        self.house_year_min = None\n",
    "        self.floor_min = None\n",
    "        self.district_size = None\n",
    "        self.square_max = None\n",
    "        self.square_min = None\n",
    "        \n",
    "    def fit(self, X, y=None):\n",
    "        \n",
    "        X = X.copy()\n",
    "        \n",
    "        # Binary features\n",
    "        self.characters_to_numbers = {'A': 0, 'B': 1}\n",
    "        X['Ecology_2'] = X['Ecology_2'].map(self.characters_to_numbers)\n",
    "        X['Ecology_3'] = X['Ecology_3'].map(self.characters_to_numbers)\n",
    "        X['Shops_2'] = X['Shops_2'].map(self.characters_to_numbers)\n",
    "        \n",
    "        # DistrictID\n",
    "        self.district_size = X['DistrictId'].value_counts().reset_index() \\\n",
    "                               .rename(columns={'index':'DistrictId', 'DistrictId':'DistrictSize'})\n",
    "        \n",
    "                        \n",
    "        # Target encoding\n",
    "        ## District, Rooms\n",
    "        df = X.copy()\n",
    "        \n",
    "        self.square_max = df['Square'].max()\n",
    "        self.square_min = df['Square'].min() - 1\n",
    "        df = self.square_to_cat(df)\n",
    "        \n",
    "        ## floor, year, square\n",
    "        if y is not None:\n",
    "            self.floor_max = df['Floor'].max()\n",
    "            self.floor_min = df['Floor'].min()\n",
    "            self.house_year_max = df['HouseYear'].max()\n",
    "            self.house_year_min = df['HouseYear'].min()\n",
    "            df['Price'] = y.values\n",
    "            df = self.floor_to_cat(df)\n",
    "            df = self.year_to_cat(df)\n",
    "            self.med_price_by_floor_year = df.groupby(['year_cat', 'floor_cat'], as_index=False).agg({'Price':'median'}).\\\n",
    "                                            rename(columns={'Price':'MedPriceByFloorYear'})\n",
    "            self.med_price_by_floor_year_median = self.med_price_by_floor_year['MedPriceByFloorYear'].median()\n",
    "            \n",
    "            self.med_price_by_square_floor = df.groupby(['square_cat', 'floor_cat'], as_index=False).agg({'Price':'median'}).\\\n",
    "                                            rename(columns={'Price':'MedPriceBySquareFloor'})\n",
    "            self.med_price_by_square_floor_median = self.med_price_by_square_floor['MedPriceBySquareFloor'].median()\n",
    "            \n",
    "            # MedPriceBySocial\n",
    "            self.med_price_by_social = df.groupby(['Ecology_3', 'Helthcare_2', 'Shops_1'], as_index=False).agg({'Price':'median'}).\\\n",
    "                                                rename(columns={'Price':'MedPriceBySocial'})\n",
    "            self.med_price_by_social_median = self.med_price_by_social['MedPriceBySocial'].median()\n",
    "\n",
    "        \n",
    "        # MedYearByDistrict\n",
    "        self.med_year_by_district = df.groupby(['DistrictId'], as_index=False).agg({'year_cat':'median'}).\\\n",
    "                                            rename(columns={'year_cat':'MedYearByDistrict'})\n",
    "        self.med_year_by_district_median = self.med_year_by_district['MedYearByDistrict'].median()\n",
    "        \n",
    "        \n",
    "    def transform(self, X):\n",
    "        \n",
    "        # Binary features\n",
    "        X['Ecology_2'] = X['Ecology_2'].map(self.characters_to_numbers)\n",
    "        X['Ecology_3'] = X['Ecology_3'].map(self.characters_to_numbers)\n",
    "        X['Shops_2'] = X['Shops_2'].map(self.characters_to_numbers)\n",
    "               \n",
    "        # DistrictId, IsDistrictLarge\n",
    "        X = X.merge(self.district_size, on='DistrictId', how='left')\n",
    "        \n",
    "        X['new_district'] = 0\n",
    "        X.loc[X['DistrictSize'].isna(), 'new_district'] = 1\n",
    "        \n",
    "        X['DistrictSize'].fillna(5, inplace=True)\n",
    "        \n",
    "        X['IsDistrictLarge'] = (X['DistrictSize'] > 100).astype(int)\n",
    "        \n",
    "        X = X.merge(self.med_year_by_district, on=['DistrictId'], how='left')\n",
    "        X['MedYearByDistrict'].fillna(self.med_year_by_district_median, inplace=True)\n",
    "        \n",
    "        # More categorical features\n",
    "        X = self.floor_to_cat(X)\n",
    "        X = self.year_to_cat(X)\n",
    "        X = self.square_to_cat(X)\n",
    "        \n",
    "        # Target encoding\n",
    "        if self.med_price_by_square_floor is not None:\n",
    "            X = X.merge(self.med_price_by_square_floor, on=['square_cat', 'floor_cat'], how='left')\n",
    "            X['MedPriceBySquareFloor'].fillna(self.med_price_by_square_floor_median, inplace=True)\n",
    "            \n",
    "        if self.med_price_by_floor_year is not None:\n",
    "            X = X.merge(self.med_price_by_floor_year, on=['year_cat', 'floor_cat'], how='left')\n",
    "            X['MedPriceByFloorYear'].fillna(self.med_price_by_floor_year_median, inplace=True)\n",
    "            \n",
    "        if self.med_price_by_social is not None:\n",
    "            X = X.merge(self.med_price_by_social, on=['Ecology_3', 'Helthcare_2', 'Shops_1'], how='left')\n",
    "            X['MedPriceBySocial'].fillna(self.med_price_by_social_median, inplace=True)\n",
    "            \n",
    "        scaler = StandardScaler()\n",
    "        X_scaled = scaler.fit_transform(X)\n",
    "        X_scaled = pd.DataFrame(X_scaled, columns=X.columns)\n",
    "        \n",
    "        return X\n",
    "    \n",
    "    def floor_to_cat(self, X):\n",
    "        bins = [self.floor_min, 3, 5, 9, 15, self.floor_max]\n",
    "        X['floor_cat'] = pd.cut(X['Floor'], bins=bins, labels=False)\n",
    "\n",
    "        X['floor_cat'].fillna(-1, inplace=True)\n",
    "        return X\n",
    "     \n",
    "    def year_to_cat(self, X):\n",
    "        bins = [self.house_year_min, 1941, 1945, 1980, 2000, 2010, self.house_year_max]\n",
    "        X['year_cat'] = pd.cut(X['HouseYear'], bins=bins, labels=False)\n",
    "\n",
    "        X['year_cat'].fillna(-1, inplace=True)\n",
    "        return X\n",
    "    \n",
    "    def square_to_cat(self, X):\n",
    "        bins = [self.square_min, 30, 40, 60, 80, 100, self.square_max]\n",
    "        X['square_cat'] = pd.cut(X['Square'], bins=bins, labels=False)\n",
    "    \n",
    "        X['square_cat'].fillna(-1, inplace=True)\n",
    "        return X"
   ]
  },
  {
   "cell_type": "markdown",
   "metadata": {
    "papermill": {
     "duration": 0.143051,
     "end_time": "2022-06-15T12:29:29.448669",
     "exception": false,
     "start_time": "2022-06-15T12:29:29.305618",
     "status": "completed"
    },
    "tags": []
   },
   "source": [
    "### Отбор признаков"
   ]
  },
  {
   "cell_type": "code",
   "execution_count": 75,
   "metadata": {
    "execution": {
     "iopub.execute_input": "2022-06-15T12:29:29.739346Z",
     "iopub.status.busy": "2022-06-15T12:29:29.738306Z",
     "iopub.status.idle": "2022-06-15T12:29:29.744933Z",
     "shell.execute_reply": "2022-06-15T12:29:29.745585Z",
     "shell.execute_reply.started": "2022-06-15T12:19:45.110615Z"
    },
    "papermill": {
     "duration": 0.153957,
     "end_time": "2022-06-15T12:29:29.745734",
     "exception": false,
     "start_time": "2022-06-15T12:29:29.591777",
     "status": "completed"
    },
    "tags": []
   },
   "outputs": [
    {
     "data": {
      "text/plain": [
       "['Id',\n",
       " 'DistrictId',\n",
       " 'Rooms',\n",
       " 'Square',\n",
       " 'LifeSquare',\n",
       " 'KitchenSquare',\n",
       " 'Floor',\n",
       " 'HouseFloor',\n",
       " 'HouseYear',\n",
       " 'Ecology_1',\n",
       " 'Ecology_2',\n",
       " 'Ecology_3',\n",
       " 'Social_1',\n",
       " 'Social_2',\n",
       " 'Social_3',\n",
       " 'Healthcare_1',\n",
       " 'Helthcare_2',\n",
       " 'Shops_1',\n",
       " 'Shops_2',\n",
       " 'Price',\n",
       " 'Rooms_outlier',\n",
       " 'HouseFloor_issue',\n",
       " 'LifeSquare_nan',\n",
       " 'Healthcare_1_nan',\n",
       " 'DistrictSize',\n",
       " 'IsDistrictLarge',\n",
       " 'MedPriceByDistrict',\n",
       " 'year_cat',\n",
       " 'floor_cat',\n",
       " 'MedPriceByFloorYear',\n",
       " 'MedYearByDistrict',\n",
       " 'square_cat',\n",
       " 'MedPriceBySquareFloor',\n",
       " 'MedPriceBySocial']"
      ]
     },
     "execution_count": 75,
     "metadata": {},
     "output_type": "execute_result"
    }
   ],
   "source": [
    "train_df.columns.tolist()"
   ]
  },
  {
   "cell_type": "code",
   "execution_count": 76,
   "metadata": {
    "execution": {
     "iopub.execute_input": "2022-06-15T12:29:30.038382Z",
     "iopub.status.busy": "2022-06-15T12:29:30.037367Z",
     "iopub.status.idle": "2022-06-15T12:29:30.044027Z",
     "shell.execute_reply": "2022-06-15T12:29:30.044596Z",
     "shell.execute_reply.started": "2022-06-15T12:19:45.127244Z"
    },
    "papermill": {
     "duration": 0.15455,
     "end_time": "2022-06-15T12:29:30.044750",
     "exception": false,
     "start_time": "2022-06-15T12:29:29.890200",
     "status": "completed"
    },
    "tags": []
   },
   "outputs": [],
   "source": [
    "feature_names = ['Square', 'Rooms', 'LifeSquare', 'KitchenSquare', 'Floor', 'HouseFloor', 'HouseYear',\n",
    "                 'Ecology_1', 'Ecology_2', 'Ecology_3', 'Social_1', 'Social_2', 'Social_3', 'Healthcare_1',\n",
    "                 'Helthcare_2', 'Shops_1', 'Shops_2']\n",
    "\n",
    "new_feature_names = ['Rooms_issue', 'HouseFloor_issue', 'HouseYear_issue', 'LifeSquare_nan', 'DistrictSize',\n",
    "                     'new_district', 'IsDistrictLarge', 'MedPriceByFloorYear', 'MedYearByDistrict',\n",
    "                    'MedPriceBySquareFloor', 'MedPriceBySocial']\n",
    "\n",
    "target_name = 'Price'"
   ]
  },
  {
   "cell_type": "markdown",
   "metadata": {
    "papermill": {
     "duration": 0.142786,
     "end_time": "2022-06-15T12:29:30.331958",
     "exception": false,
     "start_time": "2022-06-15T12:29:30.189172",
     "status": "completed"
    },
    "tags": []
   },
   "source": [
    "## Разбиение на train и test"
   ]
  },
  {
   "cell_type": "code",
   "execution_count": 77,
   "metadata": {
    "execution": {
     "iopub.execute_input": "2022-06-15T12:29:30.653608Z",
     "iopub.status.busy": "2022-06-15T12:29:30.652542Z",
     "iopub.status.idle": "2022-06-15T12:29:30.726113Z",
     "shell.execute_reply": "2022-06-15T12:29:30.725042Z",
     "shell.execute_reply.started": "2022-06-15T12:19:45.135881Z"
    },
    "papermill": {
     "duration": 0.250595,
     "end_time": "2022-06-15T12:29:30.726288",
     "exception": false,
     "start_time": "2022-06-15T12:29:30.475693",
     "status": "completed"
    },
    "tags": []
   },
   "outputs": [],
   "source": [
    "train_df = pd.read_csv(TRAIN_DATASET_PATH)\n",
    "test_df = pd.read_csv(TEST_DATASET_PATH)\n",
    "\n",
    "X = train_df.drop(columns=target_name)\n",
    "y = train_df[target_name]"
   ]
  },
  {
   "cell_type": "code",
   "execution_count": 78,
   "metadata": {
    "execution": {
     "iopub.execute_input": "2022-06-15T12:29:31.060741Z",
     "iopub.status.busy": "2022-06-15T12:29:31.060054Z",
     "iopub.status.idle": "2022-06-15T12:29:31.073388Z",
     "shell.execute_reply": "2022-06-15T12:29:31.073935Z",
     "shell.execute_reply.started": "2022-06-15T12:19:45.200552Z"
    },
    "papermill": {
     "duration": 0.180941,
     "end_time": "2022-06-15T12:29:31.074110",
     "exception": false,
     "start_time": "2022-06-15T12:29:30.893169",
     "status": "completed"
    },
    "tags": []
   },
   "outputs": [],
   "source": [
    "X_train, X_valid, y_train, y_valid = train_test_split(X, y, test_size=0.2, shuffle=True, random_state=21)"
   ]
  },
  {
   "cell_type": "code",
   "execution_count": 79,
   "metadata": {
    "execution": {
     "iopub.execute_input": "2022-06-15T12:29:31.370567Z",
     "iopub.status.busy": "2022-06-15T12:29:31.368842Z",
     "iopub.status.idle": "2022-06-15T12:29:31.527387Z",
     "shell.execute_reply": "2022-06-15T12:29:31.526793Z",
     "shell.execute_reply.started": "2022-06-15T12:19:45.263477Z"
    },
    "papermill": {
     "duration": 0.309641,
     "end_time": "2022-06-15T12:29:31.527504",
     "exception": false,
     "start_time": "2022-06-15T12:29:31.217863",
     "status": "completed"
    },
    "tags": []
   },
   "outputs": [
    {
     "data": {
      "text/plain": [
       "((8000, 24), (2000, 24), (5000, 24))"
      ]
     },
     "execution_count": 79,
     "metadata": {},
     "output_type": "execute_result"
    }
   ],
   "source": [
    "preprocessor = DataPreprocessing()\n",
    "preprocessor.fit(X_train)\n",
    "\n",
    "X_train = preprocessor.transform(X_train)\n",
    "X_valid = preprocessor.transform(X_valid)\n",
    "test_df = preprocessor.transform(test_df)\n",
    "\n",
    "X_train.shape, X_valid.shape, test_df.shape"
   ]
  },
  {
   "cell_type": "code",
   "execution_count": 80,
   "metadata": {
    "execution": {
     "iopub.execute_input": "2022-06-15T12:29:31.825100Z",
     "iopub.status.busy": "2022-06-15T12:29:31.824361Z",
     "iopub.status.idle": "2022-06-15T12:29:32.048908Z",
     "shell.execute_reply": "2022-06-15T12:29:32.048266Z",
     "shell.execute_reply.started": "2022-06-15T12:19:45.420454Z"
    },
    "papermill": {
     "duration": 0.37672,
     "end_time": "2022-06-15T12:29:32.049058",
     "exception": false,
     "start_time": "2022-06-15T12:29:31.672338",
     "status": "completed"
    },
    "tags": []
   },
   "outputs": [
    {
     "data": {
      "text/plain": [
       "((8000, 34), (2000, 34), (5000, 34))"
      ]
     },
     "execution_count": 80,
     "metadata": {},
     "output_type": "execute_result"
    }
   ],
   "source": [
    "features_gen = FeatureGenetator()\n",
    "features_gen.fit(X_train, y_train)\n",
    "\n",
    "X_train = features_gen.transform(X_train)\n",
    "X_valid = features_gen.transform(X_valid)\n",
    "test_df = features_gen.transform(test_df)\n",
    "\n",
    "X_train.shape, X_valid.shape, test_df.shape"
   ]
  },
  {
   "cell_type": "code",
   "execution_count": 81,
   "metadata": {
    "execution": {
     "iopub.execute_input": "2022-06-15T12:29:32.344476Z",
     "iopub.status.busy": "2022-06-15T12:29:32.343712Z",
     "iopub.status.idle": "2022-06-15T12:29:32.353029Z",
     "shell.execute_reply": "2022-06-15T12:29:32.353582Z",
     "shell.execute_reply.started": "2022-06-15T12:19:45.647622Z"
    },
    "papermill": {
     "duration": 0.157324,
     "end_time": "2022-06-15T12:29:32.353752",
     "exception": false,
     "start_time": "2022-06-15T12:29:32.196428",
     "status": "completed"
    },
    "tags": []
   },
   "outputs": [],
   "source": [
    "X_train = X_train[feature_names + new_feature_names]\n",
    "X_valid = X_valid[feature_names + new_feature_names]\n",
    "test_df = test_df[feature_names + new_feature_names]"
   ]
  },
  {
   "cell_type": "code",
   "execution_count": 82,
   "metadata": {
    "execution": {
     "iopub.execute_input": "2022-06-15T12:29:32.647371Z",
     "iopub.status.busy": "2022-06-15T12:29:32.646681Z",
     "iopub.status.idle": "2022-06-15T12:29:32.657405Z",
     "shell.execute_reply": "2022-06-15T12:29:32.657904Z",
     "shell.execute_reply.started": "2022-06-15T12:19:45.659478Z"
    },
    "papermill": {
     "duration": 0.158762,
     "end_time": "2022-06-15T12:29:32.658079",
     "exception": false,
     "start_time": "2022-06-15T12:29:32.499317",
     "status": "completed"
    },
    "tags": []
   },
   "outputs": [
    {
     "data": {
      "text/plain": [
       "(0, 0, 0)"
      ]
     },
     "execution_count": 82,
     "metadata": {},
     "output_type": "execute_result"
    }
   ],
   "source": [
    "X_train.isna().sum().sum(), X_valid.isna().sum().sum(), test_df.isna().sum().sum()"
   ]
  },
  {
   "cell_type": "code",
   "execution_count": 83,
   "metadata": {
    "execution": {
     "iopub.execute_input": "2022-06-15T12:29:32.978339Z",
     "iopub.status.busy": "2022-06-15T12:29:32.977277Z",
     "iopub.status.idle": "2022-06-15T12:29:33.005345Z",
     "shell.execute_reply": "2022-06-15T12:29:33.005941Z",
     "shell.execute_reply.started": "2022-06-15T12:19:45.741320Z"
    },
    "papermill": {
     "duration": 0.203721,
     "end_time": "2022-06-15T12:29:33.006110",
     "exception": false,
     "start_time": "2022-06-15T12:29:32.802389",
     "status": "completed"
    },
    "scrolled": false,
    "tags": []
   },
   "outputs": [
    {
     "data": {
      "text/html": [
       "<div>\n",
       "<style scoped>\n",
       "    .dataframe tbody tr th:only-of-type {\n",
       "        vertical-align: middle;\n",
       "    }\n",
       "\n",
       "    .dataframe tbody tr th {\n",
       "        vertical-align: top;\n",
       "    }\n",
       "\n",
       "    .dataframe thead th {\n",
       "        text-align: right;\n",
       "    }\n",
       "</style>\n",
       "<table border=\"1\" class=\"dataframe\">\n",
       "  <thead>\n",
       "    <tr style=\"text-align: right;\">\n",
       "      <th></th>\n",
       "      <th>Square</th>\n",
       "      <th>Rooms</th>\n",
       "      <th>LifeSquare</th>\n",
       "      <th>KitchenSquare</th>\n",
       "      <th>Floor</th>\n",
       "      <th>HouseFloor</th>\n",
       "      <th>HouseYear</th>\n",
       "      <th>Ecology_1</th>\n",
       "      <th>Ecology_2</th>\n",
       "      <th>Ecology_3</th>\n",
       "      <th>...</th>\n",
       "      <th>HouseFloor_issue</th>\n",
       "      <th>HouseYear_issue</th>\n",
       "      <th>LifeSquare_nan</th>\n",
       "      <th>DistrictSize</th>\n",
       "      <th>new_district</th>\n",
       "      <th>IsDistrictLarge</th>\n",
       "      <th>MedPriceByFloorYear</th>\n",
       "      <th>MedYearByDistrict</th>\n",
       "      <th>MedPriceBySquareFloor</th>\n",
       "      <th>MedPriceBySocial</th>\n",
       "    </tr>\n",
       "  </thead>\n",
       "  <tbody>\n",
       "    <tr>\n",
       "      <th>0</th>\n",
       "      <td>36.847630</td>\n",
       "      <td>1.0</td>\n",
       "      <td>19.094182</td>\n",
       "      <td>5.0</td>\n",
       "      <td>5.0</td>\n",
       "      <td>9.0</td>\n",
       "      <td>1970</td>\n",
       "      <td>0.036122</td>\n",
       "      <td>1</td>\n",
       "      <td>1</td>\n",
       "      <td>...</td>\n",
       "      <td>0</td>\n",
       "      <td>0</td>\n",
       "      <td>0</td>\n",
       "      <td>86.0</td>\n",
       "      <td>0</td>\n",
       "      <td>0</td>\n",
       "      <td>186044.241187</td>\n",
       "      <td>2.0</td>\n",
       "      <td>156611.471870</td>\n",
       "      <td>207845.100660</td>\n",
       "    </tr>\n",
       "    <tr>\n",
       "      <th>1</th>\n",
       "      <td>42.493907</td>\n",
       "      <td>1.0</td>\n",
       "      <td>29.493907</td>\n",
       "      <td>10.0</td>\n",
       "      <td>7.0</td>\n",
       "      <td>17.0</td>\n",
       "      <td>2017</td>\n",
       "      <td>0.072158</td>\n",
       "      <td>1</td>\n",
       "      <td>1</td>\n",
       "      <td>...</td>\n",
       "      <td>0</td>\n",
       "      <td>0</td>\n",
       "      <td>0</td>\n",
       "      <td>193.0</td>\n",
       "      <td>0</td>\n",
       "      <td>1</td>\n",
       "      <td>179986.169695</td>\n",
       "      <td>2.0</td>\n",
       "      <td>192683.780737</td>\n",
       "      <td>151261.777244</td>\n",
       "    </tr>\n",
       "    <tr>\n",
       "      <th>2</th>\n",
       "      <td>59.463678</td>\n",
       "      <td>2.0</td>\n",
       "      <td>47.463678</td>\n",
       "      <td>9.0</td>\n",
       "      <td>19.0</td>\n",
       "      <td>19.0</td>\n",
       "      <td>1977</td>\n",
       "      <td>0.211401</td>\n",
       "      <td>1</td>\n",
       "      <td>1</td>\n",
       "      <td>...</td>\n",
       "      <td>0</td>\n",
       "      <td>0</td>\n",
       "      <td>1</td>\n",
       "      <td>691.0</td>\n",
       "      <td>0</td>\n",
       "      <td>1</td>\n",
       "      <td>174137.278013</td>\n",
       "      <td>2.0</td>\n",
       "      <td>168651.545666</td>\n",
       "      <td>174162.081767</td>\n",
       "    </tr>\n",
       "    <tr>\n",
       "      <th>3</th>\n",
       "      <td>49.646030</td>\n",
       "      <td>3.0</td>\n",
       "      <td>33.893825</td>\n",
       "      <td>6.0</td>\n",
       "      <td>2.0</td>\n",
       "      <td>2.0</td>\n",
       "      <td>1965</td>\n",
       "      <td>0.014073</td>\n",
       "      <td>1</td>\n",
       "      <td>1</td>\n",
       "      <td>...</td>\n",
       "      <td>0</td>\n",
       "      <td>0</td>\n",
       "      <td>0</td>\n",
       "      <td>444.0</td>\n",
       "      <td>0</td>\n",
       "      <td>1</td>\n",
       "      <td>182128.021554</td>\n",
       "      <td>2.0</td>\n",
       "      <td>183490.324647</td>\n",
       "      <td>151261.777244</td>\n",
       "    </tr>\n",
       "    <tr>\n",
       "      <th>4</th>\n",
       "      <td>53.837056</td>\n",
       "      <td>1.0</td>\n",
       "      <td>47.837056</td>\n",
       "      <td>3.0</td>\n",
       "      <td>8.0</td>\n",
       "      <td>17.0</td>\n",
       "      <td>1977</td>\n",
       "      <td>0.309479</td>\n",
       "      <td>1</td>\n",
       "      <td>1</td>\n",
       "      <td>...</td>\n",
       "      <td>0</td>\n",
       "      <td>0</td>\n",
       "      <td>1</td>\n",
       "      <td>81.0</td>\n",
       "      <td>0</td>\n",
       "      <td>0</td>\n",
       "      <td>190891.093552</td>\n",
       "      <td>3.0</td>\n",
       "      <td>192683.780737</td>\n",
       "      <td>194645.124009</td>\n",
       "    </tr>\n",
       "  </tbody>\n",
       "</table>\n",
       "<p>5 rows × 28 columns</p>\n",
       "</div>"
      ],
      "text/plain": [
       "      Square  Rooms  LifeSquare  KitchenSquare  Floor  HouseFloor  HouseYear  \\\n",
       "0  36.847630    1.0   19.094182            5.0    5.0         9.0       1970   \n",
       "1  42.493907    1.0   29.493907           10.0    7.0        17.0       2017   \n",
       "2  59.463678    2.0   47.463678            9.0   19.0        19.0       1977   \n",
       "3  49.646030    3.0   33.893825            6.0    2.0         2.0       1965   \n",
       "4  53.837056    1.0   47.837056            3.0    8.0        17.0       1977   \n",
       "\n",
       "   Ecology_1  Ecology_2  Ecology_3  ...  HouseFloor_issue  HouseYear_issue  \\\n",
       "0   0.036122          1          1  ...                 0                0   \n",
       "1   0.072158          1          1  ...                 0                0   \n",
       "2   0.211401          1          1  ...                 0                0   \n",
       "3   0.014073          1          1  ...                 0                0   \n",
       "4   0.309479          1          1  ...                 0                0   \n",
       "\n",
       "   LifeSquare_nan  DistrictSize  new_district  IsDistrictLarge  \\\n",
       "0               0          86.0             0                0   \n",
       "1               0         193.0             0                1   \n",
       "2               1         691.0             0                1   \n",
       "3               0         444.0             0                1   \n",
       "4               1          81.0             0                0   \n",
       "\n",
       "   MedPriceByFloorYear  MedYearByDistrict  MedPriceBySquareFloor  \\\n",
       "0        186044.241187                2.0          156611.471870   \n",
       "1        179986.169695                2.0          192683.780737   \n",
       "2        174137.278013                2.0          168651.545666   \n",
       "3        182128.021554                2.0          183490.324647   \n",
       "4        190891.093552                3.0          192683.780737   \n",
       "\n",
       "   MedPriceBySocial  \n",
       "0     207845.100660  \n",
       "1     151261.777244  \n",
       "2     174162.081767  \n",
       "3     151261.777244  \n",
       "4     194645.124009  \n",
       "\n",
       "[5 rows x 28 columns]"
      ]
     },
     "execution_count": 83,
     "metadata": {},
     "output_type": "execute_result"
    }
   ],
   "source": [
    "test_df.head()"
   ]
  },
  {
   "cell_type": "markdown",
   "metadata": {
    "papermill": {
     "duration": 0.144587,
     "end_time": "2022-06-15T12:29:33.296377",
     "exception": false,
     "start_time": "2022-06-15T12:29:33.151790",
     "status": "completed"
    },
    "tags": []
   },
   "source": [
    "## Построение модели"
   ]
  },
  {
   "cell_type": "markdown",
   "metadata": {
    "papermill": {
     "duration": 0.157892,
     "end_time": "2022-06-15T12:29:40.237511",
     "exception": false,
     "start_time": "2022-06-15T12:29:40.079619",
     "status": "completed"
    },
    "tags": []
   },
   "source": [
    "**Обучение**"
   ]
  },
  {
   "cell_type": "code",
   "execution_count": 84,
   "metadata": {
    "execution": {
     "iopub.execute_input": "2022-06-15T12:29:40.561232Z",
     "iopub.status.busy": "2022-06-15T12:29:40.560467Z",
     "iopub.status.idle": "2022-06-15T12:29:46.882707Z",
     "shell.execute_reply": "2022-06-15T12:29:46.883229Z",
     "shell.execute_reply.started": "2022-06-15T12:19:49.962116Z"
    },
    "papermill": {
     "duration": 6.488022,
     "end_time": "2022-06-15T12:29:46.883437",
     "exception": false,
     "start_time": "2022-06-15T12:29:40.395415",
     "status": "completed"
    },
    "tags": []
   },
   "outputs": [
    {
     "data": {
      "text/plain": [
       "RandomForestRegressor(random_state=21)"
      ]
     },
     "execution_count": 84,
     "metadata": {},
     "output_type": "execute_result"
    }
   ],
   "source": [
    "rf_model = RandomForestRegressor(random_state=21, criterion='mse')\n",
    "rf_model.fit(X_train, y_train)"
   ]
  },
  {
   "cell_type": "markdown",
   "metadata": {
    "papermill": {
     "duration": 0.159187,
     "end_time": "2022-06-15T12:29:47.203076",
     "exception": false,
     "start_time": "2022-06-15T12:29:47.043889",
     "status": "completed"
    },
    "tags": []
   },
   "source": [
    "**Оценка модели**"
   ]
  },
  {
   "cell_type": "code",
   "execution_count": 85,
   "metadata": {
    "execution": {
     "iopub.execute_input": "2022-06-15T12:29:47.523665Z",
     "iopub.status.busy": "2022-06-15T12:29:47.522931Z",
     "iopub.status.idle": "2022-06-15T12:29:48.418912Z",
     "shell.execute_reply": "2022-06-15T12:29:48.418375Z",
     "shell.execute_reply.started": "2022-06-15T12:19:56.206687Z"
    },
    "papermill": {
     "duration": 1.057629,
     "end_time": "2022-06-15T12:29:48.419047",
     "exception": false,
     "start_time": "2022-06-15T12:29:47.361418",
     "status": "completed"
    },
    "tags": []
   },
   "outputs": [
    {
     "name": "stdout",
     "output_type": "stream",
     "text": [
      "Train R2:\t0.962\n",
      "Test R2:\t0.757\n"
     ]
    },
    {
     "data": {
      "image/png": "[encoded data removed]",
      "text/plain": [
       "<Figure size 1296x720 with 2 Axes>"
      ]
     },
     "metadata": {
      "needs_background": "light"
     },
     "output_type": "display_data"
    }
   ],
   "source": [
    "y_train_preds = rf_model.predict(X_train)\n",
    "y_test_preds = rf_model.predict(X_valid)\n",
    "\n",
    "evaluate_preds(y_train, y_train_preds, y_valid, y_test_preds)"
   ]
  },
  {
   "cell_type": "markdown",
   "metadata": {
    "papermill": {
     "duration": 0.164079,
     "end_time": "2022-06-15T12:29:48.750644",
     "exception": false,
     "start_time": "2022-06-15T12:29:48.586565",
     "status": "completed"
    },
    "tags": []
   },
   "source": [
    "**Кросс-валидация**"
   ]
  },
  {
   "cell_type": "code",
   "execution_count": 86,
   "metadata": {
    "execution": {
     "iopub.execute_input": "2022-06-15T12:29:49.095178Z",
     "iopub.status.busy": "2022-06-15T12:29:49.094481Z",
     "iopub.status.idle": "2022-06-15T12:30:01.735465Z",
     "shell.execute_reply": "2022-06-15T12:30:01.734886Z",
     "shell.execute_reply.started": "2022-06-15T12:19:57.134542Z"
    },
    "papermill": {
     "duration": 12.818271,
     "end_time": "2022-06-15T12:30:01.735606",
     "exception": false,
     "start_time": "2022-06-15T12:29:48.917335",
     "status": "completed"
    },
    "tags": []
   },
   "outputs": [
    {
     "data": {
      "text/plain": [
       "array([0.73696303, 0.7086056 , 0.70082118, 0.75449271, 0.7205297 ])"
      ]
     },
     "execution_count": 86,
     "metadata": {},
     "output_type": "execute_result"
    }
   ],
   "source": [
    "cv_score = cross_val_score(rf_model, X_train, y_train, scoring='r2', cv=KFold(n_splits=5, shuffle=True, random_state=21))\n",
    "cv_score"
   ]
  },
  {
   "cell_type": "code",
   "execution_count": 87,
   "metadata": {
    "execution": {
     "iopub.execute_input": "2022-06-15T12:30:02.072768Z",
     "iopub.status.busy": "2022-06-15T12:30:02.072057Z",
     "iopub.status.idle": "2022-06-15T12:30:02.075194Z",
     "shell.execute_reply": "2022-06-15T12:30:02.075824Z",
     "shell.execute_reply.started": "2022-06-15T12:20:09.773351Z"
    },
    "papermill": {
     "duration": 0.17653,
     "end_time": "2022-06-15T12:30:02.075992",
     "exception": false,
     "start_time": "2022-06-15T12:30:01.899462",
     "status": "completed"
    },
    "tags": []
   },
   "outputs": [
    {
     "data": {
      "text/plain": [
       "0.7242824457700141"
      ]
     },
     "execution_count": 87,
     "metadata": {},
     "output_type": "execute_result"
    }
   ],
   "source": [
    "cv_score.mean()"
   ]
  },
  {
   "cell_type": "markdown",
   "metadata": {
    "papermill": {
     "duration": 0.183174,
     "end_time": "2022-06-15T12:30:02.424357",
     "exception": false,
     "start_time": "2022-06-15T12:30:02.241183",
     "status": "completed"
    },
    "tags": []
   },
   "source": [
    "**Важность признаков**"
   ]
  },
  {
   "cell_type": "code",
   "execution_count": 88,
   "metadata": {
    "execution": {
     "iopub.execute_input": "2022-06-15T12:30:02.773965Z",
     "iopub.status.busy": "2022-06-15T12:30:02.773277Z",
     "iopub.status.idle": "2022-06-15T12:30:02.817401Z",
     "shell.execute_reply": "2022-06-15T12:30:02.818278Z",
     "shell.execute_reply.started": "2022-06-15T12:20:09.781142Z"
    },
    "papermill": {
     "duration": 0.219259,
     "end_time": "2022-06-15T12:30:02.818445",
     "exception": false,
     "start_time": "2022-06-15T12:30:02.599186",
     "status": "completed"
    },
    "tags": []
   },
   "outputs": [
    {
     "data": {
      "text/html": [
       "<div>\n",
       "<style scoped>\n",
       "    .dataframe tbody tr th:only-of-type {\n",
       "        vertical-align: middle;\n",
       "    }\n",
       "\n",
       "    .dataframe tbody tr th {\n",
       "        vertical-align: top;\n",
       "    }\n",
       "\n",
       "    .dataframe thead th {\n",
       "        text-align: right;\n",
       "    }\n",
       "</style>\n",
       "<table border=\"1\" class=\"dataframe\">\n",
       "  <thead>\n",
       "    <tr style=\"text-align: right;\">\n",
       "      <th></th>\n",
       "      <th>feature_name</th>\n",
       "      <th>importance</th>\n",
       "    </tr>\n",
       "  </thead>\n",
       "  <tbody>\n",
       "    <tr>\n",
       "      <th>0</th>\n",
       "      <td>Square</td>\n",
       "      <td>0.354196</td>\n",
       "    </tr>\n",
       "    <tr>\n",
       "      <th>21</th>\n",
       "      <td>DistrictSize</td>\n",
       "      <td>0.199339</td>\n",
       "    </tr>\n",
       "    <tr>\n",
       "      <th>1</th>\n",
       "      <td>Rooms</td>\n",
       "      <td>0.100992</td>\n",
       "    </tr>\n",
       "    <tr>\n",
       "      <th>12</th>\n",
       "      <td>Social_3</td>\n",
       "      <td>0.042366</td>\n",
       "    </tr>\n",
       "    <tr>\n",
       "      <th>27</th>\n",
       "      <td>MedPriceBySocial</td>\n",
       "      <td>0.036614</td>\n",
       "    </tr>\n",
       "    <tr>\n",
       "      <th>2</th>\n",
       "      <td>LifeSquare</td>\n",
       "      <td>0.035056</td>\n",
       "    </tr>\n",
       "    <tr>\n",
       "      <th>6</th>\n",
       "      <td>HouseYear</td>\n",
       "      <td>0.028365</td>\n",
       "    </tr>\n",
       "    <tr>\n",
       "      <th>24</th>\n",
       "      <td>MedPriceByFloorYear</td>\n",
       "      <td>0.028075</td>\n",
       "    </tr>\n",
       "    <tr>\n",
       "      <th>7</th>\n",
       "      <td>Ecology_1</td>\n",
       "      <td>0.026173</td>\n",
       "    </tr>\n",
       "    <tr>\n",
       "      <th>5</th>\n",
       "      <td>HouseFloor</td>\n",
       "      <td>0.021693</td>\n",
       "    </tr>\n",
       "    <tr>\n",
       "      <th>13</th>\n",
       "      <td>Healthcare_1</td>\n",
       "      <td>0.019976</td>\n",
       "    </tr>\n",
       "    <tr>\n",
       "      <th>11</th>\n",
       "      <td>Social_2</td>\n",
       "      <td>0.019367</td>\n",
       "    </tr>\n",
       "    <tr>\n",
       "      <th>4</th>\n",
       "      <td>Floor</td>\n",
       "      <td>0.016558</td>\n",
       "    </tr>\n",
       "    <tr>\n",
       "      <th>3</th>\n",
       "      <td>KitchenSquare</td>\n",
       "      <td>0.016464</td>\n",
       "    </tr>\n",
       "    <tr>\n",
       "      <th>10</th>\n",
       "      <td>Social_1</td>\n",
       "      <td>0.014659</td>\n",
       "    </tr>\n",
       "    <tr>\n",
       "      <th>26</th>\n",
       "      <td>MedPriceBySquareFloor</td>\n",
       "      <td>0.013745</td>\n",
       "    </tr>\n",
       "    <tr>\n",
       "      <th>15</th>\n",
       "      <td>Shops_1</td>\n",
       "      <td>0.008162</td>\n",
       "    </tr>\n",
       "    <tr>\n",
       "      <th>14</th>\n",
       "      <td>Helthcare_2</td>\n",
       "      <td>0.005668</td>\n",
       "    </tr>\n",
       "    <tr>\n",
       "      <th>25</th>\n",
       "      <td>MedYearByDistrict</td>\n",
       "      <td>0.005645</td>\n",
       "    </tr>\n",
       "    <tr>\n",
       "      <th>18</th>\n",
       "      <td>HouseFloor_issue</td>\n",
       "      <td>0.002658</td>\n",
       "    </tr>\n",
       "    <tr>\n",
       "      <th>20</th>\n",
       "      <td>LifeSquare_nan</td>\n",
       "      <td>0.001845</td>\n",
       "    </tr>\n",
       "    <tr>\n",
       "      <th>16</th>\n",
       "      <td>Shops_2</td>\n",
       "      <td>0.000967</td>\n",
       "    </tr>\n",
       "    <tr>\n",
       "      <th>9</th>\n",
       "      <td>Ecology_3</td>\n",
       "      <td>0.000494</td>\n",
       "    </tr>\n",
       "    <tr>\n",
       "      <th>23</th>\n",
       "      <td>IsDistrictLarge</td>\n",
       "      <td>0.000466</td>\n",
       "    </tr>\n",
       "    <tr>\n",
       "      <th>8</th>\n",
       "      <td>Ecology_2</td>\n",
       "      <td>0.000263</td>\n",
       "    </tr>\n",
       "    <tr>\n",
       "      <th>17</th>\n",
       "      <td>Rooms_issue</td>\n",
       "      <td>0.000192</td>\n",
       "    </tr>\n",
       "    <tr>\n",
       "      <th>19</th>\n",
       "      <td>HouseYear_issue</td>\n",
       "      <td>0.000002</td>\n",
       "    </tr>\n",
       "    <tr>\n",
       "      <th>22</th>\n",
       "      <td>new_district</td>\n",
       "      <td>0.000000</td>\n",
       "    </tr>\n",
       "  </tbody>\n",
       "</table>\n",
       "</div>"
      ],
      "text/plain": [
       "             feature_name  importance\n",
       "0                  Square    0.354196\n",
       "21           DistrictSize    0.199339\n",
       "1                   Rooms    0.100992\n",
       "12               Social_3    0.042366\n",
       "27       MedPriceBySocial    0.036614\n",
       "2              LifeSquare    0.035056\n",
       "6               HouseYear    0.028365\n",
       "24    MedPriceByFloorYear    0.028075\n",
       "7               Ecology_1    0.026173\n",
       "5              HouseFloor    0.021693\n",
       "13           Healthcare_1    0.019976\n",
       "11               Social_2    0.019367\n",
       "4                   Floor    0.016558\n",
       "3           KitchenSquare    0.016464\n",
       "10               Social_1    0.014659\n",
       "26  MedPriceBySquareFloor    0.013745\n",
       "15                Shops_1    0.008162\n",
       "14            Helthcare_2    0.005668\n",
       "25      MedYearByDistrict    0.005645\n",
       "18       HouseFloor_issue    0.002658\n",
       "20         LifeSquare_nan    0.001845\n",
       "16                Shops_2    0.000967\n",
       "9               Ecology_3    0.000494\n",
       "23        IsDistrictLarge    0.000466\n",
       "8               Ecology_2    0.000263\n",
       "17            Rooms_issue    0.000192\n",
       "19        HouseYear_issue    0.000002\n",
       "22           new_district    0.000000"
      ]
     },
     "execution_count": 88,
     "metadata": {},
     "output_type": "execute_result"
    }
   ],
   "source": [
    "feature_importances = pd.DataFrame(zip(X_train.columns, rf_model.feature_importances_), \n",
    "                                   columns=['feature_name', 'importance'])\n",
    "\n",
    "feature_importances.sort_values(by='importance', ascending=False)"
   ]
  },
  {
   "cell_type": "markdown",
   "metadata": {
    "papermill": {
     "duration": 0.178231,
     "end_time": "2022-06-15T12:30:40.540509",
     "exception": false,
     "start_time": "2022-06-15T12:30:40.362278",
     "status": "completed"
    },
    "tags": []
   },
   "source": [
    "### Прогнозирование на тестовом датасете"
   ]
  },
  {
   "cell_type": "code",
   "execution_count": 89,
   "metadata": {
    "execution": {
     "iopub.execute_input": "2022-06-15T12:30:40.892697Z",
     "iopub.status.busy": "2022-06-15T12:30:40.891912Z",
     "iopub.status.idle": "2022-06-15T12:30:40.895890Z",
     "shell.execute_reply": "2022-06-15T12:30:40.895388Z",
     "shell.execute_reply.started": "2022-06-15T12:20:44.252421Z"
    },
    "papermill": {
     "duration": 0.179657,
     "end_time": "2022-06-15T12:30:40.896052",
     "exception": false,
     "start_time": "2022-06-15T12:30:40.716395",
     "status": "completed"
    },
    "tags": []
   },
   "outputs": [
    {
     "data": {
      "text/plain": [
       "(5000, 28)"
      ]
     },
     "execution_count": 89,
     "metadata": {},
     "output_type": "execute_result"
    }
   ],
   "source": [
    "test_df.shape"
   ]
  },
  {
   "cell_type": "code",
   "execution_count": 90,
   "metadata": {
    "execution": {
     "iopub.execute_input": "2022-06-15T12:30:41.242354Z",
     "iopub.status.busy": "2022-06-15T12:30:41.241361Z",
     "iopub.status.idle": "2022-06-15T12:30:41.283641Z",
     "shell.execute_reply": "2022-06-15T12:30:41.283104Z",
     "shell.execute_reply.started": "2022-06-15T12:20:44.264021Z"
    },
    "papermill": {
     "duration": 0.21558,
     "end_time": "2022-06-15T12:30:41.283761",
     "exception": false,
     "start_time": "2022-06-15T12:30:41.068181",
     "status": "completed"
    },
    "tags": []
   },
   "outputs": [
    {
     "data": {
      "text/html": [
       "<div>\n",
       "<style scoped>\n",
       "    .dataframe tbody tr th:only-of-type {\n",
       "        vertical-align: middle;\n",
       "    }\n",
       "\n",
       "    .dataframe tbody tr th {\n",
       "        vertical-align: top;\n",
       "    }\n",
       "\n",
       "    .dataframe thead th {\n",
       "        text-align: right;\n",
       "    }\n",
       "</style>\n",
       "<table border=\"1\" class=\"dataframe\">\n",
       "  <thead>\n",
       "    <tr style=\"text-align: right;\">\n",
       "      <th></th>\n",
       "      <th>Square</th>\n",
       "      <th>Rooms</th>\n",
       "      <th>LifeSquare</th>\n",
       "      <th>KitchenSquare</th>\n",
       "      <th>Floor</th>\n",
       "      <th>HouseFloor</th>\n",
       "      <th>HouseYear</th>\n",
       "      <th>Ecology_1</th>\n",
       "      <th>Ecology_2</th>\n",
       "      <th>Ecology_3</th>\n",
       "      <th>...</th>\n",
       "      <th>HouseFloor_issue</th>\n",
       "      <th>HouseYear_issue</th>\n",
       "      <th>LifeSquare_nan</th>\n",
       "      <th>DistrictSize</th>\n",
       "      <th>new_district</th>\n",
       "      <th>IsDistrictLarge</th>\n",
       "      <th>MedPriceByFloorYear</th>\n",
       "      <th>MedYearByDistrict</th>\n",
       "      <th>MedPriceBySquareFloor</th>\n",
       "      <th>MedPriceBySocial</th>\n",
       "    </tr>\n",
       "  </thead>\n",
       "  <tbody>\n",
       "    <tr>\n",
       "      <th>0</th>\n",
       "      <td>36.847630</td>\n",
       "      <td>1.0</td>\n",
       "      <td>19.094182</td>\n",
       "      <td>5.0</td>\n",
       "      <td>5.0</td>\n",
       "      <td>9.0</td>\n",
       "      <td>1970</td>\n",
       "      <td>0.036122</td>\n",
       "      <td>1</td>\n",
       "      <td>1</td>\n",
       "      <td>...</td>\n",
       "      <td>0</td>\n",
       "      <td>0</td>\n",
       "      <td>0</td>\n",
       "      <td>86.0</td>\n",
       "      <td>0</td>\n",
       "      <td>0</td>\n",
       "      <td>186044.241187</td>\n",
       "      <td>2.0</td>\n",
       "      <td>156611.471870</td>\n",
       "      <td>207845.100660</td>\n",
       "    </tr>\n",
       "    <tr>\n",
       "      <th>1</th>\n",
       "      <td>42.493907</td>\n",
       "      <td>1.0</td>\n",
       "      <td>29.493907</td>\n",
       "      <td>10.0</td>\n",
       "      <td>7.0</td>\n",
       "      <td>17.0</td>\n",
       "      <td>2017</td>\n",
       "      <td>0.072158</td>\n",
       "      <td>1</td>\n",
       "      <td>1</td>\n",
       "      <td>...</td>\n",
       "      <td>0</td>\n",
       "      <td>0</td>\n",
       "      <td>0</td>\n",
       "      <td>193.0</td>\n",
       "      <td>0</td>\n",
       "      <td>1</td>\n",
       "      <td>179986.169695</td>\n",
       "      <td>2.0</td>\n",
       "      <td>192683.780737</td>\n",
       "      <td>151261.777244</td>\n",
       "    </tr>\n",
       "    <tr>\n",
       "      <th>2</th>\n",
       "      <td>59.463678</td>\n",
       "      <td>2.0</td>\n",
       "      <td>47.463678</td>\n",
       "      <td>9.0</td>\n",
       "      <td>19.0</td>\n",
       "      <td>19.0</td>\n",
       "      <td>1977</td>\n",
       "      <td>0.211401</td>\n",
       "      <td>1</td>\n",
       "      <td>1</td>\n",
       "      <td>...</td>\n",
       "      <td>0</td>\n",
       "      <td>0</td>\n",
       "      <td>1</td>\n",
       "      <td>691.0</td>\n",
       "      <td>0</td>\n",
       "      <td>1</td>\n",
       "      <td>174137.278013</td>\n",
       "      <td>2.0</td>\n",
       "      <td>168651.545666</td>\n",
       "      <td>174162.081767</td>\n",
       "    </tr>\n",
       "    <tr>\n",
       "      <th>3</th>\n",
       "      <td>49.646030</td>\n",
       "      <td>3.0</td>\n",
       "      <td>33.893825</td>\n",
       "      <td>6.0</td>\n",
       "      <td>2.0</td>\n",
       "      <td>2.0</td>\n",
       "      <td>1965</td>\n",
       "      <td>0.014073</td>\n",
       "      <td>1</td>\n",
       "      <td>1</td>\n",
       "      <td>...</td>\n",
       "      <td>0</td>\n",
       "      <td>0</td>\n",
       "      <td>0</td>\n",
       "      <td>444.0</td>\n",
       "      <td>0</td>\n",
       "      <td>1</td>\n",
       "      <td>182128.021554</td>\n",
       "      <td>2.0</td>\n",
       "      <td>183490.324647</td>\n",
       "      <td>151261.777244</td>\n",
       "    </tr>\n",
       "    <tr>\n",
       "      <th>4</th>\n",
       "      <td>53.837056</td>\n",
       "      <td>1.0</td>\n",
       "      <td>47.837056</td>\n",
       "      <td>3.0</td>\n",
       "      <td>8.0</td>\n",
       "      <td>17.0</td>\n",
       "      <td>1977</td>\n",
       "      <td>0.309479</td>\n",
       "      <td>1</td>\n",
       "      <td>1</td>\n",
       "      <td>...</td>\n",
       "      <td>0</td>\n",
       "      <td>0</td>\n",
       "      <td>1</td>\n",
       "      <td>81.0</td>\n",
       "      <td>0</td>\n",
       "      <td>0</td>\n",
       "      <td>190891.093552</td>\n",
       "      <td>3.0</td>\n",
       "      <td>192683.780737</td>\n",
       "      <td>194645.124009</td>\n",
       "    </tr>\n",
       "    <tr>\n",
       "      <th>...</th>\n",
       "      <td>...</td>\n",
       "      <td>...</td>\n",
       "      <td>...</td>\n",
       "      <td>...</td>\n",
       "      <td>...</td>\n",
       "      <td>...</td>\n",
       "      <td>...</td>\n",
       "      <td>...</td>\n",
       "      <td>...</td>\n",
       "      <td>...</td>\n",
       "      <td>...</td>\n",
       "      <td>...</td>\n",
       "      <td>...</td>\n",
       "      <td>...</td>\n",
       "      <td>...</td>\n",
       "      <td>...</td>\n",
       "      <td>...</td>\n",
       "      <td>...</td>\n",
       "      <td>...</td>\n",
       "      <td>...</td>\n",
       "      <td>...</td>\n",
       "    </tr>\n",
       "    <tr>\n",
       "      <th>4995</th>\n",
       "      <td>43.177521</td>\n",
       "      <td>2.0</td>\n",
       "      <td>30.339945</td>\n",
       "      <td>5.0</td>\n",
       "      <td>5.0</td>\n",
       "      <td>5.0</td>\n",
       "      <td>1962</td>\n",
       "      <td>0.069660</td>\n",
       "      <td>1</td>\n",
       "      <td>1</td>\n",
       "      <td>...</td>\n",
       "      <td>1</td>\n",
       "      <td>0</td>\n",
       "      <td>0</td>\n",
       "      <td>69.0</td>\n",
       "      <td>0</td>\n",
       "      <td>0</td>\n",
       "      <td>186044.241187</td>\n",
       "      <td>2.0</td>\n",
       "      <td>189341.908219</td>\n",
       "      <td>199828.935032</td>\n",
       "    </tr>\n",
       "    <tr>\n",
       "      <th>4996</th>\n",
       "      <td>93.698122</td>\n",
       "      <td>3.0</td>\n",
       "      <td>80.698122</td>\n",
       "      <td>10.0</td>\n",
       "      <td>21.0</td>\n",
       "      <td>27.0</td>\n",
       "      <td>2018</td>\n",
       "      <td>0.060753</td>\n",
       "      <td>1</td>\n",
       "      <td>1</td>\n",
       "      <td>...</td>\n",
       "      <td>0</td>\n",
       "      <td>0</td>\n",
       "      <td>0</td>\n",
       "      <td>29.0</td>\n",
       "      <td>0</td>\n",
       "      <td>0</td>\n",
       "      <td>195066.700021</td>\n",
       "      <td>4.0</td>\n",
       "      <td>319471.086202</td>\n",
       "      <td>263610.596640</td>\n",
       "    </tr>\n",
       "    <tr>\n",
       "      <th>4997</th>\n",
       "      <td>33.656723</td>\n",
       "      <td>1.0</td>\n",
       "      <td>19.003259</td>\n",
       "      <td>5.0</td>\n",
       "      <td>2.0</td>\n",
       "      <td>5.0</td>\n",
       "      <td>1966</td>\n",
       "      <td>0.038693</td>\n",
       "      <td>1</td>\n",
       "      <td>1</td>\n",
       "      <td>...</td>\n",
       "      <td>0</td>\n",
       "      <td>0</td>\n",
       "      <td>0</td>\n",
       "      <td>70.0</td>\n",
       "      <td>0</td>\n",
       "      <td>0</td>\n",
       "      <td>182128.021554</td>\n",
       "      <td>2.0</td>\n",
       "      <td>159107.038756</td>\n",
       "      <td>196512.596034</td>\n",
       "    </tr>\n",
       "    <tr>\n",
       "      <th>4998</th>\n",
       "      <td>38.635155</td>\n",
       "      <td>1.0</td>\n",
       "      <td>20.976257</td>\n",
       "      <td>9.0</td>\n",
       "      <td>8.0</td>\n",
       "      <td>14.0</td>\n",
       "      <td>1970</td>\n",
       "      <td>0.089040</td>\n",
       "      <td>1</td>\n",
       "      <td>1</td>\n",
       "      <td>...</td>\n",
       "      <td>0</td>\n",
       "      <td>0</td>\n",
       "      <td>0</td>\n",
       "      <td>46.0</td>\n",
       "      <td>0</td>\n",
       "      <td>0</td>\n",
       "      <td>190891.093552</td>\n",
       "      <td>2.0</td>\n",
       "      <td>165951.017468</td>\n",
       "      <td>217574.002517</td>\n",
       "    </tr>\n",
       "    <tr>\n",
       "      <th>4999</th>\n",
       "      <td>67.122742</td>\n",
       "      <td>2.0</td>\n",
       "      <td>33.944344</td>\n",
       "      <td>6.0</td>\n",
       "      <td>9.0</td>\n",
       "      <td>17.0</td>\n",
       "      <td>2009</td>\n",
       "      <td>0.194489</td>\n",
       "      <td>1</td>\n",
       "      <td>1</td>\n",
       "      <td>...</td>\n",
       "      <td>0</td>\n",
       "      <td>0</td>\n",
       "      <td>0</td>\n",
       "      <td>130.0</td>\n",
       "      <td>0</td>\n",
       "      <td>1</td>\n",
       "      <td>235255.942212</td>\n",
       "      <td>2.0</td>\n",
       "      <td>244224.233042</td>\n",
       "      <td>192744.316827</td>\n",
       "    </tr>\n",
       "  </tbody>\n",
       "</table>\n",
       "<p>5000 rows × 28 columns</p>\n",
       "</div>"
      ],
      "text/plain": [
       "         Square  Rooms  LifeSquare  KitchenSquare  Floor  HouseFloor  \\\n",
       "0     36.847630    1.0   19.094182            5.0    5.0         9.0   \n",
       "1     42.493907    1.0   29.493907           10.0    7.0        17.0   \n",
       "2     59.463678    2.0   47.463678            9.0   19.0        19.0   \n",
       "3     49.646030    3.0   33.893825            6.0    2.0         2.0   \n",
       "4     53.837056    1.0   47.837056            3.0    8.0        17.0   \n",
       "...         ...    ...         ...            ...    ...         ...   \n",
       "4995  43.177521    2.0   30.339945            5.0    5.0         5.0   \n",
       "4996  93.698122    3.0   80.698122           10.0   21.0        27.0   \n",
       "4997  33.656723    1.0   19.003259            5.0    2.0         5.0   \n",
       "4998  38.635155    1.0   20.976257            9.0    8.0        14.0   \n",
       "4999  67.122742    2.0   33.944344            6.0    9.0        17.0   \n",
       "\n",
       "      HouseYear  Ecology_1  Ecology_2  Ecology_3  ...  HouseFloor_issue  \\\n",
       "0          1970   0.036122          1          1  ...                 0   \n",
       "1          2017   0.072158          1          1  ...                 0   \n",
       "2          1977   0.211401          1          1  ...                 0   \n",
       "3          1965   0.014073          1          1  ...                 0   \n",
       "4          1977   0.309479          1          1  ...                 0   \n",
       "...         ...        ...        ...        ...  ...               ...   \n",
       "4995       1962   0.069660          1          1  ...                 1   \n",
       "4996       2018   0.060753          1          1  ...                 0   \n",
       "4997       1966   0.038693          1          1  ...                 0   \n",
       "4998       1970   0.089040          1          1  ...                 0   \n",
       "4999       2009   0.194489          1          1  ...                 0   \n",
       "\n",
       "      HouseYear_issue  LifeSquare_nan  DistrictSize  new_district  \\\n",
       "0                   0               0          86.0             0   \n",
       "1                   0               0         193.0             0   \n",
       "2                   0               1         691.0             0   \n",
       "3                   0               0         444.0             0   \n",
       "4                   0               1          81.0             0   \n",
       "...               ...             ...           ...           ...   \n",
       "4995                0               0          69.0             0   \n",
       "4996                0               0          29.0             0   \n",
       "4997                0               0          70.0             0   \n",
       "4998                0               0          46.0             0   \n",
       "4999                0               0         130.0             0   \n",
       "\n",
       "      IsDistrictLarge  MedPriceByFloorYear  MedYearByDistrict  \\\n",
       "0                   0        186044.241187                2.0   \n",
       "1                   1        179986.169695                2.0   \n",
       "2                   1        174137.278013                2.0   \n",
       "3                   1        182128.021554                2.0   \n",
       "4                   0        190891.093552                3.0   \n",
       "...               ...                  ...                ...   \n",
       "4995                0        186044.241187                2.0   \n",
       "4996                0        195066.700021                4.0   \n",
       "4997                0        182128.021554                2.0   \n",
       "4998                0        190891.093552                2.0   \n",
       "4999                1        235255.942212                2.0   \n",
       "\n",
       "      MedPriceBySquareFloor  MedPriceBySocial  \n",
       "0             156611.471870     207845.100660  \n",
       "1             192683.780737     151261.777244  \n",
       "2             168651.545666     174162.081767  \n",
       "3             183490.324647     151261.777244  \n",
       "4             192683.780737     194645.124009  \n",
       "...                     ...               ...  \n",
       "4995          189341.908219     199828.935032  \n",
       "4996          319471.086202     263610.596640  \n",
       "4997          159107.038756     196512.596034  \n",
       "4998          165951.017468     217574.002517  \n",
       "4999          244224.233042     192744.316827  \n",
       "\n",
       "[5000 rows x 28 columns]"
      ]
     },
     "execution_count": 90,
     "metadata": {},
     "output_type": "execute_result"
    }
   ],
   "source": [
    "test_df"
   ]
  },
  {
   "cell_type": "code",
   "execution_count": 91,
   "metadata": {
    "execution": {
     "iopub.execute_input": "2022-06-15T12:30:41.634810Z",
     "iopub.status.busy": "2022-06-15T12:30:41.634128Z",
     "iopub.status.idle": "2022-06-15T12:30:41.655918Z",
     "shell.execute_reply": "2022-06-15T12:30:41.655281Z",
     "shell.execute_reply.started": "2022-06-15T12:20:44.317511Z"
    },
    "papermill": {
     "duration": 0.201828,
     "end_time": "2022-06-15T12:30:41.656101",
     "exception": false,
     "start_time": "2022-06-15T12:30:41.454273",
     "status": "completed"
    },
    "tags": []
   },
   "outputs": [
    {
     "data": {
      "text/html": [
       "<div>\n",
       "<style scoped>\n",
       "    .dataframe tbody tr th:only-of-type {\n",
       "        vertical-align: middle;\n",
       "    }\n",
       "\n",
       "    .dataframe tbody tr th {\n",
       "        vertical-align: top;\n",
       "    }\n",
       "\n",
       "    .dataframe thead th {\n",
       "        text-align: right;\n",
       "    }\n",
       "</style>\n",
       "<table border=\"1\" class=\"dataframe\">\n",
       "  <thead>\n",
       "    <tr style=\"text-align: right;\">\n",
       "      <th></th>\n",
       "      <th>Id</th>\n",
       "      <th>Price</th>\n",
       "    </tr>\n",
       "  </thead>\n",
       "  <tbody>\n",
       "    <tr>\n",
       "      <th>0</th>\n",
       "      <td>4567</td>\n",
       "      <td>200000.0</td>\n",
       "    </tr>\n",
       "    <tr>\n",
       "      <th>1</th>\n",
       "      <td>5925</td>\n",
       "      <td>200000.0</td>\n",
       "    </tr>\n",
       "    <tr>\n",
       "      <th>2</th>\n",
       "      <td>960</td>\n",
       "      <td>200000.0</td>\n",
       "    </tr>\n",
       "    <tr>\n",
       "      <th>3</th>\n",
       "      <td>3848</td>\n",
       "      <td>200000.0</td>\n",
       "    </tr>\n",
       "    <tr>\n",
       "      <th>4</th>\n",
       "      <td>746</td>\n",
       "      <td>200000.0</td>\n",
       "    </tr>\n",
       "  </tbody>\n",
       "</table>\n",
       "</div>"
      ],
      "text/plain": [
       "     Id     Price\n",
       "0  4567  200000.0\n",
       "1  5925  200000.0\n",
       "2   960  200000.0\n",
       "3  3848  200000.0\n",
       "4   746  200000.0"
      ]
     },
     "execution_count": 91,
     "metadata": {},
     "output_type": "execute_result"
    }
   ],
   "source": [
    "submit = pd.read_csv('sample_submission.csv')\n",
    "submit.head()"
   ]
  },
  {
   "cell_type": "code",
   "execution_count": 92,
   "metadata": {
    "execution": {
     "iopub.execute_input": "2022-06-15T12:30:42.008838Z",
     "iopub.status.busy": "2022-06-15T12:30:42.007851Z",
     "iopub.status.idle": "2022-06-15T12:30:42.193440Z",
     "shell.execute_reply": "2022-06-15T12:30:42.194256Z",
     "shell.execute_reply.started": "2022-06-15T12:20:44.342600Z"
    },
    "papermill": {
     "duration": 0.365979,
     "end_time": "2022-06-15T12:30:42.194453",
     "exception": false,
     "start_time": "2022-06-15T12:30:41.828474",
     "status": "completed"
    },
    "tags": []
   },
   "outputs": [
    {
     "data": {
      "text/plain": [
       "array([154599.49511442, 126496.60329615, 136279.2443334 , ...,\n",
       "       146629.33244098, 192525.02408178, 253720.57292904])"
      ]
     },
     "execution_count": 92,
     "metadata": {},
     "output_type": "execute_result"
    }
   ],
   "source": [
    "predictions = rf_model.predict(test_df)\n",
    "predictions"
   ]
  },
  {
   "cell_type": "code",
   "execution_count": 93,
   "metadata": {
    "execution": {
     "iopub.execute_input": "2022-06-15T12:30:42.589918Z",
     "iopub.status.busy": "2022-06-15T12:30:42.589285Z",
     "iopub.status.idle": "2022-06-15T12:30:42.593197Z",
     "shell.execute_reply": "2022-06-15T12:30:42.593655Z",
     "shell.execute_reply.started": "2022-06-15T12:20:44.375890Z"
    },
    "papermill": {
     "duration": 0.185798,
     "end_time": "2022-06-15T12:30:42.593804",
     "exception": false,
     "start_time": "2022-06-15T12:30:42.408006",
     "status": "completed"
    },
    "tags": []
   },
   "outputs": [
    {
     "data": {
      "text/html": [
       "<div>\n",
       "<style scoped>\n",
       "    .dataframe tbody tr th:only-of-type {\n",
       "        vertical-align: middle;\n",
       "    }\n",
       "\n",
       "    .dataframe tbody tr th {\n",
       "        vertical-align: top;\n",
       "    }\n",
       "\n",
       "    .dataframe thead th {\n",
       "        text-align: right;\n",
       "    }\n",
       "</style>\n",
       "<table border=\"1\" class=\"dataframe\">\n",
       "  <thead>\n",
       "    <tr style=\"text-align: right;\">\n",
       "      <th></th>\n",
       "      <th>Id</th>\n",
       "      <th>Price</th>\n",
       "    </tr>\n",
       "  </thead>\n",
       "  <tbody>\n",
       "    <tr>\n",
       "      <th>0</th>\n",
       "      <td>4567</td>\n",
       "      <td>154599.495114</td>\n",
       "    </tr>\n",
       "    <tr>\n",
       "      <th>1</th>\n",
       "      <td>5925</td>\n",
       "      <td>126496.603296</td>\n",
       "    </tr>\n",
       "    <tr>\n",
       "      <th>2</th>\n",
       "      <td>960</td>\n",
       "      <td>136279.244333</td>\n",
       "    </tr>\n",
       "    <tr>\n",
       "      <th>3</th>\n",
       "      <td>3848</td>\n",
       "      <td>125705.159814</td>\n",
       "    </tr>\n",
       "    <tr>\n",
       "      <th>4</th>\n",
       "      <td>746</td>\n",
       "      <td>207731.677949</td>\n",
       "    </tr>\n",
       "  </tbody>\n",
       "</table>\n",
       "</div>"
      ],
      "text/plain": [
       "     Id          Price\n",
       "0  4567  154599.495114\n",
       "1  5925  126496.603296\n",
       "2   960  136279.244333\n",
       "3  3848  125705.159814\n",
       "4   746  207731.677949"
      ]
     },
     "execution_count": 93,
     "metadata": {},
     "output_type": "execute_result"
    }
   ],
   "source": [
    "submit['Price'] = predictions\n",
    "submit.head()"
   ]
  },
  {
   "cell_type": "code",
   "execution_count": 94,
   "metadata": {
    "execution": {
     "iopub.execute_input": "2022-06-15T12:30:42.947170Z",
     "iopub.status.busy": "2022-06-15T12:30:42.946509Z",
     "iopub.status.idle": "2022-06-15T12:30:43.193703Z",
     "shell.execute_reply": "2022-06-15T12:30:43.192970Z",
     "shell.execute_reply.started": "2022-06-15T12:20:44.393852Z"
    },
    "papermill": {
     "duration": 0.426284,
     "end_time": "2022-06-15T12:30:43.193839",
     "exception": false,
     "start_time": "2022-06-15T12:30:42.767555",
     "status": "completed"
    },
    "tags": []
   },
   "outputs": [],
   "source": [
    "submit.to_csv('prediction_sub.csv', index=False)"
   ]
  }
 ],
 "metadata": {
  "kernelspec": {
   "display_name": "Python 3",
   "language": "python",
   "name": "python3"
  },
  "language_info": {
   "codemirror_mode": {
    "name": "ipython",
    "version": 3
   },
   "file_extension": ".py",
   "mimetype": "text/x-python",
   "name": "python",
   "nbconvert_exporter": "python",
   "pygments_lexer": "ipython3",
   "version": "3.8.8"
  },
  "papermill": {
   "duration": 112.889937,
   "end_time": "2022-06-15T12:30:43.476170",
   "environment_variables": {},
   "exception": null,
   "input_path": "__notebook__.ipynb",
   "output_path": "__notebook__.ipynb",
   "parameters": {},
   "start_time": "2022-06-15T12:28:50.586233",
   "version": "2.1.0"
  }
 },
 "nbformat": 4,
 "nbformat_minor": 4
}
